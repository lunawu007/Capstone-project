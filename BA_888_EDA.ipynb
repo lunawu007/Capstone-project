{
  "nbformat": 4,
  "nbformat_minor": 0,
  "metadata": {
    "colab": {
      "name": "BA 888 - EDA.ipynb",
      "provenance": [],
      "collapsed_sections": []
    },
    "kernelspec": {
      "name": "python3",
      "display_name": "Python 3"
    },
    "accelerator": "GPU"
  },
  "cells": [
    {
      "cell_type": "code",
      "metadata": {
        "id": "-A1Iq9c9Sl3u",
        "colab_type": "code",
        "colab": {}
      },
      "source": [
        "import os\n",
        "import json\n",
        "import gzip\n",
        "import pandas as pd\n",
        "import numpy as np\n",
        "from urllib.request import urlopen"
      ],
      "execution_count": 0,
      "outputs": []
    },
    {
      "cell_type": "code",
      "metadata": {
        "id": "bN1WZMq-SrCJ",
        "colab_type": "code",
        "outputId": "b2b9e904-c512-4cbd-8277-f2521e140513",
        "colab": {
          "base_uri": "https://localhost:8080/",
          "height": 215
        }
      },
      "source": [
        "!wget http://deepyeti.ucsd.edu/jianmo/amazon/categoryFilesSmall/Cell_Phones_and_Accessories_5.json.gz"
      ],
      "execution_count": 0,
      "outputs": [
        {
          "output_type": "stream",
          "text": [
            "--2020-04-25 04:00:15--  http://deepyeti.ucsd.edu/jianmo/amazon/categoryFilesSmall/Cell_Phones_and_Accessories_5.json.gz\n",
            "Resolving deepyeti.ucsd.edu (deepyeti.ucsd.edu)... 169.228.63.50\n",
            "Connecting to deepyeti.ucsd.edu (deepyeti.ucsd.edu)|169.228.63.50|:80... connected.\n",
            "HTTP request sent, awaiting response... 200 OK\n",
            "Length: 169071325 (161M) [application/octet-stream]\n",
            "Saving to: ‘Cell_Phones_and_Accessories_5.json.gz’\n",
            "\n",
            "Cell_Phones_and_Acc 100%[===================>] 161.24M  10.9MB/s    in 16s     \n",
            "\n",
            "2020-04-25 04:00:31 (10.4 MB/s) - ‘Cell_Phones_and_Accessories_5.json.gz’ saved [169071325/169071325]\n",
            "\n"
          ],
          "name": "stdout"
        }
      ]
    },
    {
      "cell_type": "code",
      "metadata": {
        "id": "eHz91LkXTLkA",
        "colab_type": "code",
        "colab": {}
      },
      "source": [
        "data = []\n",
        "with gzip.open('Cell_Phones_and_Accessories_5.json.gz') as f:\n",
        "    for l in f:\n",
        "        data.append(json.loads(l.strip()))\n",
        "    \n",
        "# convert list into pandas dataframe\n",
        "df = pd.DataFrame.from_dict(data)"
      ],
      "execution_count": 0,
      "outputs": []
    },
    {
      "cell_type": "code",
      "metadata": {
        "id": "sQQMQQWPjhoK",
        "colab_type": "code",
        "outputId": "0ca12614-ad1e-478a-bac7-5aaec979fa9d",
        "colab": {
          "base_uri": "https://localhost:8080/",
          "height": 375
        }
      },
      "source": [
        "df['vote'].fillna('0', inplace=True)\n",
        "df3 = df.fillna('')\n",
        "df3['reviewTime'] = pd.to_datetime(df3['reviewTime'], format ='%m %d, %Y')\n",
        "df3.head()"
      ],
      "execution_count": 0,
      "outputs": [
        {
          "output_type": "execute_result",
          "data": {
            "text/html": [
              "<div>\n",
              "<style scoped>\n",
              "    .dataframe tbody tr th:only-of-type {\n",
              "        vertical-align: middle;\n",
              "    }\n",
              "\n",
              "    .dataframe tbody tr th {\n",
              "        vertical-align: top;\n",
              "    }\n",
              "\n",
              "    .dataframe thead th {\n",
              "        text-align: right;\n",
              "    }\n",
              "</style>\n",
              "<table border=\"1\" class=\"dataframe\">\n",
              "  <thead>\n",
              "    <tr style=\"text-align: right;\">\n",
              "      <th></th>\n",
              "      <th>overall</th>\n",
              "      <th>verified</th>\n",
              "      <th>reviewTime</th>\n",
              "      <th>reviewerID</th>\n",
              "      <th>asin</th>\n",
              "      <th>style</th>\n",
              "      <th>reviewerName</th>\n",
              "      <th>reviewText</th>\n",
              "      <th>summary</th>\n",
              "      <th>unixReviewTime</th>\n",
              "      <th>vote</th>\n",
              "      <th>image</th>\n",
              "    </tr>\n",
              "  </thead>\n",
              "  <tbody>\n",
              "    <tr>\n",
              "      <th>0</th>\n",
              "      <td>5.0</td>\n",
              "      <td>True</td>\n",
              "      <td>2014-08-04</td>\n",
              "      <td>A24E3SXTC62LJI</td>\n",
              "      <td>7508492919</td>\n",
              "      <td>{'Color:': ' Bling'}</td>\n",
              "      <td>Claudia Valdivia</td>\n",
              "      <td>Looks even better in person. Be careful to not...</td>\n",
              "      <td>Can't stop won't stop looking at it</td>\n",
              "      <td>1407110400</td>\n",
              "      <td>0</td>\n",
              "      <td></td>\n",
              "    </tr>\n",
              "    <tr>\n",
              "      <th>1</th>\n",
              "      <td>5.0</td>\n",
              "      <td>True</td>\n",
              "      <td>2014-02-12</td>\n",
              "      <td>A269FLZCB4GIPV</td>\n",
              "      <td>7508492919</td>\n",
              "      <td></td>\n",
              "      <td>sarah ponce</td>\n",
              "      <td>When you don't want to spend a whole lot of ca...</td>\n",
              "      <td>1</td>\n",
              "      <td>1392163200</td>\n",
              "      <td>0</td>\n",
              "      <td></td>\n",
              "    </tr>\n",
              "    <tr>\n",
              "      <th>2</th>\n",
              "      <td>3.0</td>\n",
              "      <td>True</td>\n",
              "      <td>2014-02-08</td>\n",
              "      <td>AB6CHQWHZW4TV</td>\n",
              "      <td>7508492919</td>\n",
              "      <td></td>\n",
              "      <td>Kai</td>\n",
              "      <td>so the case came on time, i love the design. I...</td>\n",
              "      <td>Its okay</td>\n",
              "      <td>1391817600</td>\n",
              "      <td>0</td>\n",
              "      <td></td>\n",
              "    </tr>\n",
              "    <tr>\n",
              "      <th>3</th>\n",
              "      <td>2.0</td>\n",
              "      <td>True</td>\n",
              "      <td>2014-02-04</td>\n",
              "      <td>A1M117A53LEI8</td>\n",
              "      <td>7508492919</td>\n",
              "      <td></td>\n",
              "      <td>Sharon Williams</td>\n",
              "      <td>DON'T CARE FOR IT.  GAVE IT AS A GIFT AND THEY...</td>\n",
              "      <td>CASE</td>\n",
              "      <td>1391472000</td>\n",
              "      <td>0</td>\n",
              "      <td></td>\n",
              "    </tr>\n",
              "    <tr>\n",
              "      <th>4</th>\n",
              "      <td>4.0</td>\n",
              "      <td>True</td>\n",
              "      <td>2014-02-03</td>\n",
              "      <td>A272DUT8M88ZS8</td>\n",
              "      <td>7508492919</td>\n",
              "      <td></td>\n",
              "      <td>Bella Rodriguez</td>\n",
              "      <td>I liked it because it was cute, but the studs ...</td>\n",
              "      <td>Cute!</td>\n",
              "      <td>1391385600</td>\n",
              "      <td>0</td>\n",
              "      <td></td>\n",
              "    </tr>\n",
              "  </tbody>\n",
              "</table>\n",
              "</div>"
            ],
            "text/plain": [
              "   overall  verified reviewTime  ... unixReviewTime vote image\n",
              "0      5.0      True 2014-08-04  ...     1407110400    0      \n",
              "1      5.0      True 2014-02-12  ...     1392163200    0      \n",
              "2      3.0      True 2014-02-08  ...     1391817600    0      \n",
              "3      2.0      True 2014-02-04  ...     1391472000    0      \n",
              "4      4.0      True 2014-02-03  ...     1391385600    0      \n",
              "\n",
              "[5 rows x 12 columns]"
            ]
          },
          "metadata": {
            "tags": []
          },
          "execution_count": 5
        }
      ]
    },
    {
      "cell_type": "code",
      "metadata": {
        "id": "UqXXcrVOqaSQ",
        "colab_type": "code",
        "outputId": "20f5bcf5-6840-49e1-a400-d1d92384a584",
        "colab": {
          "base_uri": "https://localhost:8080/",
          "height": 107
        }
      },
      "source": [
        "df1 = df3.loc[:,['reviewTime','asin','reviewerID','vote']]\n",
        "df1.dtypes"
      ],
      "execution_count": 0,
      "outputs": [
        {
          "output_type": "execute_result",
          "data": {
            "text/plain": [
              "reviewTime    datetime64[ns]\n",
              "asin                  object\n",
              "reviewerID            object\n",
              "vote                  object\n",
              "dtype: object"
            ]
          },
          "metadata": {
            "tags": []
          },
          "execution_count": 6
        }
      ]
    },
    {
      "cell_type": "code",
      "metadata": {
        "id": "vgkwiXCzQPtv",
        "colab_type": "code",
        "outputId": "e77f1518-6617-4c8c-af74-f0047d035231",
        "colab": {
          "base_uri": "https://localhost:8080/",
          "height": 202
        }
      },
      "source": [
        "df2 = df3.loc[:,['reviewText']]\n",
        "df2[\"nb_words\"] = df2[\"reviewText\"].apply(lambda x: len(x.split(\" \")))\n",
        "df2.head()"
      ],
      "execution_count": 0,
      "outputs": [
        {
          "output_type": "execute_result",
          "data": {
            "text/html": [
              "<div>\n",
              "<style scoped>\n",
              "    .dataframe tbody tr th:only-of-type {\n",
              "        vertical-align: middle;\n",
              "    }\n",
              "\n",
              "    .dataframe tbody tr th {\n",
              "        vertical-align: top;\n",
              "    }\n",
              "\n",
              "    .dataframe thead th {\n",
              "        text-align: right;\n",
              "    }\n",
              "</style>\n",
              "<table border=\"1\" class=\"dataframe\">\n",
              "  <thead>\n",
              "    <tr style=\"text-align: right;\">\n",
              "      <th></th>\n",
              "      <th>reviewText</th>\n",
              "      <th>nb_words</th>\n",
              "    </tr>\n",
              "  </thead>\n",
              "  <tbody>\n",
              "    <tr>\n",
              "      <th>0</th>\n",
              "      <td>Looks even better in person. Be careful to not...</td>\n",
              "      <td>49</td>\n",
              "    </tr>\n",
              "    <tr>\n",
              "      <th>1</th>\n",
              "      <td>When you don't want to spend a whole lot of ca...</td>\n",
              "      <td>22</td>\n",
              "    </tr>\n",
              "    <tr>\n",
              "      <th>2</th>\n",
              "      <td>so the case came on time, i love the design. I...</td>\n",
              "      <td>51</td>\n",
              "    </tr>\n",
              "    <tr>\n",
              "      <th>3</th>\n",
              "      <td>DON'T CARE FOR IT.  GAVE IT AS A GIFT AND THEY...</td>\n",
              "      <td>22</td>\n",
              "    </tr>\n",
              "    <tr>\n",
              "      <th>4</th>\n",
              "      <td>I liked it because it was cute, but the studs ...</td>\n",
              "      <td>31</td>\n",
              "    </tr>\n",
              "  </tbody>\n",
              "</table>\n",
              "</div>"
            ],
            "text/plain": [
              "                                          reviewText  nb_words\n",
              "0  Looks even better in person. Be careful to not...        49\n",
              "1  When you don't want to spend a whole lot of ca...        22\n",
              "2  so the case came on time, i love the design. I...        51\n",
              "3  DON'T CARE FOR IT.  GAVE IT AS A GIFT AND THEY...        22\n",
              "4  I liked it because it was cute, but the studs ...        31"
            ]
          },
          "metadata": {
            "tags": []
          },
          "execution_count": 21
        }
      ]
    },
    {
      "cell_type": "code",
      "metadata": {
        "id": "k9lv3eZ5jxYL",
        "colab_type": "code",
        "colab": {}
      },
      "source": [
        "df1['vote'] = df1['vote'].astype(str)\n",
        "df1['vote'] = df1['vote'].str.replace(\",\",\"\")\n",
        "df1['vote'] = df1['vote'].astype(int)"
      ],
      "execution_count": 0,
      "outputs": []
    },
    {
      "cell_type": "code",
      "metadata": {
        "id": "rVzX7-q3lRpo",
        "colab_type": "code",
        "outputId": "3eee8811-aacc-4bff-81c8-7cd2aebd64f7",
        "colab": {
          "base_uri": "https://localhost:8080/",
          "height": 446
        }
      },
      "source": [
        "influencers = df1.sort_values('vote', ascending=False).drop_duplicates(['asin','reviewerID'],keep='last') #range order it by the vote, find the max.\n",
        "#influencers = influencers[(influencers['vote'] > 100)]\n",
        "influencers['reviewTime'] = pd.DatetimeIndex(influencers['reviewTime'], dtype='datetime64[ns]', freq=None)\n",
        "influencers = influencers.set_index('reviewTime')\n",
        "influencers['Year'] = influencers.index.year\n",
        "influencers['Time'] = influencers.index\n",
        "influencers['enddates'] = pd.to_datetime(\"'2018-10-02'\".replace(\"'\",\"\"))\n",
        "influencers.head(500)"
      ],
      "execution_count": 0,
      "outputs": [
        {
          "output_type": "execute_result",
          "data": {
            "text/html": [
              "<div>\n",
              "<style scoped>\n",
              "    .dataframe tbody tr th:only-of-type {\n",
              "        vertical-align: middle;\n",
              "    }\n",
              "\n",
              "    .dataframe tbody tr th {\n",
              "        vertical-align: top;\n",
              "    }\n",
              "\n",
              "    .dataframe thead th {\n",
              "        text-align: right;\n",
              "    }\n",
              "</style>\n",
              "<table border=\"1\" class=\"dataframe\">\n",
              "  <thead>\n",
              "    <tr style=\"text-align: right;\">\n",
              "      <th></th>\n",
              "      <th>asin</th>\n",
              "      <th>reviewerID</th>\n",
              "      <th>vote</th>\n",
              "      <th>Year</th>\n",
              "      <th>Time</th>\n",
              "      <th>enddates</th>\n",
              "    </tr>\n",
              "    <tr>\n",
              "      <th>reviewTime</th>\n",
              "      <th></th>\n",
              "      <th></th>\n",
              "      <th></th>\n",
              "      <th></th>\n",
              "      <th></th>\n",
              "      <th></th>\n",
              "    </tr>\n",
              "  </thead>\n",
              "  <tbody>\n",
              "    <tr>\n",
              "      <th>2015-08-21</th>\n",
              "      <td>B00X5RV14Y</td>\n",
              "      <td>AQJ824C2JST96</td>\n",
              "      <td>2038</td>\n",
              "      <td>2015</td>\n",
              "      <td>2015-08-21</td>\n",
              "      <td>2018-10-02</td>\n",
              "    </tr>\n",
              "    <tr>\n",
              "      <th>2016-07-14</th>\n",
              "      <td>B01F9N5QXI</td>\n",
              "      <td>A22QN0P5ERNOKR</td>\n",
              "      <td>1737</td>\n",
              "      <td>2016</td>\n",
              "      <td>2016-07-14</td>\n",
              "      <td>2018-10-02</td>\n",
              "    </tr>\n",
              "    <tr>\n",
              "      <th>2016-02-05</th>\n",
              "      <td>B019O8YWXE</td>\n",
              "      <td>A1BDNTBJ0JWXSL</td>\n",
              "      <td>1410</td>\n",
              "      <td>2016</td>\n",
              "      <td>2016-02-05</td>\n",
              "      <td>2018-10-02</td>\n",
              "    </tr>\n",
              "    <tr>\n",
              "      <th>2015-04-30</th>\n",
              "      <td>B00UVSNVHA</td>\n",
              "      <td>A284QS51P9P9V1</td>\n",
              "      <td>1355</td>\n",
              "      <td>2015</td>\n",
              "      <td>2015-04-30</td>\n",
              "      <td>2018-10-02</td>\n",
              "    </tr>\n",
              "    <tr>\n",
              "      <th>2015-12-28</th>\n",
              "      <td>B0176HQ1O8</td>\n",
              "      <td>AT63Q5FKZEJ4I</td>\n",
              "      <td>1239</td>\n",
              "      <td>2015</td>\n",
              "      <td>2015-12-28</td>\n",
              "      <td>2018-10-02</td>\n",
              "    </tr>\n",
              "    <tr>\n",
              "      <th>...</th>\n",
              "      <td>...</td>\n",
              "      <td>...</td>\n",
              "      <td>...</td>\n",
              "      <td>...</td>\n",
              "      <td>...</td>\n",
              "      <td>...</td>\n",
              "    </tr>\n",
              "    <tr>\n",
              "      <th>2013-10-17</th>\n",
              "      <td>B00EF1OGOG</td>\n",
              "      <td>A2DKQQIZ793AV5</td>\n",
              "      <td>167</td>\n",
              "      <td>2013</td>\n",
              "      <td>2013-10-17</td>\n",
              "      <td>2018-10-02</td>\n",
              "    </tr>\n",
              "    <tr>\n",
              "      <th>2016-03-07</th>\n",
              "      <td>B01CJSF8IO</td>\n",
              "      <td>A2NWYAY4JJACDU</td>\n",
              "      <td>167</td>\n",
              "      <td>2016</td>\n",
              "      <td>2016-03-07</td>\n",
              "      <td>2018-10-02</td>\n",
              "    </tr>\n",
              "    <tr>\n",
              "      <th>2016-02-09</th>\n",
              "      <td>B017IAK70C</td>\n",
              "      <td>A1LWQSXHJPPPUX</td>\n",
              "      <td>166</td>\n",
              "      <td>2016</td>\n",
              "      <td>2016-02-09</td>\n",
              "      <td>2018-10-02</td>\n",
              "    </tr>\n",
              "    <tr>\n",
              "      <th>2013-04-29</th>\n",
              "      <td>B009E6THYG</td>\n",
              "      <td>A1HN2ZEPOV8JOG</td>\n",
              "      <td>165</td>\n",
              "      <td>2013</td>\n",
              "      <td>2013-04-29</td>\n",
              "      <td>2018-10-02</td>\n",
              "    </tr>\n",
              "    <tr>\n",
              "      <th>2010-11-24</th>\n",
              "      <td>B00385Y30C</td>\n",
              "      <td>ABDR6IJ93HFIO</td>\n",
              "      <td>165</td>\n",
              "      <td>2010</td>\n",
              "      <td>2010-11-24</td>\n",
              "      <td>2018-10-02</td>\n",
              "    </tr>\n",
              "  </tbody>\n",
              "</table>\n",
              "<p>500 rows × 6 columns</p>\n",
              "</div>"
            ],
            "text/plain": [
              "                  asin      reviewerID  vote  Year       Time   enddates\n",
              "reviewTime                                                              \n",
              "2015-08-21  B00X5RV14Y   AQJ824C2JST96  2038  2015 2015-08-21 2018-10-02\n",
              "2016-07-14  B01F9N5QXI  A22QN0P5ERNOKR  1737  2016 2016-07-14 2018-10-02\n",
              "2016-02-05  B019O8YWXE  A1BDNTBJ0JWXSL  1410  2016 2016-02-05 2018-10-02\n",
              "2015-04-30  B00UVSNVHA  A284QS51P9P9V1  1355  2015 2015-04-30 2018-10-02\n",
              "2015-12-28  B0176HQ1O8   AT63Q5FKZEJ4I  1239  2015 2015-12-28 2018-10-02\n",
              "...                ...             ...   ...   ...        ...        ...\n",
              "2013-10-17  B00EF1OGOG  A2DKQQIZ793AV5   167  2013 2013-10-17 2018-10-02\n",
              "2016-03-07  B01CJSF8IO  A2NWYAY4JJACDU   167  2016 2016-03-07 2018-10-02\n",
              "2016-02-09  B017IAK70C  A1LWQSXHJPPPUX   166  2016 2016-02-09 2018-10-02\n",
              "2013-04-29  B009E6THYG  A1HN2ZEPOV8JOG   165  2013 2013-04-29 2018-10-02\n",
              "2010-11-24  B00385Y30C   ABDR6IJ93HFIO   165  2010 2010-11-24 2018-10-02\n",
              "\n",
              "[500 rows x 6 columns]"
            ]
          },
          "metadata": {
            "tags": []
          },
          "execution_count": 8
        }
      ]
    },
    {
      "cell_type": "code",
      "metadata": {
        "id": "qf1lnXXVgMbd",
        "colab_type": "code",
        "outputId": "98b1d18c-c212-4f0d-8fc4-6726f555dc22",
        "colab": {
          "base_uri": "https://localhost:8080/",
          "height": 446
        }
      },
      "source": [
        "influencers.loc[influencers['asin'] == 'B004877KOK']"
      ],
      "execution_count": 0,
      "outputs": [
        {
          "output_type": "execute_result",
          "data": {
            "text/html": [
              "<div>\n",
              "<style scoped>\n",
              "    .dataframe tbody tr th:only-of-type {\n",
              "        vertical-align: middle;\n",
              "    }\n",
              "\n",
              "    .dataframe tbody tr th {\n",
              "        vertical-align: top;\n",
              "    }\n",
              "\n",
              "    .dataframe thead th {\n",
              "        text-align: right;\n",
              "    }\n",
              "</style>\n",
              "<table border=\"1\" class=\"dataframe\">\n",
              "  <thead>\n",
              "    <tr style=\"text-align: right;\">\n",
              "      <th></th>\n",
              "      <th>asin</th>\n",
              "      <th>reviewerID</th>\n",
              "      <th>vote</th>\n",
              "      <th>Year</th>\n",
              "      <th>Time</th>\n",
              "      <th>enddates</th>\n",
              "    </tr>\n",
              "    <tr>\n",
              "      <th>reviewTime</th>\n",
              "      <th></th>\n",
              "      <th></th>\n",
              "      <th></th>\n",
              "      <th></th>\n",
              "      <th></th>\n",
              "      <th></th>\n",
              "    </tr>\n",
              "  </thead>\n",
              "  <tbody>\n",
              "    <tr>\n",
              "      <th>2011-03-17</th>\n",
              "      <td>B004877KOK</td>\n",
              "      <td>A13MKSASQ6YWL7</td>\n",
              "      <td>562</td>\n",
              "      <td>2011</td>\n",
              "      <td>2011-03-17</td>\n",
              "      <td>2018-10-02</td>\n",
              "    </tr>\n",
              "    <tr>\n",
              "      <th>2011-02-20</th>\n",
              "      <td>B004877KOK</td>\n",
              "      <td>AGVWTYW0ULXHT</td>\n",
              "      <td>402</td>\n",
              "      <td>2011</td>\n",
              "      <td>2011-02-20</td>\n",
              "      <td>2018-10-02</td>\n",
              "    </tr>\n",
              "    <tr>\n",
              "      <th>2011-01-30</th>\n",
              "      <td>B004877KOK</td>\n",
              "      <td>A3JUHP1E3WUHEA</td>\n",
              "      <td>39</td>\n",
              "      <td>2011</td>\n",
              "      <td>2011-01-30</td>\n",
              "      <td>2018-10-02</td>\n",
              "    </tr>\n",
              "    <tr>\n",
              "      <th>2011-02-16</th>\n",
              "      <td>B004877KOK</td>\n",
              "      <td>A20VG5W98SX99L</td>\n",
              "      <td>32</td>\n",
              "      <td>2011</td>\n",
              "      <td>2011-02-16</td>\n",
              "      <td>2018-10-02</td>\n",
              "    </tr>\n",
              "    <tr>\n",
              "      <th>2011-11-12</th>\n",
              "      <td>B004877KOK</td>\n",
              "      <td>A14MOU9MF0NNVB</td>\n",
              "      <td>16</td>\n",
              "      <td>2011</td>\n",
              "      <td>2011-11-12</td>\n",
              "      <td>2018-10-02</td>\n",
              "    </tr>\n",
              "    <tr>\n",
              "      <th>...</th>\n",
              "      <td>...</td>\n",
              "      <td>...</td>\n",
              "      <td>...</td>\n",
              "      <td>...</td>\n",
              "      <td>...</td>\n",
              "      <td>...</td>\n",
              "    </tr>\n",
              "    <tr>\n",
              "      <th>2013-08-20</th>\n",
              "      <td>B004877KOK</td>\n",
              "      <td>AOYLVXJ38ELZ1</td>\n",
              "      <td>0</td>\n",
              "      <td>2013</td>\n",
              "      <td>2013-08-20</td>\n",
              "      <td>2018-10-02</td>\n",
              "    </tr>\n",
              "    <tr>\n",
              "      <th>2013-07-27</th>\n",
              "      <td>B004877KOK</td>\n",
              "      <td>A31N0XY2UTB25C</td>\n",
              "      <td>0</td>\n",
              "      <td>2013</td>\n",
              "      <td>2013-07-27</td>\n",
              "      <td>2018-10-02</td>\n",
              "    </tr>\n",
              "    <tr>\n",
              "      <th>2013-07-15</th>\n",
              "      <td>B004877KOK</td>\n",
              "      <td>A6Q0RYDVNC08V</td>\n",
              "      <td>0</td>\n",
              "      <td>2013</td>\n",
              "      <td>2013-07-15</td>\n",
              "      <td>2018-10-02</td>\n",
              "    </tr>\n",
              "    <tr>\n",
              "      <th>2013-07-04</th>\n",
              "      <td>B004877KOK</td>\n",
              "      <td>A1VYD5CM2I44R1</td>\n",
              "      <td>0</td>\n",
              "      <td>2013</td>\n",
              "      <td>2013-07-04</td>\n",
              "      <td>2018-10-02</td>\n",
              "    </tr>\n",
              "    <tr>\n",
              "      <th>2013-06-25</th>\n",
              "      <td>B004877KOK</td>\n",
              "      <td>A286WOLHZVY0VN</td>\n",
              "      <td>0</td>\n",
              "      <td>2013</td>\n",
              "      <td>2013-06-25</td>\n",
              "      <td>2018-10-02</td>\n",
              "    </tr>\n",
              "  </tbody>\n",
              "</table>\n",
              "<p>129 rows × 6 columns</p>\n",
              "</div>"
            ],
            "text/plain": [
              "                  asin      reviewerID  vote  Year       Time   enddates\n",
              "reviewTime                                                              \n",
              "2011-03-17  B004877KOK  A13MKSASQ6YWL7   562  2011 2011-03-17 2018-10-02\n",
              "2011-02-20  B004877KOK   AGVWTYW0ULXHT   402  2011 2011-02-20 2018-10-02\n",
              "2011-01-30  B004877KOK  A3JUHP1E3WUHEA    39  2011 2011-01-30 2018-10-02\n",
              "2011-02-16  B004877KOK  A20VG5W98SX99L    32  2011 2011-02-16 2018-10-02\n",
              "2011-11-12  B004877KOK  A14MOU9MF0NNVB    16  2011 2011-11-12 2018-10-02\n",
              "...                ...             ...   ...   ...        ...        ...\n",
              "2013-08-20  B004877KOK   AOYLVXJ38ELZ1     0  2013 2013-08-20 2018-10-02\n",
              "2013-07-27  B004877KOK  A31N0XY2UTB25C     0  2013 2013-07-27 2018-10-02\n",
              "2013-07-15  B004877KOK   A6Q0RYDVNC08V     0  2013 2013-07-15 2018-10-02\n",
              "2013-07-04  B004877KOK  A1VYD5CM2I44R1     0  2013 2013-07-04 2018-10-02\n",
              "2013-06-25  B004877KOK  A286WOLHZVY0VN     0  2013 2013-06-25 2018-10-02\n",
              "\n",
              "[129 rows x 6 columns]"
            ]
          },
          "metadata": {
            "tags": []
          },
          "execution_count": 9
        }
      ]
    },
    {
      "cell_type": "code",
      "metadata": {
        "id": "PvsQTNsZHW4o",
        "colab_type": "code",
        "outputId": "df0db597-f582-4c75-d02b-6d4dff9ab3c0",
        "colab": {
          "base_uri": "https://localhost:8080/",
          "height": 161
        }
      },
      "source": [
        "influencers['duration'] = influencers['enddates'] - influencers['Time']\n",
        "influencers['duration'] = influencers['duration'] / np.timedelta64(1, 'D')\n",
        "influencers.dtypes"
      ],
      "execution_count": 0,
      "outputs": [
        {
          "output_type": "execute_result",
          "data": {
            "text/plain": [
              "asin                  object\n",
              "reviewerID            object\n",
              "vote                   int64\n",
              "Year                   int64\n",
              "Time          datetime64[ns]\n",
              "enddates      datetime64[ns]\n",
              "duration             float64\n",
              "dtype: object"
            ]
          },
          "metadata": {
            "tags": []
          },
          "execution_count": 43
        }
      ]
    },
    {
      "cell_type": "code",
      "metadata": {
        "id": "tUV5aCcRHtLc",
        "colab_type": "code",
        "outputId": "72109b52-b2f7-4eed-ae9b-69bb3ff0cec5",
        "colab": {
          "base_uri": "https://localhost:8080/",
          "height": 233
        }
      },
      "source": [
        "influencers.head()"
      ],
      "execution_count": 0,
      "outputs": [
        {
          "output_type": "execute_result",
          "data": {
            "text/html": [
              "<div>\n",
              "<style scoped>\n",
              "    .dataframe tbody tr th:only-of-type {\n",
              "        vertical-align: middle;\n",
              "    }\n",
              "\n",
              "    .dataframe tbody tr th {\n",
              "        vertical-align: top;\n",
              "    }\n",
              "\n",
              "    .dataframe thead th {\n",
              "        text-align: right;\n",
              "    }\n",
              "</style>\n",
              "<table border=\"1\" class=\"dataframe\">\n",
              "  <thead>\n",
              "    <tr style=\"text-align: right;\">\n",
              "      <th></th>\n",
              "      <th>asin</th>\n",
              "      <th>reviewerID</th>\n",
              "      <th>vote</th>\n",
              "      <th>Year</th>\n",
              "      <th>Time</th>\n",
              "      <th>enddates</th>\n",
              "      <th>duration</th>\n",
              "    </tr>\n",
              "    <tr>\n",
              "      <th>reviewTime</th>\n",
              "      <th></th>\n",
              "      <th></th>\n",
              "      <th></th>\n",
              "      <th></th>\n",
              "      <th></th>\n",
              "      <th></th>\n",
              "      <th></th>\n",
              "    </tr>\n",
              "  </thead>\n",
              "  <tbody>\n",
              "    <tr>\n",
              "      <th>2015-08-21</th>\n",
              "      <td>B00X5RV14Y</td>\n",
              "      <td>AQJ824C2JST96</td>\n",
              "      <td>2038</td>\n",
              "      <td>2015</td>\n",
              "      <td>2015-08-21</td>\n",
              "      <td>2018-10-02</td>\n",
              "      <td>1138.0</td>\n",
              "    </tr>\n",
              "    <tr>\n",
              "      <th>2016-07-14</th>\n",
              "      <td>B01F9N5QXI</td>\n",
              "      <td>A22QN0P5ERNOKR</td>\n",
              "      <td>1737</td>\n",
              "      <td>2016</td>\n",
              "      <td>2016-07-14</td>\n",
              "      <td>2018-10-02</td>\n",
              "      <td>810.0</td>\n",
              "    </tr>\n",
              "    <tr>\n",
              "      <th>2016-02-05</th>\n",
              "      <td>B019O8YWXE</td>\n",
              "      <td>A1BDNTBJ0JWXSL</td>\n",
              "      <td>1410</td>\n",
              "      <td>2016</td>\n",
              "      <td>2016-02-05</td>\n",
              "      <td>2018-10-02</td>\n",
              "      <td>970.0</td>\n",
              "    </tr>\n",
              "    <tr>\n",
              "      <th>2015-04-30</th>\n",
              "      <td>B00UVSNVHA</td>\n",
              "      <td>A284QS51P9P9V1</td>\n",
              "      <td>1355</td>\n",
              "      <td>2015</td>\n",
              "      <td>2015-04-30</td>\n",
              "      <td>2018-10-02</td>\n",
              "      <td>1251.0</td>\n",
              "    </tr>\n",
              "    <tr>\n",
              "      <th>2015-12-28</th>\n",
              "      <td>B0176HQ1O8</td>\n",
              "      <td>AT63Q5FKZEJ4I</td>\n",
              "      <td>1239</td>\n",
              "      <td>2015</td>\n",
              "      <td>2015-12-28</td>\n",
              "      <td>2018-10-02</td>\n",
              "      <td>1009.0</td>\n",
              "    </tr>\n",
              "  </tbody>\n",
              "</table>\n",
              "</div>"
            ],
            "text/plain": [
              "                  asin      reviewerID  vote  ...       Time   enddates duration\n",
              "reviewTime                                    ...                               \n",
              "2015-08-21  B00X5RV14Y   AQJ824C2JST96  2038  ... 2015-08-21 2018-10-02   1138.0\n",
              "2016-07-14  B01F9N5QXI  A22QN0P5ERNOKR  1737  ... 2016-07-14 2018-10-02    810.0\n",
              "2016-02-05  B019O8YWXE  A1BDNTBJ0JWXSL  1410  ... 2016-02-05 2018-10-02    970.0\n",
              "2015-04-30  B00UVSNVHA  A284QS51P9P9V1  1355  ... 2015-04-30 2018-10-02   1251.0\n",
              "2015-12-28  B0176HQ1O8   AT63Q5FKZEJ4I  1239  ... 2015-12-28 2018-10-02   1009.0\n",
              "\n",
              "[5 rows x 7 columns]"
            ]
          },
          "metadata": {
            "tags": []
          },
          "execution_count": 44
        }
      ]
    },
    {
      "cell_type": "code",
      "metadata": {
        "id": "vRjdNsM-I3Ix",
        "colab_type": "code",
        "outputId": "6335f2da-1818-4759-d4db-745e7c9bef57",
        "colab": {
          "base_uri": "https://localhost:8080/",
          "height": 446
        }
      },
      "source": [
        "influencers['duration_year'] = influencers['duration'] / 365\n",
        "influencers['average'] = influencers['vote'] / influencers['duration_year']\n",
        "influencers.sort_values('average', ascending = False).head(1000)"
      ],
      "execution_count": 0,
      "outputs": [
        {
          "output_type": "execute_result",
          "data": {
            "text/html": [
              "<div>\n",
              "<style scoped>\n",
              "    .dataframe tbody tr th:only-of-type {\n",
              "        vertical-align: middle;\n",
              "    }\n",
              "\n",
              "    .dataframe tbody tr th {\n",
              "        vertical-align: top;\n",
              "    }\n",
              "\n",
              "    .dataframe thead th {\n",
              "        text-align: right;\n",
              "    }\n",
              "</style>\n",
              "<table border=\"1\" class=\"dataframe\">\n",
              "  <thead>\n",
              "    <tr style=\"text-align: right;\">\n",
              "      <th></th>\n",
              "      <th>asin</th>\n",
              "      <th>reviewerID</th>\n",
              "      <th>vote</th>\n",
              "      <th>Year</th>\n",
              "      <th>Time</th>\n",
              "      <th>enddates</th>\n",
              "      <th>duration</th>\n",
              "      <th>duration_year</th>\n",
              "      <th>average</th>\n",
              "    </tr>\n",
              "    <tr>\n",
              "      <th>reviewTime</th>\n",
              "      <th></th>\n",
              "      <th></th>\n",
              "      <th></th>\n",
              "      <th></th>\n",
              "      <th></th>\n",
              "      <th></th>\n",
              "      <th></th>\n",
              "      <th></th>\n",
              "      <th></th>\n",
              "    </tr>\n",
              "  </thead>\n",
              "  <tbody>\n",
              "    <tr>\n",
              "      <th>2016-07-14</th>\n",
              "      <td>B01F9N5QXI</td>\n",
              "      <td>A22QN0P5ERNOKR</td>\n",
              "      <td>1737</td>\n",
              "      <td>2016</td>\n",
              "      <td>2016-07-14</td>\n",
              "      <td>2018-10-02</td>\n",
              "      <td>810.0</td>\n",
              "      <td>2.219178</td>\n",
              "      <td>782.722222</td>\n",
              "    </tr>\n",
              "    <tr>\n",
              "      <th>2015-08-21</th>\n",
              "      <td>B00X5RV14Y</td>\n",
              "      <td>AQJ824C2JST96</td>\n",
              "      <td>2038</td>\n",
              "      <td>2015</td>\n",
              "      <td>2015-08-21</td>\n",
              "      <td>2018-10-02</td>\n",
              "      <td>1138.0</td>\n",
              "      <td>3.117808</td>\n",
              "      <td>653.664323</td>\n",
              "    </tr>\n",
              "    <tr>\n",
              "      <th>2016-02-05</th>\n",
              "      <td>B019O8YWXE</td>\n",
              "      <td>A1BDNTBJ0JWXSL</td>\n",
              "      <td>1410</td>\n",
              "      <td>2016</td>\n",
              "      <td>2016-02-05</td>\n",
              "      <td>2018-10-02</td>\n",
              "      <td>970.0</td>\n",
              "      <td>2.657534</td>\n",
              "      <td>530.567010</td>\n",
              "    </tr>\n",
              "    <tr>\n",
              "      <th>2016-04-28</th>\n",
              "      <td>B0196GQAKM</td>\n",
              "      <td>A3CLNI0ID1OON8</td>\n",
              "      <td>1147</td>\n",
              "      <td>2016</td>\n",
              "      <td>2016-04-28</td>\n",
              "      <td>2018-10-02</td>\n",
              "      <td>887.0</td>\n",
              "      <td>2.430137</td>\n",
              "      <td>471.989853</td>\n",
              "    </tr>\n",
              "    <tr>\n",
              "      <th>2016-09-25</th>\n",
              "      <td>B01DRV2BBY</td>\n",
              "      <td>A2NB2E5DXE319Z</td>\n",
              "      <td>927</td>\n",
              "      <td>2016</td>\n",
              "      <td>2016-09-25</td>\n",
              "      <td>2018-10-02</td>\n",
              "      <td>737.0</td>\n",
              "      <td>2.019178</td>\n",
              "      <td>459.097693</td>\n",
              "    </tr>\n",
              "    <tr>\n",
              "      <th>...</th>\n",
              "      <td>...</td>\n",
              "      <td>...</td>\n",
              "      <td>...</td>\n",
              "      <td>...</td>\n",
              "      <td>...</td>\n",
              "      <td>...</td>\n",
              "      <td>...</td>\n",
              "      <td>...</td>\n",
              "      <td>...</td>\n",
              "    </tr>\n",
              "    <tr>\n",
              "      <th>2016-09-03</th>\n",
              "      <td>B013KCS4CA</td>\n",
              "      <td>A3KBPJCH9WLD42</td>\n",
              "      <td>62</td>\n",
              "      <td>2016</td>\n",
              "      <td>2016-09-03</td>\n",
              "      <td>2018-10-02</td>\n",
              "      <td>759.0</td>\n",
              "      <td>2.079452</td>\n",
              "      <td>29.815547</td>\n",
              "    </tr>\n",
              "    <tr>\n",
              "      <th>2017-02-21</th>\n",
              "      <td>B01G1XUCA2</td>\n",
              "      <td>AWYO0XPLYPA25</td>\n",
              "      <td>48</td>\n",
              "      <td>2017</td>\n",
              "      <td>2017-02-21</td>\n",
              "      <td>2018-10-02</td>\n",
              "      <td>588.0</td>\n",
              "      <td>1.610959</td>\n",
              "      <td>29.795918</td>\n",
              "    </tr>\n",
              "    <tr>\n",
              "      <th>2016-02-19</th>\n",
              "      <td>B00Q9EDPI0</td>\n",
              "      <td>AJBHBY6FHBP5N</td>\n",
              "      <td>78</td>\n",
              "      <td>2016</td>\n",
              "      <td>2016-02-19</td>\n",
              "      <td>2018-10-02</td>\n",
              "      <td>956.0</td>\n",
              "      <td>2.619178</td>\n",
              "      <td>29.780335</td>\n",
              "    </tr>\n",
              "    <tr>\n",
              "      <th>2011-08-08</th>\n",
              "      <td>B002CCUWKM</td>\n",
              "      <td>A3BX6DLLTHQ9GJ</td>\n",
              "      <td>213</td>\n",
              "      <td>2011</td>\n",
              "      <td>2011-08-08</td>\n",
              "      <td>2018-10-02</td>\n",
              "      <td>2612.0</td>\n",
              "      <td>7.156164</td>\n",
              "      <td>29.764548</td>\n",
              "    </tr>\n",
              "    <tr>\n",
              "      <th>2017-01-02</th>\n",
              "      <td>B00UAP9UW4</td>\n",
              "      <td>A2JSVPPY6S5P8T</td>\n",
              "      <td>52</td>\n",
              "      <td>2017</td>\n",
              "      <td>2017-01-02</td>\n",
              "      <td>2018-10-02</td>\n",
              "      <td>638.0</td>\n",
              "      <td>1.747945</td>\n",
              "      <td>29.749216</td>\n",
              "    </tr>\n",
              "  </tbody>\n",
              "</table>\n",
              "<p>1000 rows × 9 columns</p>\n",
              "</div>"
            ],
            "text/plain": [
              "                  asin      reviewerID  ...  duration_year     average\n",
              "reviewTime                              ...                           \n",
              "2016-07-14  B01F9N5QXI  A22QN0P5ERNOKR  ...       2.219178  782.722222\n",
              "2015-08-21  B00X5RV14Y   AQJ824C2JST96  ...       3.117808  653.664323\n",
              "2016-02-05  B019O8YWXE  A1BDNTBJ0JWXSL  ...       2.657534  530.567010\n",
              "2016-04-28  B0196GQAKM  A3CLNI0ID1OON8  ...       2.430137  471.989853\n",
              "2016-09-25  B01DRV2BBY  A2NB2E5DXE319Z  ...       2.019178  459.097693\n",
              "...                ...             ...  ...            ...         ...\n",
              "2016-09-03  B013KCS4CA  A3KBPJCH9WLD42  ...       2.079452   29.815547\n",
              "2017-02-21  B01G1XUCA2   AWYO0XPLYPA25  ...       1.610959   29.795918\n",
              "2016-02-19  B00Q9EDPI0   AJBHBY6FHBP5N  ...       2.619178   29.780335\n",
              "2011-08-08  B002CCUWKM  A3BX6DLLTHQ9GJ  ...       7.156164   29.764548\n",
              "2017-01-02  B00UAP9UW4  A2JSVPPY6S5P8T  ...       1.747945   29.749216\n",
              "\n",
              "[1000 rows x 9 columns]"
            ]
          },
          "metadata": {
            "tags": []
          },
          "execution_count": 45
        }
      ]
    },
    {
      "cell_type": "code",
      "metadata": {
        "id": "-6-UjJx0msUG",
        "colab_type": "code",
        "outputId": "6426e818-850b-4bc7-8c00-eb9910a8c8fb",
        "colab": {
          "base_uri": "https://localhost:8080/",
          "height": 415
        }
      },
      "source": [
        "2 = df1.sort_values('vote').groupby(['asin', 'reviewerID']).tail(1).sort_values('vote',ascending=False)"
      ],
      "execution_count": 0,
      "outputs": [
        {
          "output_type": "execute_result",
          "data": {
            "text/html": [
              "<div>\n",
              "<style scoped>\n",
              "    .dataframe tbody tr th:only-of-type {\n",
              "        vertical-align: middle;\n",
              "    }\n",
              "\n",
              "    .dataframe tbody tr th {\n",
              "        vertical-align: top;\n",
              "    }\n",
              "\n",
              "    .dataframe thead th {\n",
              "        text-align: right;\n",
              "    }\n",
              "</style>\n",
              "<table border=\"1\" class=\"dataframe\">\n",
              "  <thead>\n",
              "    <tr style=\"text-align: right;\">\n",
              "      <th></th>\n",
              "      <th>asin</th>\n",
              "      <th>reviewerID</th>\n",
              "      <th>vote</th>\n",
              "    </tr>\n",
              "  </thead>\n",
              "  <tbody>\n",
              "    <tr>\n",
              "      <th>733414</th>\n",
              "      <td>B00X5RV14Y</td>\n",
              "      <td>AQJ824C2JST96</td>\n",
              "      <td>2038</td>\n",
              "    </tr>\n",
              "    <tr>\n",
              "      <th>998698</th>\n",
              "      <td>B01F9N5QXI</td>\n",
              "      <td>A22QN0P5ERNOKR</td>\n",
              "      <td>1737</td>\n",
              "    </tr>\n",
              "    <tr>\n",
              "      <th>909912</th>\n",
              "      <td>B019O8YWXE</td>\n",
              "      <td>A1BDNTBJ0JWXSL</td>\n",
              "      <td>1410</td>\n",
              "    </tr>\n",
              "    <tr>\n",
              "      <th>694008</th>\n",
              "      <td>B00UVSNVHA</td>\n",
              "      <td>A284QS51P9P9V1</td>\n",
              "      <td>1355</td>\n",
              "    </tr>\n",
              "    <tr>\n",
              "      <th>788069</th>\n",
              "      <td>B010VFFU1W</td>\n",
              "      <td>A25GROL6KJV3QG</td>\n",
              "      <td>1290</td>\n",
              "    </tr>\n",
              "    <tr>\n",
              "      <th>...</th>\n",
              "      <td>...</td>\n",
              "      <td>...</td>\n",
              "      <td>...</td>\n",
              "    </tr>\n",
              "    <tr>\n",
              "      <th>1069503</th>\n",
              "      <td>B00GK9GSVU</td>\n",
              "      <td>A2KT2JPOF1LZT7</td>\n",
              "      <td>0</td>\n",
              "    </tr>\n",
              "    <tr>\n",
              "      <th>1069504</th>\n",
              "      <td>B00GKA11A2</td>\n",
              "      <td>A1FPEYHRYPXRE1</td>\n",
              "      <td>0</td>\n",
              "    </tr>\n",
              "    <tr>\n",
              "      <th>1069505</th>\n",
              "      <td>B00GKA11A2</td>\n",
              "      <td>A28Q77HWX1NIXS</td>\n",
              "      <td>0</td>\n",
              "    </tr>\n",
              "    <tr>\n",
              "      <th>1069506</th>\n",
              "      <td>B00GKAJCU8</td>\n",
              "      <td>A13JX3QESUGJ5L</td>\n",
              "      <td>0</td>\n",
              "    </tr>\n",
              "    <tr>\n",
              "      <th>219668</th>\n",
              "      <td>B00BV1MVJ0</td>\n",
              "      <td>A9VT5R7K6EVYP</td>\n",
              "      <td>0</td>\n",
              "    </tr>\n",
              "  </tbody>\n",
              "</table>\n",
              "<p>1120771 rows × 3 columns</p>\n",
              "</div>"
            ],
            "text/plain": [
              "               asin      reviewerID  vote\n",
              "733414   B00X5RV14Y   AQJ824C2JST96  2038\n",
              "998698   B01F9N5QXI  A22QN0P5ERNOKR  1737\n",
              "909912   B019O8YWXE  A1BDNTBJ0JWXSL  1410\n",
              "694008   B00UVSNVHA  A284QS51P9P9V1  1355\n",
              "788069   B010VFFU1W  A25GROL6KJV3QG  1290\n",
              "...             ...             ...   ...\n",
              "1069503  B00GK9GSVU  A2KT2JPOF1LZT7     0\n",
              "1069504  B00GKA11A2  A1FPEYHRYPXRE1     0\n",
              "1069505  B00GKA11A2  A28Q77HWX1NIXS     0\n",
              "1069506  B00GKAJCU8  A13JX3QESUGJ5L     0\n",
              "219668   B00BV1MVJ0   A9VT5R7K6EVYP     0\n",
              "\n",
              "[1120771 rows x 3 columns]"
            ]
          },
          "metadata": {
            "tags": []
          },
          "execution_count": 23
        }
      ]
    },
    {
      "cell_type": "code",
      "metadata": {
        "colab_type": "code",
        "outputId": "90bde308-c246-4da5-a7b9-690128554d60",
        "id": "XTPhc3P0nVW1",
        "colab": {
          "base_uri": "https://localhost:8080/",
          "height": 313
        }
      },
      "source": [
        "import matplotlib.pyplot as plt\n",
        "x = influencers['Year']\n",
        "y = influencers['vote']\n",
        "plt.scatter(x, y)\n",
        "plt.title(\"vote by time\")\n",
        "plt.xlabel(\"Year\")\n",
        "plt.ylabel(\"vote\")\n",
        "plt.legend()\n",
        "plt.show()"
      ],
      "execution_count": 0,
      "outputs": [
        {
          "output_type": "stream",
          "text": [
            "No handles with labels found to put in legend.\n"
          ],
          "name": "stderr"
        },
        {
          "output_type": "display_data",
          "data": {
            "image/png": "[encoded data removed]",
            "text/plain": [
              "<Figure size 432x288 with 1 Axes>"
            ]
          },
          "metadata": {
            "tags": []
          }
        }
      ]
    },
    {
      "cell_type": "code",
      "metadata": {
        "id": "51dn9IkzlTV6",
        "colab_type": "code",
        "outputId": "dfa0ec97-7ee2-4e4a-9065-4b24a145c887",
        "colab": {
          "base_uri": "https://localhost:8080/",
          "height": 295
        }
      },
      "source": [
        "import matplotlib.pyplot as plt\n",
        "x = influencers['Time']\n",
        "y = influencers['vote']\n",
        "plt.scatter(x,y)\n",
        "plt.title(\"vote by time\")\n",
        "plt.xlabel(\"Year\")\n",
        "plt.ylabel(\"vote\")\n",
        "plt.show()"
      ],
      "execution_count": 0,
      "outputs": [
        {
          "output_type": "display_data",
          "data": {
            "image/png": "[encoded data removed]",
            "text/plain": [
              "<Figure size 432x288 with 1 Axes>"
            ]
          },
          "metadata": {
            "tags": []
          }
        }
      ]
    },
    {
      "cell_type": "code",
      "metadata": {
        "id": "U_rJheuunQ_b",
        "colab_type": "code",
        "outputId": "139ad16f-5cb4-4cab-e8dd-98a12d7f0cdd",
        "colab": {
          "base_uri": "https://localhost:8080/",
          "height": 251
        }
      },
      "source": [
        "df3.groupby('vote').overall.value_counts().sort_values(ascending=False)"
      ],
      "execution_count": 0,
      "outputs": [
        {
          "output_type": "execute_result",
          "data": {
            "text/plain": [
              "vote  overall\n",
              "0     5.0        656383\n",
              "      4.0        168956\n",
              "      3.0         90042\n",
              "      1.0         69447\n",
              "      2.0         51575\n",
              "                  ...  \n",
              "297   5.0             1\n",
              "298   2.0             1\n",
              "992   5.0             1\n",
              "301   4.0             1\n",
              "995   3.0             1\n",
              "Name: overall, Length: 1013, dtype: int64"
            ]
          },
          "metadata": {
            "tags": []
          },
          "execution_count": 27
        }
      ]
    },
    {
      "cell_type": "code",
      "metadata": {
        "id": "kn37nzV-abvE",
        "colab_type": "code",
        "outputId": "2438632b-5f67-410a-8c99-967789154a69",
        "colab": {
          "base_uri": "https://localhost:8080/",
          "height": 537
        }
      },
      "source": [
        "ax = df3['overall'].value_counts().plot(kind='bar', figsize=(14,8),title=\"Number for each rating\")\n",
        "ax.set_xlabel(\"Rating level\")\n",
        "ax.set_ylabel(\"Frequency\")"
      ],
      "execution_count": 0,
      "outputs": [
        {
          "output_type": "execute_result",
          "data": {
            "text/plain": [
              "Text(0, 0.5, 'Frequency')"
            ]
          },
          "metadata": {
            "tags": []
          },
          "execution_count": 22
        },
        {
          "output_type": "display_data",
          "data": {
            "image/png": "[encoded data removed]",
            "text/plain": [
              "<Figure size 1008x576 with 1 Axes>"
            ]
          },
          "metadata": {
            "tags": []
          }
        }
      ]
    },
    {
      "cell_type": "code",
      "metadata": {
        "id": "h9xFaLWekEe-",
        "colab_type": "code",
        "outputId": "9eccfe92-08ea-4bb5-b6c8-5861a768877a",
        "colab": {
          "base_uri": "https://localhost:8080/",
          "height": 251
        }
      },
      "source": [
        "df3.groupby('reviewTime').overall.value_counts().sort_values(ascending=False)"
      ],
      "execution_count": 0,
      "outputs": [
        {
          "output_type": "execute_result",
          "data": {
            "text/plain": [
              "reviewTime  overall\n",
              "2015-02-18  5.0        915\n",
              "2016-01-20  5.0        887\n",
              "2014-12-29  5.0        869\n",
              "2015-02-11  5.0        860\n",
              "2015-02-23  5.0        853\n",
              "                      ... \n",
              "2009-10-14  1.0          1\n",
              "2009-10-13  5.0          1\n",
              "            3.0          1\n",
              "2009-10-11  5.0          1\n",
              "2002-10-23  4.0          1\n",
              "Name: overall, Length: 18008, dtype: int64"
            ]
          },
          "metadata": {
            "tags": []
          },
          "execution_count": 23
        }
      ]
    },
    {
      "cell_type": "code",
      "metadata": {
        "id": "AL8stSjZDD8I",
        "colab_type": "code",
        "outputId": "67ac4344-8089-4c30-9f43-01a61fae9925",
        "colab": {
          "base_uri": "https://localhost:8080/",
          "height": 251
        }
      },
      "source": [
        "df3.groupby('reviewTime')['reviewTime'].value_counts().sort_values(ascending=False)"
      ],
      "execution_count": 0,
      "outputs": [
        {
          "output_type": "execute_result",
          "data": {
            "text/plain": [
              "reviewTime  reviewTime\n",
              "2015-02-18  2015-02-18    1399\n",
              "2016-01-20  2016-01-20    1342\n",
              "2014-12-29  2014-12-29    1328\n",
              "2016-04-19  2016-04-19    1319\n",
              "2015-02-23  2015-02-23    1315\n",
              "                          ... \n",
              "2008-04-25  2008-04-25       1\n",
              "2006-10-31  2006-10-31       1\n",
              "2006-11-01  2006-11-01       1\n",
              "2006-11-02  2006-11-02       1\n",
              "2002-10-23  2002-10-23       1\n",
              "Name: reviewTime, Length: 4536, dtype: int64"
            ]
          },
          "metadata": {
            "tags": []
          },
          "execution_count": 12
        }
      ]
    },
    {
      "cell_type": "code",
      "metadata": {
        "id": "ny8-rtQjDnke",
        "colab_type": "code",
        "outputId": "59aa5022-c863-4b87-bde1-95a1a8c4bbb2",
        "colab": {
          "base_uri": "https://localhost:8080/",
          "height": 35
        }
      },
      "source": [
        "df3.groupby('reviewTime').reviewTime.value_counts().max()\n"
      ],
      "execution_count": 0,
      "outputs": [
        {
          "output_type": "execute_result",
          "data": {
            "text/plain": [
              "1399"
            ]
          },
          "metadata": {
            "tags": []
          },
          "execution_count": 105
        }
      ]
    },
    {
      "cell_type": "code",
      "metadata": {
        "id": "Iez41sumo1zf",
        "colab_type": "code",
        "outputId": "d3eaf6c6-3365-4645-cbea-a75b3e170a3b",
        "colab": {
          "base_uri": "https://localhost:8080/",
          "height": 251
        }
      },
      "source": [
        "df3.groupby('vote').reviewTime.value_counts()"
      ],
      "execution_count": 0,
      "outputs": [
        {
          "output_type": "execute_result",
          "data": {
            "text/plain": [
              "vote  reviewTime\n",
              "0     2015-02-18    1345\n",
              "      2014-12-29    1246\n",
              "      2016-01-20    1242\n",
              "      2015-02-23    1238\n",
              "      2016-04-19    1208\n",
              "                    ... \n",
              "99    2016-03-24       1\n",
              "      2016-08-28       1\n",
              "      2016-10-27       1\n",
              "992   2014-12-16       1\n",
              "995   2015-07-15       1\n",
              "Name: reviewTime, Length: 34348, dtype: int64"
            ]
          },
          "metadata": {
            "tags": []
          },
          "execution_count": 29
        }
      ]
    },
    {
      "cell_type": "code",
      "metadata": {
        "id": "v755QOkeo_Wx",
        "colab_type": "code",
        "colab": {}
      },
      "source": [
        "import matplotlib.pyplot as plt\n",
        "x = df3['reviewTime']\n",
        "y = df3['vote']\n",
        "plt.plot(x, y)\n",
        "plt.show()"
      ],
      "execution_count": 0,
      "outputs": []
    },
    {
      "cell_type": "code",
      "metadata": {
        "id": "-ADz1NvzoRMj",
        "colab_type": "code",
        "outputId": "f182945d-eae5-401a-be28-4c98fda923f6",
        "colab": {
          "base_uri": "https://localhost:8080/",
          "height": 422
        }
      },
      "source": [
        "x = df3.groupby('vote').reviewTime.value_counts().plot(kind='line',figsize=(15,6),title=\"Number of vote each day\")\n",
        "x.set_xlabel(\"Date\")\n",
        "x.set_ylabel(\"Frequency\")"
      ],
      "execution_count": 0,
      "outputs": [
        {
          "output_type": "execute_result",
          "data": {
            "text/plain": [
              "Text(0, 0.5, 'Frequency')"
            ]
          },
          "metadata": {
            "tags": []
          },
          "execution_count": 28
        },
        {
          "output_type": "display_data",
          "data": {
            "image/png": "[encoded data removed]",
            "text/plain": [
              "<Figure size 1080x432 with 1 Axes>"
            ]
          },
          "metadata": {
            "tags": []
          }
        }
      ]
    },
    {
      "cell_type": "code",
      "metadata": {
        "id": "BbY7zo2oFvp9",
        "colab_type": "code",
        "outputId": "eec03258-379c-45bb-b18d-e2c43328b40b",
        "colab": {
          "base_uri": "https://localhost:8080/",
          "height": 422
        }
      },
      "source": [
        "x = df3.groupby('reviewTime').reviewTime.value_counts().plot(kind='line',figsize=(15,6),title=\"Number of review each day\")\n",
        "x.set_xlabel(\"Date\")\n",
        "x.set_ylabel(\"Frequency\")"
      ],
      "execution_count": 0,
      "outputs": [
        {
          "output_type": "execute_result",
          "data": {
            "text/plain": [
              "Text(0, 0.5, 'Frequency')"
            ]
          },
          "metadata": {
            "tags": []
          },
          "execution_count": 104
        },
        {
          "output_type": "display_data",
          "data": {
            "image/png": "[encoded data removed]",
            "text/plain": [
              "<Figure size 1080x432 with 1 Axes>"
            ]
          },
          "metadata": {
            "tags": []
          }
        }
      ]
    },
    {
      "cell_type": "code",
      "metadata": {
        "id": "mcz38QT7h8Aq",
        "colab_type": "code",
        "outputId": "a70bb48a-c8a9-457b-e4bb-cb42632431ce",
        "colab": {
          "base_uri": "https://localhost:8080/",
          "height": 251
        }
      },
      "source": [
        "df3.groupby('reviewerID').overall.value_counts().sort_values(ascending=False)"
      ],
      "execution_count": 0,
      "outputs": [
        {
          "output_type": "execute_result",
          "data": {
            "text/plain": [
              "reviewerID      overall\n",
              "A3HFQE02MDPC6I  5.0        306\n",
              "A2LTYEYGKBYXRR  5.0        200\n",
              "A3MFRAR121IHTN  5.0        144\n",
              "A3RDSN4SZKF3O   5.0        130\n",
              "A1FL151ER57VW3  5.0        114\n",
              "                          ... \n",
              "A3KWCPP5TSVIOH  3.0          1\n",
              "                4.0          1\n",
              "A3KWIW4P2OR68I  4.0          1\n",
              "A26VFOPF302DGN  4.0          1\n",
              "AZZYW4YOE1B6E   1.0          1\n",
              "Name: overall, Length: 393954, dtype: int64"
            ]
          },
          "metadata": {
            "tags": []
          },
          "execution_count": 20
        }
      ]
    },
    {
      "cell_type": "code",
      "metadata": {
        "id": "z-D5ypBEv2jy",
        "colab_type": "code",
        "outputId": "a972f01d-12ce-42a0-8d78-e51660c34c9d",
        "colab": {
          "base_uri": "https://localhost:8080/",
          "height": 251
        }
      },
      "source": [
        "df3.groupby('reviewerName').overall.value_counts().sort_values(ascending=False)"
      ],
      "execution_count": 0,
      "outputs": [
        {
          "output_type": "execute_result",
          "data": {
            "text/plain": [
              "reviewerName     overall\n",
              "Amazon Customer  5.0        24546\n",
              "                 4.0         5795\n",
              "                 3.0         3080\n",
              "                 1.0         2809\n",
              "Kindle Customer  5.0         2113\n",
              "                            ...  \n",
              "Justlkn          2.0            1\n",
              "                 1.0            1\n",
              "Justjon          4.0            1\n",
              "                 2.0            1\n",
              "santi            3.0            1\n",
              "Name: overall, Length: 312979, dtype: int64"
            ]
          },
          "metadata": {
            "tags": []
          },
          "execution_count": 22
        }
      ]
    },
    {
      "cell_type": "code",
      "metadata": {
        "id": "hRvobFZptOZs",
        "colab_type": "code",
        "outputId": "62fc927d-da07-44e6-bf2f-0561e30d6c76",
        "colab": {
          "base_uri": "https://localhost:8080/",
          "height": 251
        }
      },
      "source": [
        "df3.groupby('reviewerID').overall.mean()"
      ],
      "execution_count": 0,
      "outputs": [
        {
          "output_type": "execute_result",
          "data": {
            "text/plain": [
              "reviewerID\n",
              "A0009478CBXKUCALUC7U    4.333333\n",
              "A0024936S1WI02OHH9DP    5.000000\n",
              "A0034986DWR7WEDQN0GV    4.818182\n",
              "A0052224HSIECFUBVN5W    5.000000\n",
              "A007917716EGEEP4D8LB    4.181818\n",
              "                          ...   \n",
              "AZZX8PSNPPUWD           4.750000\n",
              "AZZXJAE2DILET           3.800000\n",
              "AZZY4E6QPTBVP           4.400000\n",
              "AZZY9KWQNV1V0           1.800000\n",
              "AZZYW4YOE1B6E           4.062500\n",
              "Name: overall, Length: 157212, dtype: float64"
            ]
          },
          "metadata": {
            "tags": []
          },
          "execution_count": 21
        }
      ]
    },
    {
      "cell_type": "code",
      "metadata": {
        "id": "8NkwpovFwhbY",
        "colab_type": "code",
        "outputId": "80fa79ca-3fb7-4b4a-bef8-e9f7817ed07f",
        "colab": {
          "base_uri": "https://localhost:8080/",
          "height": 251
        }
      },
      "source": [
        "df3.groupby('reviewerName').overall.mean().sort_values(ascending = False)"
      ],
      "execution_count": 0,
      "outputs": [
        {
          "output_type": "execute_result",
          "data": {
            "text/plain": [
              "reviewerName\n",
              "PHONE               5.0\n",
              "Joseppi D           5.0\n",
              "Stormy Lou          5.0\n",
              "eduin rivero        5.0\n",
              "Daryl A. Daniels    5.0\n",
              "                   ... \n",
              "Sarah B Belgard     1.0\n",
              "@HomePC&#039;s      1.0\n",
              "Earnest B Brown     1.0\n",
              "Ladyyxx             1.0\n",
              "Terry P.            1.0\n",
              "Name: overall, Length: 122116, dtype: float64"
            ]
          },
          "metadata": {
            "tags": []
          },
          "execution_count": 24
        }
      ]
    },
    {
      "cell_type": "code",
      "metadata": {
        "id": "MTmmfi6jxF5p",
        "colab_type": "code",
        "outputId": "408eeba6-eddd-4282-c5ff-403db9c6565d",
        "colab": {
          "base_uri": "https://localhost:8080/",
          "height": 251
        }
      },
      "source": [
        "df3.groupby('asin').overall.value_counts().sort_values(ascending = False)"
      ],
      "execution_count": 0,
      "outputs": [
        {
          "output_type": "execute_result",
          "data": {
            "text/plain": [
              "asin        overall\n",
              "B00VH88CJ0  5.0        1426\n",
              "B00X5RV14Y  5.0        1311\n",
              "B019PV2I3G  5.0        1282\n",
              "B00P7N0320  5.0        1258\n",
              "B018JW3EOY  5.0        1252\n",
              "                       ... \n",
              "B00JP6GM84  1.0           1\n",
              "            2.0           1\n",
              "            3.0           1\n",
              "            4.0           1\n",
              "B01HJH9IN6  3.0           1\n",
              "Name: overall, Length: 169153, dtype: int64"
            ]
          },
          "metadata": {
            "tags": []
          },
          "execution_count": 28
        }
      ]
    },
    {
      "cell_type": "code",
      "metadata": {
        "id": "_ezcro4xzP6E",
        "colab_type": "code",
        "outputId": "d0973db9-8e15-43f2-e783-12a3841f8acf",
        "colab": {
          "base_uri": "https://localhost:8080/",
          "height": 233
        }
      },
      "source": [
        "df4 = df3.loc[:,['reviewTime','overall']]\n",
        "df4['reviewTime'] = pd.DatetimeIndex(df4['reviewTime'], dtype='datetime64[ns]', freq=None)\n",
        "df4 = df4.set_index('reviewTime')\n",
        "df4['Year'] = df4.index.year\n",
        "df4['Month'] = df4.index.month\n",
        "df4['Day'] = df4.index.day\n",
        "df4['Weekday'] = df4.index.weekday_name\n",
        "df4['Date'] = df4.index.strftime('%m-%d')\n",
        "df4.head()"
      ],
      "execution_count": 0,
      "outputs": [
        {
          "output_type": "execute_result",
          "data": {
            "text/html": [
              "<div>\n",
              "<style scoped>\n",
              "    .dataframe tbody tr th:only-of-type {\n",
              "        vertical-align: middle;\n",
              "    }\n",
              "\n",
              "    .dataframe tbody tr th {\n",
              "        vertical-align: top;\n",
              "    }\n",
              "\n",
              "    .dataframe thead th {\n",
              "        text-align: right;\n",
              "    }\n",
              "</style>\n",
              "<table border=\"1\" class=\"dataframe\">\n",
              "  <thead>\n",
              "    <tr style=\"text-align: right;\">\n",
              "      <th></th>\n",
              "      <th>overall</th>\n",
              "      <th>Year</th>\n",
              "      <th>Month</th>\n",
              "      <th>Day</th>\n",
              "      <th>Weekday</th>\n",
              "      <th>Date</th>\n",
              "    </tr>\n",
              "    <tr>\n",
              "      <th>reviewTime</th>\n",
              "      <th></th>\n",
              "      <th></th>\n",
              "      <th></th>\n",
              "      <th></th>\n",
              "      <th></th>\n",
              "      <th></th>\n",
              "    </tr>\n",
              "  </thead>\n",
              "  <tbody>\n",
              "    <tr>\n",
              "      <th>2014-08-04</th>\n",
              "      <td>5.0</td>\n",
              "      <td>2014</td>\n",
              "      <td>8</td>\n",
              "      <td>4</td>\n",
              "      <td>Monday</td>\n",
              "      <td>08-04</td>\n",
              "    </tr>\n",
              "    <tr>\n",
              "      <th>2014-02-12</th>\n",
              "      <td>5.0</td>\n",
              "      <td>2014</td>\n",
              "      <td>2</td>\n",
              "      <td>12</td>\n",
              "      <td>Wednesday</td>\n",
              "      <td>02-12</td>\n",
              "    </tr>\n",
              "    <tr>\n",
              "      <th>2014-02-08</th>\n",
              "      <td>3.0</td>\n",
              "      <td>2014</td>\n",
              "      <td>2</td>\n",
              "      <td>8</td>\n",
              "      <td>Saturday</td>\n",
              "      <td>02-08</td>\n",
              "    </tr>\n",
              "    <tr>\n",
              "      <th>2014-02-04</th>\n",
              "      <td>2.0</td>\n",
              "      <td>2014</td>\n",
              "      <td>2</td>\n",
              "      <td>4</td>\n",
              "      <td>Tuesday</td>\n",
              "      <td>02-04</td>\n",
              "    </tr>\n",
              "    <tr>\n",
              "      <th>2014-02-03</th>\n",
              "      <td>4.0</td>\n",
              "      <td>2014</td>\n",
              "      <td>2</td>\n",
              "      <td>3</td>\n",
              "      <td>Monday</td>\n",
              "      <td>02-03</td>\n",
              "    </tr>\n",
              "  </tbody>\n",
              "</table>\n",
              "</div>"
            ],
            "text/plain": [
              "            overall  Year  Month  Day    Weekday   Date\n",
              "reviewTime                                             \n",
              "2014-08-04      5.0  2014      8    4     Monday  08-04\n",
              "2014-02-12      5.0  2014      2   12  Wednesday  02-12\n",
              "2014-02-08      3.0  2014      2    8   Saturday  02-08\n",
              "2014-02-04      2.0  2014      2    4    Tuesday  02-04\n",
              "2014-02-03      4.0  2014      2    3     Monday  02-03"
            ]
          },
          "metadata": {
            "tags": []
          },
          "execution_count": 62
        }
      ]
    },
    {
      "cell_type": "code",
      "metadata": {
        "id": "Pt0koj3F6WMH",
        "colab_type": "code",
        "outputId": "8d8758a8-2884-4b1b-a5de-d3c10be420bc",
        "colab": {
          "base_uri": "https://localhost:8080/",
          "height": 251
        }
      },
      "source": [
        "df4.groupby('Date').Date.value_counts().sort_values(ascending = False)"
      ],
      "execution_count": 0,
      "outputs": [
        {
          "output_type": "execute_result",
          "data": {
            "text/plain": [
              "Date   Date \n",
              "01-09  01-09    4073\n",
              "12-30  12-30    4069\n",
              "12-29  12-29    4052\n",
              "01-07  01-07    3993\n",
              "01-03  01-03    3984\n",
              "                ... \n",
              "05-25  05-25    2537\n",
              "07-04  07-04    2476\n",
              "12-24  12-24    2411\n",
              "12-25  12-25    2182\n",
              "02-29  02-29    1077\n",
              "Name: Date, Length: 366, dtype: int64"
            ]
          },
          "metadata": {
            "tags": []
          },
          "execution_count": 60
        }
      ]
    },
    {
      "cell_type": "code",
      "metadata": {
        "id": "3w_fCybv5voJ",
        "colab_type": "code",
        "outputId": "92352360-f1bd-4815-c231-16919feea7c7",
        "colab": {
          "base_uri": "https://localhost:8080/",
          "height": 422
        }
      },
      "source": [
        "date = df4.groupby('Date').Date.value_counts().plot(kind='line',figsize=(15,6),title=\"Number of review each date\")\n",
        "date.set_xlabel(\"Date\")\n",
        "date.set_ylabel(\"Frequency\")"
      ],
      "execution_count": 0,
      "outputs": [
        {
          "output_type": "execute_result",
          "data": {
            "text/plain": [
              "Text(0, 0.5, 'Frequency')"
            ]
          },
          "metadata": {
            "tags": []
          },
          "execution_count": 64
        },
        {
          "output_type": "display_data",
          "data": {
            "image/png": "[encoded data removed]",
            "text/plain": [
              "<Figure size 1080x432 with 1 Axes>"
            ]
          },
          "metadata": {
            "tags": []
          }
        }
      ]
    },
    {
      "cell_type": "code",
      "metadata": {
        "id": "xdbp-GDc-V4K",
        "colab_type": "code",
        "outputId": "5c5e6f63-4f5b-4a04-8165-f96c8b14786a",
        "colab": {
          "base_uri": "https://localhost:8080/",
          "height": 359
        }
      },
      "source": [
        "df4.groupby('Year').Year.value_counts().sort_values(ascending = False)"
      ],
      "execution_count": 0,
      "outputs": [
        {
          "output_type": "execute_result",
          "data": {
            "text/plain": [
              "Year  Year\n",
              "2015  2015    323296\n",
              "2016  2016    311797\n",
              "2014  2014    185045\n",
              "2017  2017    133312\n",
              "2013  2013     86864\n",
              "2018  2018     42005\n",
              "2012  2012     28228\n",
              "2011  2011      9147\n",
              "2010  2010      3459\n",
              "2009  2009      2405\n",
              "2008  2008      1691\n",
              "2007  2007       679\n",
              "2006  2006       318\n",
              "2005  2005       132\n",
              "2004  2004        41\n",
              "2003  2003        16\n",
              "2002  2002         2\n",
              "Name: Year, dtype: int64"
            ]
          },
          "metadata": {
            "tags": []
          },
          "execution_count": 71
        }
      ]
    },
    {
      "cell_type": "code",
      "metadata": {
        "id": "D485BP_I-nIH",
        "colab_type": "code",
        "outputId": "4ec51ae2-fe9b-4c4e-94df-ef4661385b25",
        "colab": {
          "base_uri": "https://localhost:8080/",
          "height": 422
        }
      },
      "source": [
        "year = df4.groupby('Year').Year.value_counts().plot(kind='line',figsize=(15,6),title=\"Number of review each month\")\n",
        "year.set_xlabel(\"Year\")\n",
        "year.set_ylabel(\"Frequency\")"
      ],
      "execution_count": 0,
      "outputs": [
        {
          "output_type": "execute_result",
          "data": {
            "text/plain": [
              "Text(0, 0.5, 'Frequency')"
            ]
          },
          "metadata": {
            "tags": []
          },
          "execution_count": 73
        },
        {
          "output_type": "display_data",
          "data": {
            "image/png": "[encoded data removed]",
            "text/plain": [
              "<Figure size 1080x432 with 1 Axes>"
            ]
          },
          "metadata": {
            "tags": []
          }
        }
      ]
    },
    {
      "cell_type": "code",
      "metadata": {
        "id": "jEySt0g77IIJ",
        "colab_type": "code",
        "outputId": "ff59b7ab-4323-47c1-aa32-c63f01543a01",
        "colab": {
          "base_uri": "https://localhost:8080/",
          "height": 269
        }
      },
      "source": [
        "df4.groupby('Month').Month.value_counts().sort_values(ascending = False)"
      ],
      "execution_count": 0,
      "outputs": [
        {
          "output_type": "execute_result",
          "data": {
            "text/plain": [
              "Month  Month\n",
              "1      1        107697\n",
              "12     12       102044\n",
              "3      3         98662\n",
              "7      7         97909\n",
              "8      8         96824\n",
              "2      2         92038\n",
              "10     10        90546\n",
              "4      4         90188\n",
              "11     11        89816\n",
              "9      9         88464\n",
              "6      6         87246\n",
              "5      5         87003\n",
              "Name: Month, dtype: int64"
            ]
          },
          "metadata": {
            "tags": []
          },
          "execution_count": 56
        }
      ]
    },
    {
      "cell_type": "code",
      "metadata": {
        "id": "WUUSKAc17Zzu",
        "colab_type": "code",
        "outputId": "15e938bb-c551-4930-c7b1-46d7342ec35d",
        "colab": {
          "base_uri": "https://localhost:8080/",
          "height": 422
        }
      },
      "source": [
        "month = df4.groupby('Month').Month.value_counts().plot(kind='line',figsize=(15,6),title=\"Number of review each month\")\n",
        "month.set_xlabel(\"Month\")\n",
        "month.set_ylabel(\"Frequency\")"
      ],
      "execution_count": 0,
      "outputs": [
        {
          "output_type": "execute_result",
          "data": {
            "text/plain": [
              "Text(0, 0.5, 'Frequency')"
            ]
          },
          "metadata": {
            "tags": []
          },
          "execution_count": 65
        },
        {
          "output_type": "display_data",
          "data": {
            "image/png": "[encoded data removed]",
            "text/plain": [
              "<Figure size 1080x432 with 1 Axes>"
            ]
          },
          "metadata": {
            "tags": []
          }
        }
      ]
    },
    {
      "cell_type": "code",
      "metadata": {
        "id": "_q4Qz3hp7OsG",
        "colab_type": "code",
        "outputId": "c49e5e76-61f1-4fdb-ecd6-a0e6c9c84d76",
        "colab": {
          "base_uri": "https://localhost:8080/",
          "height": 611
        }
      },
      "source": [
        "df4.groupby('Day').Day.value_counts().sort_values(ascending = False)"
      ],
      "execution_count": 0,
      "outputs": [
        {
          "output_type": "execute_result",
          "data": {
            "text/plain": [
              "Day  Day\n",
              "9    9      38094\n",
              "18   18     37830\n",
              "19   19     37820\n",
              "2    2      37751\n",
              "21   21     37684\n",
              "7    7      37683\n",
              "23   23     37587\n",
              "3    3      37545\n",
              "8    8      37531\n",
              "22   22     37499\n",
              "11   11     37419\n",
              "16   16     37214\n",
              "28   28     37170\n",
              "6    6      37145\n",
              "4    4      37134\n",
              "20   20     37089\n",
              "10   10     37070\n",
              "14   14     37067\n",
              "17   17     37002\n",
              "27   27     36923\n",
              "5    5      36817\n",
              "15   15     36764\n",
              "12   12     36409\n",
              "29   29     36358\n",
              "13   13     36141\n",
              "26   26     35848\n",
              "1    1      35584\n",
              "24   24     35488\n",
              "25   25     35419\n",
              "30   30     34200\n",
              "31   31     21152\n",
              "Name: Day, dtype: int64"
            ]
          },
          "metadata": {
            "tags": []
          },
          "execution_count": 66
        }
      ]
    },
    {
      "cell_type": "code",
      "metadata": {
        "id": "6Q-N20b38HHX",
        "colab_type": "code",
        "outputId": "d25b84be-1ac6-4ff2-fdac-6b4145ae1ff8",
        "colab": {
          "base_uri": "https://localhost:8080/",
          "height": 422
        }
      },
      "source": [
        "day = df4.groupby('Day').Day.value_counts().plot(kind='line',figsize=(15,6),title=\"Number of review each day\")\n",
        "day.set_xlabel(\"Day\")\n",
        "day.set_ylabel(\"Frequency\")"
      ],
      "execution_count": 0,
      "outputs": [
        {
          "output_type": "execute_result",
          "data": {
            "text/plain": [
              "Text(0, 0.5, 'Frequency')"
            ]
          },
          "metadata": {
            "tags": []
          },
          "execution_count": 67
        },
        {
          "output_type": "display_data",
          "data": {
            "image/png": "[encoded data removed]",
            "text/plain": [
              "<Figure size 1080x432 with 1 Axes>"
            ]
          },
          "metadata": {
            "tags": []
          }
        }
      ]
    },
    {
      "cell_type": "code",
      "metadata": {
        "id": "exwNSeM_872q",
        "colab_type": "code",
        "outputId": "a856d0c0-57e4-4b2f-95ec-fd5117d7db6b",
        "colab": {
          "base_uri": "https://localhost:8080/",
          "height": 179
        }
      },
      "source": [
        "df4.groupby('Weekday').Weekday.value_counts().sort_values(ascending = False)"
      ],
      "execution_count": 0,
      "outputs": [
        {
          "output_type": "execute_result",
          "data": {
            "text/plain": [
              "Weekday    Weekday  \n",
              "Monday     Monday       181706\n",
              "Tuesday    Tuesday      177487\n",
              "Wednesday  Wednesday    173222\n",
              "Thursday   Thursday     166911\n",
              "Friday     Friday       155132\n",
              "Sunday     Sunday       138577\n",
              "Saturday   Saturday     135402\n",
              "Name: Weekday, dtype: int64"
            ]
          },
          "metadata": {
            "tags": []
          },
          "execution_count": 69
        }
      ]
    },
    {
      "cell_type": "code",
      "metadata": {
        "id": "kXIkW9Ju8Vyw",
        "colab_type": "code",
        "outputId": "4042d4d9-5029-4ef0-e450-b9102c1bb8dd",
        "colab": {
          "base_uri": "https://localhost:8080/",
          "height": 422
        }
      },
      "source": [
        "week = df4.groupby('Weekday').Weekday.value_counts().sort_values(ascending = False).plot(kind='line',figsize=(15,6),title=\"Number of review each Weekday\")\n",
        "week.set_xlabel(\"Weekday\")\n",
        "week.set_ylabel(\"Frequency\")"
      ],
      "execution_count": 0,
      "outputs": [
        {
          "output_type": "execute_result",
          "data": {
            "text/plain": [
              "Text(0, 0.5, 'Frequency')"
            ]
          },
          "metadata": {
            "tags": []
          },
          "execution_count": 70
        },
        {
          "output_type": "display_data",
          "data": {
            "image/png": "[encoded data removed]",
            "text/plain": [
              "<Figure size 1080x432 with 1 Axes>"
            ]
          },
          "metadata": {
            "tags": []
          }
        }
      ]
    }
  ]
}