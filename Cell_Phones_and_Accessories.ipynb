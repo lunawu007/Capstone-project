{
  "nbformat": 4,
  "nbformat_minor": 0,
  "metadata": {
    "colab": {
      "name": "Cell_Phones_and_Accessories.ipynb",
      "provenance": [],
      "collapsed_sections": [],
      "toc_visible": true
    },
    "kernelspec": {
      "name": "python3",
      "display_name": "Python 3"
    },
    "accelerator": "GPU"
  },
  "cells": [
    {
      "cell_type": "code",
      "metadata": {
        "id": "-A1Iq9c9Sl3u",
        "colab_type": "code",
        "colab": {}
      },
      "source": [
        "import os\n",
        "import json\n",
        "import gzip\n",
        "import pandas as pd\n",
        "from urllib.request import urlopen\n",
        "\n",
        "import gzip\n",
        "import itertools\n",
        "import string\n",
        "import wordcloud\n",
        "import numpy as np\n",
        "import pandas as pd\n",
        "import datetime as dt\n",
        "import matplotlib.pyplot as plt\n",
        "import pylab as pl\n",
        "\n",
        "from collections import Counter\n",
        "from sklearn import svm\n",
        "from sklearn.pipeline import Pipeline, make_pipeline\n",
        "from sklearn.linear_model import LogisticRegression\n",
        "from sklearn.feature_extraction.text import CountVectorizer, TfidfVectorizer\n",
        "from sklearn.decomposition import NMF, LatentDirichletAllocation\n",
        "from sklearn.naive_bayes import MultinomialNB\n",
        "from sklearn.model_selection import train_test_split, cross_val_score\n",
        "from sklearn.model_selection import GridSearchCV\n",
        "from sklearn.metrics import accuracy_score, confusion_matrix, f1_score\n",
        "\n",
        "from nltk import word_tokenize\n",
        "from nltk.corpus import stopwords\n",
        "from nltk.stem.wordnet import WordNetLemmatizer\n",
        "\n",
        "%matplotlib inline"
      ],
      "execution_count": 0,
      "outputs": []
    },
    {
      "cell_type": "code",
      "metadata": {
        "id": "bN1WZMq-SrCJ",
        "colab_type": "code",
        "outputId": "7348a25e-ef88-4424-cfdb-b9cddbe947b3",
        "colab": {
          "base_uri": "https://localhost:8080/",
          "height": 224
        }
      },
      "source": [
        "!wget http://deepyeti.ucsd.edu/jianmo/amazon/categoryFilesSmall/Cell_Phones_and_Accessories_5.json.gz"
      ],
      "execution_count": 3,
      "outputs": [
        {
          "output_type": "stream",
          "text": [
            "--2020-05-01 02:28:50--  http://deepyeti.ucsd.edu/jianmo/amazon/categoryFilesSmall/Cell_Phones_and_Accessories_5.json.gz\n",
            "Resolving deepyeti.ucsd.edu (deepyeti.ucsd.edu)... 169.228.63.50\n",
            "Connecting to deepyeti.ucsd.edu (deepyeti.ucsd.edu)|169.228.63.50|:80... connected.\n",
            "HTTP request sent, awaiting response... 200 OK\n",
            "Length: 169071325 (161M) [application/octet-stream]\n",
            "Saving to: ‘Cell_Phones_and_Accessories_5.json.gz’\n",
            "\n",
            "Cell_Phones_and_Acc 100%[===================>] 161.24M  11.0MB/s    in 16s     \n",
            "\n",
            "2020-05-01 02:29:06 (10.2 MB/s) - ‘Cell_Phones_and_Accessories_5.json.gz’ saved [169071325/169071325]\n",
            "\n"
          ],
          "name": "stdout"
        }
      ]
    },
    {
      "cell_type": "code",
      "metadata": {
        "id": "eHz91LkXTLkA",
        "colab_type": "code",
        "outputId": "d36e6e83-6d0a-4051-85d2-2b056d110995",
        "colab": {
          "base_uri": "https://localhost:8080/",
          "height": 71
        }
      },
      "source": [
        "data = []\n",
        "with gzip.open('Cell_Phones_and_Accessories_5.json.gz') as f:\n",
        "    for l in f:\n",
        "        data.append(json.loads(l.strip()))\n",
        "    \n",
        "# total length of list, this number equals total number of products\n",
        "print(len(data))\n",
        "\n",
        "# first row of the list\n",
        "print(data[0])"
      ],
      "execution_count": 4,
      "outputs": [
        {
          "output_type": "stream",
          "text": [
            "1128437\n",
            "{'overall': 5.0, 'verified': True, 'reviewTime': '08 4, 2014', 'reviewerID': 'A24E3SXTC62LJI', 'asin': '7508492919', 'style': {'Color:': ' Bling'}, 'reviewerName': 'Claudia Valdivia', 'reviewText': 'Looks even better in person. Be careful to not drop your phone so often because the rhinestones will fall off (duh). More of a decorative case than it is protective, but I will say that it fits perfectly and securely on my phone. Overall, very pleased with this purchase.', 'summary': \"Can't stop won't stop looking at it\", 'unixReviewTime': 1407110400}\n"
          ],
          "name": "stdout"
        }
      ]
    },
    {
      "cell_type": "code",
      "metadata": {
        "id": "QLeHFr-oTSTR",
        "colab_type": "code",
        "outputId": "de2d57b5-a16c-4947-fabc-12250e60d67b",
        "colab": {
          "base_uri": "https://localhost:8080/",
          "height": 34
        }
      },
      "source": [
        "# convert list into pandas dataframe\n",
        "df = pd.DataFrame.from_dict(data)\n",
        "\n",
        "print(len(df))"
      ],
      "execution_count": 5,
      "outputs": [
        {
          "output_type": "stream",
          "text": [
            "1128437\n"
          ],
          "name": "stdout"
        }
      ]
    },
    {
      "cell_type": "code",
      "metadata": {
        "id": "0cl56kp8hvLT",
        "colab_type": "code",
        "colab": {}
      },
      "source": [
        "#df2 = df\n",
        "#df2['vote'] = df2['vote'].fillna('0')"
      ],
      "execution_count": 0,
      "outputs": []
    },
    {
      "cell_type": "code",
      "metadata": {
        "id": "lahM_8XJitPP",
        "colab_type": "code",
        "outputId": "9b56e768-80c0-410c-c4b7-0c300f932ada",
        "colab": {
          "base_uri": "https://localhost:8080/",
          "height": 340
        }
      },
      "source": [
        "df.info()"
      ],
      "execution_count": 0,
      "outputs": [
        {
          "output_type": "stream",
          "text": [
            "<class 'pandas.core.frame.DataFrame'>\n",
            "RangeIndex: 1128437 entries, 0 to 1128436\n",
            "Data columns (total 12 columns):\n",
            " #   Column          Non-Null Count    Dtype  \n",
            "---  ------          --------------    -----  \n",
            " 0   overall         1128437 non-null  float64\n",
            " 1   verified        1128437 non-null  bool   \n",
            " 2   reviewTime      1128437 non-null  object \n",
            " 3   reviewerID      1128437 non-null  object \n",
            " 4   asin            1128437 non-null  object \n",
            " 5   style           605241 non-null   object \n",
            " 6   reviewerName    1128302 non-null  object \n",
            " 7   reviewText      1127672 non-null  object \n",
            " 8   summary         1127920 non-null  object \n",
            " 9   unixReviewTime  1128437 non-null  int64  \n",
            " 10  vote            1128437 non-null  object \n",
            " 11  image           27107 non-null    object \n",
            "dtypes: bool(1), float64(1), int64(1), object(9)\n",
            "memory usage: 95.8+ MB\n"
          ],
          "name": "stdout"
        }
      ]
    },
    {
      "cell_type": "code",
      "metadata": {
        "id": "qpPRzFvV2Y6i",
        "colab_type": "code",
        "outputId": "0dd4f053-5519-4582-d173-4e59c53f9257",
        "colab": {
          "base_uri": "https://localhost:8080/",
          "height": 419
        }
      },
      "source": [
        "df.groupby(['asin']).size().sort_values(ascending=False).reset_index(name='count')"
      ],
      "execution_count": 0,
      "outputs": [
        {
          "output_type": "execute_result",
          "data": {
            "text/html": [
              "<div>\n",
              "<style scoped>\n",
              "    .dataframe tbody tr th:only-of-type {\n",
              "        vertical-align: middle;\n",
              "    }\n",
              "\n",
              "    .dataframe tbody tr th {\n",
              "        vertical-align: top;\n",
              "    }\n",
              "\n",
              "    .dataframe thead th {\n",
              "        text-align: right;\n",
              "    }\n",
              "</style>\n",
              "<table border=\"1\" class=\"dataframe\">\n",
              "  <thead>\n",
              "    <tr style=\"text-align: right;\">\n",
              "      <th></th>\n",
              "      <th>asin</th>\n",
              "      <th>count</th>\n",
              "    </tr>\n",
              "  </thead>\n",
              "  <tbody>\n",
              "    <tr>\n",
              "      <th>0</th>\n",
              "      <td>B00VH88CJ0</td>\n",
              "      <td>1684</td>\n",
              "    </tr>\n",
              "    <tr>\n",
              "      <th>1</th>\n",
              "      <td>B005NF5NTK</td>\n",
              "      <td>1634</td>\n",
              "    </tr>\n",
              "    <tr>\n",
              "      <th>2</th>\n",
              "      <td>B00X5RV14Y</td>\n",
              "      <td>1514</td>\n",
              "    </tr>\n",
              "    <tr>\n",
              "      <th>3</th>\n",
              "      <td>B00P7N0320</td>\n",
              "      <td>1513</td>\n",
              "    </tr>\n",
              "    <tr>\n",
              "      <th>4</th>\n",
              "      <td>B019PV2I3G</td>\n",
              "      <td>1508</td>\n",
              "    </tr>\n",
              "    <tr>\n",
              "      <th>...</th>\n",
              "      <td>...</td>\n",
              "      <td>...</td>\n",
              "    </tr>\n",
              "    <tr>\n",
              "      <th>48181</th>\n",
              "      <td>B000YUE340</td>\n",
              "      <td>1</td>\n",
              "    </tr>\n",
              "    <tr>\n",
              "      <th>48182</th>\n",
              "      <td>B00172L5JU</td>\n",
              "      <td>1</td>\n",
              "    </tr>\n",
              "    <tr>\n",
              "      <th>48183</th>\n",
              "      <td>B0014TAFPG</td>\n",
              "      <td>1</td>\n",
              "    </tr>\n",
              "    <tr>\n",
              "      <th>48184</th>\n",
              "      <td>B0010S8S3C</td>\n",
              "      <td>1</td>\n",
              "    </tr>\n",
              "    <tr>\n",
              "      <th>48185</th>\n",
              "      <td>B0016569I0</td>\n",
              "      <td>1</td>\n",
              "    </tr>\n",
              "  </tbody>\n",
              "</table>\n",
              "<p>48186 rows × 2 columns</p>\n",
              "</div>"
            ],
            "text/plain": [
              "             asin  count\n",
              "0      B00VH88CJ0   1684\n",
              "1      B005NF5NTK   1634\n",
              "2      B00X5RV14Y   1514\n",
              "3      B00P7N0320   1513\n",
              "4      B019PV2I3G   1508\n",
              "...           ...    ...\n",
              "48181  B000YUE340      1\n",
              "48182  B00172L5JU      1\n",
              "48183  B0014TAFPG      1\n",
              "48184  B0010S8S3C      1\n",
              "48185  B0016569I0      1\n",
              "\n",
              "[48186 rows x 2 columns]"
            ]
          },
          "metadata": {
            "tags": []
          },
          "execution_count": 8
        }
      ]
    },
    {
      "cell_type": "markdown",
      "metadata": {
        "id": "1_2jAjXAzvHJ",
        "colab_type": "text"
      },
      "source": [
        "# Section - EDA and Preprocessing"
      ]
    },
    {
      "cell_type": "code",
      "metadata": {
        "id": "raZjno7V0E1P",
        "colab_type": "code",
        "outputId": "6d9c92a4-c3e2-499a-f043-628ec8adab98",
        "colab": {
          "base_uri": "https://localhost:8080/",
          "height": 34
        }
      },
      "source": [
        "print('Dataset size: {:,} words'.format(len(df)))"
      ],
      "execution_count": 0,
      "outputs": [
        {
          "output_type": "stream",
          "text": [
            "Dataset size: 1,128,437 words\n"
          ],
          "name": "stdout"
        }
      ]
    },
    {
      "cell_type": "code",
      "metadata": {
        "id": "E2raVZ630qWT",
        "colab_type": "code",
        "outputId": "4e9af9b4-0ed5-4aba-a726-18e9fea9ac5d",
        "colab": {
          "base_uri": "https://localhost:8080/",
          "height": 383
        }
      },
      "source": [
        "df[:3]"
      ],
      "execution_count": 0,
      "outputs": [
        {
          "output_type": "execute_result",
          "data": {
            "text/html": [
              "<div>\n",
              "<style scoped>\n",
              "    .dataframe tbody tr th:only-of-type {\n",
              "        vertical-align: middle;\n",
              "    }\n",
              "\n",
              "    .dataframe tbody tr th {\n",
              "        vertical-align: top;\n",
              "    }\n",
              "\n",
              "    .dataframe thead th {\n",
              "        text-align: right;\n",
              "    }\n",
              "</style>\n",
              "<table border=\"1\" class=\"dataframe\">\n",
              "  <thead>\n",
              "    <tr style=\"text-align: right;\">\n",
              "      <th></th>\n",
              "      <th>overall</th>\n",
              "      <th>verified</th>\n",
              "      <th>reviewTime</th>\n",
              "      <th>reviewerID</th>\n",
              "      <th>asin</th>\n",
              "      <th>style</th>\n",
              "      <th>reviewerName</th>\n",
              "      <th>reviewText</th>\n",
              "      <th>summary</th>\n",
              "      <th>unixReviewTime</th>\n",
              "      <th>vote</th>\n",
              "      <th>image</th>\n",
              "    </tr>\n",
              "  </thead>\n",
              "  <tbody>\n",
              "    <tr>\n",
              "      <th>0</th>\n",
              "      <td>5.0</td>\n",
              "      <td>True</td>\n",
              "      <td>08 4, 2014</td>\n",
              "      <td>A24E3SXTC62LJI</td>\n",
              "      <td>7508492919</td>\n",
              "      <td>{'Color:': ' Bling'}</td>\n",
              "      <td>Claudia Valdivia</td>\n",
              "      <td>Looks even better in person. Be careful to not...</td>\n",
              "      <td>Can't stop won't stop looking at it</td>\n",
              "      <td>1407110400</td>\n",
              "      <td>NaN</td>\n",
              "      <td>NaN</td>\n",
              "    </tr>\n",
              "    <tr>\n",
              "      <th>1</th>\n",
              "      <td>5.0</td>\n",
              "      <td>True</td>\n",
              "      <td>02 12, 2014</td>\n",
              "      <td>A269FLZCB4GIPV</td>\n",
              "      <td>7508492919</td>\n",
              "      <td>NaN</td>\n",
              "      <td>sarah ponce</td>\n",
              "      <td>When you don't want to spend a whole lot of ca...</td>\n",
              "      <td>1</td>\n",
              "      <td>1392163200</td>\n",
              "      <td>NaN</td>\n",
              "      <td>NaN</td>\n",
              "    </tr>\n",
              "    <tr>\n",
              "      <th>2</th>\n",
              "      <td>3.0</td>\n",
              "      <td>True</td>\n",
              "      <td>02 8, 2014</td>\n",
              "      <td>AB6CHQWHZW4TV</td>\n",
              "      <td>7508492919</td>\n",
              "      <td>NaN</td>\n",
              "      <td>Kai</td>\n",
              "      <td>so the case came on time, i love the design. I...</td>\n",
              "      <td>Its okay</td>\n",
              "      <td>1391817600</td>\n",
              "      <td>NaN</td>\n",
              "      <td>NaN</td>\n",
              "    </tr>\n",
              "  </tbody>\n",
              "</table>\n",
              "</div>"
            ],
            "text/plain": [
              "   overall  verified   reviewTime  ... unixReviewTime vote image\n",
              "0      5.0      True   08 4, 2014  ...     1407110400  NaN   NaN\n",
              "1      5.0      True  02 12, 2014  ...     1392163200  NaN   NaN\n",
              "2      3.0      True   02 8, 2014  ...     1391817600  NaN   NaN\n",
              "\n",
              "[3 rows x 12 columns]"
            ]
          },
          "metadata": {
            "tags": []
          },
          "execution_count": 6
        }
      ]
    },
    {
      "cell_type": "markdown",
      "metadata": {
        "id": "n31E0V3l1Fop",
        "colab_type": "text"
      },
      "source": [
        "Reformat $\\underline{datetime}$ from raw form."
      ]
    },
    {
      "cell_type": "code",
      "metadata": {
        "id": "Pc7n0tZu09KL",
        "colab_type": "code",
        "colab": {}
      },
      "source": [
        "df[\"reviewTime\"] = pd.to_datetime(df[\"reviewTime\"])"
      ],
      "execution_count": 0,
      "outputs": []
    },
    {
      "cell_type": "markdown",
      "metadata": {
        "id": "ZzzDbybb1QvQ",
        "colab_type": "text"
      },
      "source": [
        "Rearrange the left-to-right by relevance"
      ]
    },
    {
      "cell_type": "code",
      "metadata": {
        "id": "q24vge3w1IaS",
        "colab_type": "code",
        "outputId": "8b5a8d59-6f24-4a77-857a-f6bf5c90f074",
        "colab": {
          "base_uri": "https://localhost:8080/",
          "height": 193
        }
      },
      "source": [
        "df = df[['asin', 'summary', 'reviewText', 'overall', 'reviewerID', 'reviewerName', 'reviewTime',\n",
        "      'unixReviewTime']]\n",
        "df.head(3)"
      ],
      "execution_count": 0,
      "outputs": [
        {
          "output_type": "execute_result",
          "data": {
            "text/html": [
              "<div>\n",
              "<style scoped>\n",
              "    .dataframe tbody tr th:only-of-type {\n",
              "        vertical-align: middle;\n",
              "    }\n",
              "\n",
              "    .dataframe tbody tr th {\n",
              "        vertical-align: top;\n",
              "    }\n",
              "\n",
              "    .dataframe thead th {\n",
              "        text-align: right;\n",
              "    }\n",
              "</style>\n",
              "<table border=\"1\" class=\"dataframe\">\n",
              "  <thead>\n",
              "    <tr style=\"text-align: right;\">\n",
              "      <th></th>\n",
              "      <th>asin</th>\n",
              "      <th>summary</th>\n",
              "      <th>reviewText</th>\n",
              "      <th>overall</th>\n",
              "      <th>reviewerID</th>\n",
              "      <th>reviewerName</th>\n",
              "      <th>reviewTime</th>\n",
              "      <th>unixReviewTime</th>\n",
              "    </tr>\n",
              "  </thead>\n",
              "  <tbody>\n",
              "    <tr>\n",
              "      <th>0</th>\n",
              "      <td>7508492919</td>\n",
              "      <td>Can't stop won't stop looking at it</td>\n",
              "      <td>Looks even better in person. Be careful to not...</td>\n",
              "      <td>5.0</td>\n",
              "      <td>A24E3SXTC62LJI</td>\n",
              "      <td>Claudia Valdivia</td>\n",
              "      <td>2014-08-04</td>\n",
              "      <td>1407110400</td>\n",
              "    </tr>\n",
              "    <tr>\n",
              "      <th>1</th>\n",
              "      <td>7508492919</td>\n",
              "      <td>1</td>\n",
              "      <td>When you don't want to spend a whole lot of ca...</td>\n",
              "      <td>5.0</td>\n",
              "      <td>A269FLZCB4GIPV</td>\n",
              "      <td>sarah ponce</td>\n",
              "      <td>2014-02-12</td>\n",
              "      <td>1392163200</td>\n",
              "    </tr>\n",
              "    <tr>\n",
              "      <th>2</th>\n",
              "      <td>7508492919</td>\n",
              "      <td>Its okay</td>\n",
              "      <td>so the case came on time, i love the design. I...</td>\n",
              "      <td>3.0</td>\n",
              "      <td>AB6CHQWHZW4TV</td>\n",
              "      <td>Kai</td>\n",
              "      <td>2014-02-08</td>\n",
              "      <td>1391817600</td>\n",
              "    </tr>\n",
              "  </tbody>\n",
              "</table>\n",
              "</div>"
            ],
            "text/plain": [
              "         asin                              summary  ... reviewTime  unixReviewTime\n",
              "0  7508492919  Can't stop won't stop looking at it  ... 2014-08-04      1407110400\n",
              "1  7508492919                                    1  ... 2014-02-12      1392163200\n",
              "2  7508492919                             Its okay  ... 2014-02-08      1391817600\n",
              "\n",
              "[3 rows x 8 columns]"
            ]
          },
          "metadata": {
            "tags": []
          },
          "execution_count": 8
        }
      ]
    },
    {
      "cell_type": "markdown",
      "metadata": {
        "id": "9k7556rG167T",
        "colab_type": "text"
      },
      "source": [
        "## Number of Reviews by Unique Products [asin]\n"
      ]
    },
    {
      "cell_type": "code",
      "metadata": {
        "id": "h0Ol2V8f1_t8",
        "colab_type": "code",
        "outputId": "4697ec7b-9eda-487d-c892-82a0fcd77784",
        "colab": {
          "base_uri": "https://localhost:8080/",
          "height": 34
        }
      },
      "source": [
        "products = df['overall'].groupby(df['asin']).count()\n",
        "print(\"Number of Unique Products in the Cell Phones & Accessories Category = {}\".format(products.count()))"
      ],
      "execution_count": 0,
      "outputs": [
        {
          "output_type": "stream",
          "text": [
            "Number of Unique Products in the Cell Phones & Accessories Category = 48186\n"
          ],
          "name": "stdout"
        }
      ]
    },
    {
      "cell_type": "markdown",
      "metadata": {
        "id": "YS1_xkUZ2NDe",
        "colab_type": "text"
      },
      "source": [
        "Top 20 Reviewed Products"
      ]
    },
    {
      "cell_type": "code",
      "metadata": {
        "id": "HNMOok802OwI",
        "colab_type": "code",
        "outputId": "3bbfdc42-4d00-40d4-de67-c0a271c5fe60",
        "colab": {
          "base_uri": "https://localhost:8080/",
          "height": 459
        }
      },
      "source": [
        "sorted_products = products.sort_values(ascending=False)\n",
        "\n",
        "print(\"Top 20 Reviewed Products:\\n\")\n",
        "print(sorted_products[:20], end='\\n\\n')\n",
        "print('Most Reviewed Product, B001HBHNHE - has {} reviews.'.format(products.max()))"
      ],
      "execution_count": 0,
      "outputs": [
        {
          "output_type": "stream",
          "text": [
            "Top 20 Reviewed Products:\n",
            "\n",
            "asin\n",
            "B00VH88CJ0    1684\n",
            "B005NF5NTK    1634\n",
            "B00X5RV14Y    1514\n",
            "B00P7N0320    1513\n",
            "B019PV2I3G    1508\n",
            "B018JW3EOY    1506\n",
            "B00G7UY3EG    1378\n",
            "B00MQSMDYU    1340\n",
            "B00M51DDT2    1267\n",
            "B00QN1T6NM    1228\n",
            "B00IGISUTG    1119\n",
            "B0092KJ9BU    1065\n",
            "B00D856NOG    1043\n",
            "B00BT8L2MW    1028\n",
            "B00AANQLRI    1023\n",
            "B00UCZGS6S    1008\n",
            "B00UH3L82Y    1008\n",
            "B014EB532U    1002\n",
            "B00MXWFUQC     978\n",
            "B00M6QODH2     977\n",
            "Name: overall, dtype: int64\n",
            "\n",
            "Most Reviewed Product, B001HBHNHE - has 1684 reviews.\n"
          ],
          "name": "stdout"
        }
      ]
    },
    {
      "cell_type": "markdown",
      "metadata": {
        "id": "4azp7QID2YOD",
        "colab_type": "text"
      },
      "source": [
        "The top 1 reviewed product is \"Anker 24W Dual USB Car Charger, PowerDrive 2 for iPhone X / 8/7 / 6s / Plus, iPad Pro/Air 2 / Mini, Note 5/4, LG, Nexus, HTC, and More\" "
      ]
    },
    {
      "cell_type": "markdown",
      "metadata": {
        "id": "UoVsL3xN2eas",
        "colab_type": "text"
      },
      "source": [
        "Bottom 20 Reviewed Products"
      ]
    },
    {
      "cell_type": "code",
      "metadata": {
        "id": "Kzs2M_2p2liF",
        "colab_type": "code",
        "outputId": "9fb7be57-9404-45a0-9805-1d067c887de0",
        "colab": {
          "base_uri": "https://localhost:8080/",
          "height": 459
        }
      },
      "source": [
        "print(\"Bottom 20 Reviewed Products:\\n\")\n",
        "print(sorted_products[48166:], end='\\n\\n')\n",
        "print('Least Reviewed Product (Sorted), B003Z6HUZE - has {} reviews.'.format(products.min()))"
      ],
      "execution_count": 0,
      "outputs": [
        {
          "output_type": "stream",
          "text": [
            "Bottom 20 Reviewed Products:\n",
            "\n",
            "asin\n",
            "B0017O94ZK    1\n",
            "B000X1IR56    1\n",
            "B0013N5QMA    1\n",
            "B00165ABSY    1\n",
            "B0014Z2KBW    1\n",
            "B0012FY7TW    1\n",
            "B0013LKXEI    1\n",
            "B0012IZ4JG    1\n",
            "B0013FBFFU    1\n",
            "B001654GD0    1\n",
            "B000XEBXT0    1\n",
            "B00T66ICN6    1\n",
            "B000Y96H1I    1\n",
            "B000Y9KLVU    1\n",
            "B0013CBM3S    1\n",
            "B000YUE340    1\n",
            "B00172L5JU    1\n",
            "B0014TAFPG    1\n",
            "B0010S8S3C    1\n",
            "B0016569I0    1\n",
            "Name: overall, dtype: int64\n",
            "\n",
            "Least Reviewed Product (Sorted), B003Z6HUZE - has 1 reviews.\n"
          ],
          "name": "stdout"
        }
      ]
    },
    {
      "cell_type": "markdown",
      "metadata": {
        "id": "MFmRywcW21BZ",
        "colab_type": "text"
      },
      "source": [
        "WE can check B0017O94ZK is the least popular"
      ]
    },
    {
      "cell_type": "markdown",
      "metadata": {
        "id": "AyqI8Ve13ZIE",
        "colab_type": "text"
      },
      "source": [
        "## Reviews"
      ]
    },
    {
      "cell_type": "code",
      "metadata": {
        "id": "JBz6J7cI3b8J",
        "colab_type": "code",
        "outputId": "145edad2-5780-4c75-91df-4146062c3181",
        "colab": {
          "base_uri": "https://localhost:8080/",
          "height": 34
        }
      },
      "source": [
        "reviews = df['reviewText']\n",
        "reviews.count()"
      ],
      "execution_count": 0,
      "outputs": [
        {
          "output_type": "execute_result",
          "data": {
            "text/plain": [
              "1127672"
            ]
          },
          "metadata": {
            "tags": []
          },
          "execution_count": 13
        }
      ]
    },
    {
      "cell_type": "code",
      "metadata": {
        "id": "tABA0wHpsor5",
        "colab_type": "code",
        "outputId": "360d94a7-04c2-4768-c961-9dbe66087b9e",
        "colab": {
          "base_uri": "https://localhost:8080/",
          "height": 289
        }
      },
      "source": [
        "df.['reviwerName'] = pd.as"
      ],
      "execution_count": 0,
      "outputs": [
        {
          "output_type": "stream",
          "text": [
            "<class 'pandas.core.frame.DataFrame'>\n",
            "RangeIndex: 1128437 entries, 0 to 1128436\n",
            "Data columns (total 9 columns):\n",
            " #   Column          Non-Null Count    Dtype         \n",
            "---  ------          --------------    -----         \n",
            " 0   asin            1128437 non-null  object        \n",
            " 1   summary         1127920 non-null  object        \n",
            " 2   reviewText      1127672 non-null  object        \n",
            " 3   overall         1128437 non-null  float64       \n",
            " 4   reviewerID      1128437 non-null  object        \n",
            " 5   reviewerName    1128302 non-null  object        \n",
            " 6   reviewTime      1128437 non-null  datetime64[ns]\n",
            " 7   unixReviewTime  1128437 non-null  int64         \n",
            " 8   TEXT            1127672 non-null  object        \n",
            "dtypes: datetime64[ns](1), float64(1), int64(1), object(6)\n",
            "memory usage: 77.5+ MB\n"
          ],
          "name": "stdout"
        }
      ]
    },
    {
      "cell_type": "code",
      "metadata": {
        "id": "yUQIepi5r-gd",
        "colab_type": "code",
        "outputId": "27c8e127-e407-4164-d20a-298da2930acc",
        "colab": {
          "base_uri": "https://localhost:8080/",
          "height": 531
        }
      },
      "source": [
        "df['TEXT'] = df['reviewText'].str.lower()\n",
        "\n",
        "import string \n",
        "def remove_punctuations(text):\n",
        "    for punctuation in string.punctuation:\n",
        "        text = text.replace(punctuation, '')\n",
        "    return text\n",
        "\n",
        "df[\"TEXT\"] = df['TEXT'].apply(remove_punctuations)\n",
        "\n",
        "from nltk.corpus import stopwords\n",
        "stop = stopwords.words('english')\n",
        "\n",
        "df['TEXT'] = df['TEXT'].apply(lambda x: ' '.join([word for word in x.split() if word not in (stop)]))\n",
        "\n",
        "import re\n",
        "\n",
        "df.TEXT = df.TEXT.str.replace(r'\\b\\w\\b','').str.replace(r'\\s+', ' ')\n",
        "\n",
        "df[\"TEXT_split\"] = df.TEXT.str.split()"
      ],
      "execution_count": 0,
      "outputs": [
        {
          "output_type": "stream",
          "text": [
            "/usr/local/lib/python3.6/dist-packages/ipykernel_launcher.py:1: SettingWithCopyWarning: \n",
            "A value is trying to be set on a copy of a slice from a DataFrame.\n",
            "Try using .loc[row_indexer,col_indexer] = value instead\n",
            "\n",
            "See the caveats in the documentation: https://pandas.pydata.org/pandas-docs/stable/user_guide/indexing.html#returning-a-view-versus-a-copy\n",
            "  \"\"\"Entry point for launching an IPython kernel.\n"
          ],
          "name": "stderr"
        },
        {
          "output_type": "error",
          "ename": "AttributeError",
          "evalue": "ignored",
          "traceback": [
            "\u001b[0;31m---------------------------------------------------------------------------\u001b[0m",
            "\u001b[0;31mAttributeError\u001b[0m                            Traceback (most recent call last)",
            "\u001b[0;32m<ipython-input-18-0ada1a588765>\u001b[0m in \u001b[0;36m<module>\u001b[0;34m()\u001b[0m\n\u001b[1;32m      7\u001b[0m     \u001b[0;32mreturn\u001b[0m \u001b[0mtext\u001b[0m\u001b[0;34m\u001b[0m\u001b[0;34m\u001b[0m\u001b[0m\n\u001b[1;32m      8\u001b[0m \u001b[0;34m\u001b[0m\u001b[0m\n\u001b[0;32m----> 9\u001b[0;31m \u001b[0mdf\u001b[0m\u001b[0;34m[\u001b[0m\u001b[0;34m\"TEXT\"\u001b[0m\u001b[0;34m]\u001b[0m \u001b[0;34m=\u001b[0m \u001b[0mdf\u001b[0m\u001b[0;34m[\u001b[0m\u001b[0;34m'TEXT'\u001b[0m\u001b[0;34m]\u001b[0m\u001b[0;34m.\u001b[0m\u001b[0mapply\u001b[0m\u001b[0;34m(\u001b[0m\u001b[0mremove_punctuations\u001b[0m\u001b[0;34m)\u001b[0m\u001b[0;34m\u001b[0m\u001b[0;34m\u001b[0m\u001b[0m\n\u001b[0m\u001b[1;32m     10\u001b[0m \u001b[0;34m\u001b[0m\u001b[0m\n\u001b[1;32m     11\u001b[0m \u001b[0;32mfrom\u001b[0m \u001b[0mnltk\u001b[0m\u001b[0;34m.\u001b[0m\u001b[0mcorpus\u001b[0m \u001b[0;32mimport\u001b[0m \u001b[0mstopwords\u001b[0m\u001b[0;34m\u001b[0m\u001b[0;34m\u001b[0m\u001b[0m\n",
            "\u001b[0;32m/usr/local/lib/python3.6/dist-packages/pandas/core/series.py\u001b[0m in \u001b[0;36mapply\u001b[0;34m(self, func, convert_dtype, args, **kwds)\u001b[0m\n\u001b[1;32m   3846\u001b[0m             \u001b[0;32melse\u001b[0m\u001b[0;34m:\u001b[0m\u001b[0;34m\u001b[0m\u001b[0;34m\u001b[0m\u001b[0m\n\u001b[1;32m   3847\u001b[0m                 \u001b[0mvalues\u001b[0m \u001b[0;34m=\u001b[0m \u001b[0mself\u001b[0m\u001b[0;34m.\u001b[0m\u001b[0mastype\u001b[0m\u001b[0;34m(\u001b[0m\u001b[0mobject\u001b[0m\u001b[0;34m)\u001b[0m\u001b[0;34m.\u001b[0m\u001b[0mvalues\u001b[0m\u001b[0;34m\u001b[0m\u001b[0;34m\u001b[0m\u001b[0m\n\u001b[0;32m-> 3848\u001b[0;31m                 \u001b[0mmapped\u001b[0m \u001b[0;34m=\u001b[0m \u001b[0mlib\u001b[0m\u001b[0;34m.\u001b[0m\u001b[0mmap_infer\u001b[0m\u001b[0;34m(\u001b[0m\u001b[0mvalues\u001b[0m\u001b[0;34m,\u001b[0m \u001b[0mf\u001b[0m\u001b[0;34m,\u001b[0m \u001b[0mconvert\u001b[0m\u001b[0;34m=\u001b[0m\u001b[0mconvert_dtype\u001b[0m\u001b[0;34m)\u001b[0m\u001b[0;34m\u001b[0m\u001b[0;34m\u001b[0m\u001b[0m\n\u001b[0m\u001b[1;32m   3849\u001b[0m \u001b[0;34m\u001b[0m\u001b[0m\n\u001b[1;32m   3850\u001b[0m         \u001b[0;32mif\u001b[0m \u001b[0mlen\u001b[0m\u001b[0;34m(\u001b[0m\u001b[0mmapped\u001b[0m\u001b[0;34m)\u001b[0m \u001b[0;32mand\u001b[0m \u001b[0misinstance\u001b[0m\u001b[0;34m(\u001b[0m\u001b[0mmapped\u001b[0m\u001b[0;34m[\u001b[0m\u001b[0;36m0\u001b[0m\u001b[0;34m]\u001b[0m\u001b[0;34m,\u001b[0m \u001b[0mSeries\u001b[0m\u001b[0;34m)\u001b[0m\u001b[0;34m:\u001b[0m\u001b[0;34m\u001b[0m\u001b[0;34m\u001b[0m\u001b[0m\n",
            "\u001b[0;32mpandas/_libs/lib.pyx\u001b[0m in \u001b[0;36mpandas._libs.lib.map_infer\u001b[0;34m()\u001b[0m\n",
            "\u001b[0;32m<ipython-input-18-0ada1a588765>\u001b[0m in \u001b[0;36mremove_punctuations\u001b[0;34m(text)\u001b[0m\n\u001b[1;32m      4\u001b[0m \u001b[0;32mdef\u001b[0m \u001b[0mremove_punctuations\u001b[0m\u001b[0;34m(\u001b[0m\u001b[0mtext\u001b[0m\u001b[0;34m)\u001b[0m\u001b[0;34m:\u001b[0m\u001b[0;34m\u001b[0m\u001b[0;34m\u001b[0m\u001b[0m\n\u001b[1;32m      5\u001b[0m     \u001b[0;32mfor\u001b[0m \u001b[0mpunctuation\u001b[0m \u001b[0;32min\u001b[0m \u001b[0mstring\u001b[0m\u001b[0;34m.\u001b[0m\u001b[0mpunctuation\u001b[0m\u001b[0;34m:\u001b[0m\u001b[0;34m\u001b[0m\u001b[0;34m\u001b[0m\u001b[0m\n\u001b[0;32m----> 6\u001b[0;31m         \u001b[0mtext\u001b[0m \u001b[0;34m=\u001b[0m \u001b[0mtext\u001b[0m\u001b[0;34m.\u001b[0m\u001b[0mreplace\u001b[0m\u001b[0;34m(\u001b[0m\u001b[0mpunctuation\u001b[0m\u001b[0;34m,\u001b[0m \u001b[0;34m''\u001b[0m\u001b[0;34m)\u001b[0m\u001b[0;34m\u001b[0m\u001b[0;34m\u001b[0m\u001b[0m\n\u001b[0m\u001b[1;32m      7\u001b[0m     \u001b[0;32mreturn\u001b[0m \u001b[0mtext\u001b[0m\u001b[0;34m\u001b[0m\u001b[0;34m\u001b[0m\u001b[0m\n\u001b[1;32m      8\u001b[0m \u001b[0;34m\u001b[0m\u001b[0m\n",
            "\u001b[0;31mAttributeError\u001b[0m: 'float' object has no attribute 'replace'"
          ]
        }
      ]
    },
    {
      "cell_type": "code",
      "metadata": {
        "id": "L1uAHugg3txa",
        "colab_type": "code",
        "outputId": "ec3578da-6b29-470b-b74b-dacd691b8171",
        "colab": {
          "base_uri": "https://localhost:8080/",
          "height": 51
        }
      },
      "source": [
        "import nltk\n",
        "nltk.download('stopwords')\n",
        "from nltk.corpus import stopwords\n",
        "stop = stopwords.words('english')"
      ],
      "execution_count": 0,
      "outputs": [
        {
          "output_type": "stream",
          "text": [
            "[nltk_data] Downloading package stopwords to /root/nltk_data...\n",
            "[nltk_data]   Unzipping corpora/stopwords.zip.\n"
          ],
          "name": "stdout"
        }
      ]
    },
    {
      "cell_type": "code",
      "metadata": {
        "id": "vpStf71C3uyl",
        "colab_type": "code",
        "colab": {}
      },
      "source": [
        "def tokenize(text):\n",
        "    tokenized = word_tokenize(text)\n",
        "    no_punc = []\n",
        "    for review in tokenized:\n",
        "        line = \"\".join(char for char in review if char not in string.punctuation)\n",
        "        no_punc.append(line)\n",
        "    tokens = lemmatize(no_punc)\n",
        "    return tokens\n",
        "\n",
        "\n",
        "def lemmatize(tokens):\n",
        "    lmtzr = WordNetLemmatizer()\n",
        "    lemma = [lmtzr.lemmatize(t) for t in tokens]\n",
        "    return lemma"
      ],
      "execution_count": 0,
      "outputs": []
    },
    {
      "cell_type": "code",
      "metadata": {
        "id": "OygfmUtG3yU0",
        "colab_type": "code",
        "outputId": "d0d9b00d-f9cf-4258-b567-888cbd3a1c9b",
        "colab": {
          "base_uri": "https://localhost:8080/",
          "height": 443
        }
      },
      "source": [
        "import nltk\n",
        "nltk.download('punkt')\n",
        "nltk.download('wordnet')\n",
        "reviews = reviews.apply(lambda x: tokenize(x))"
      ],
      "execution_count": 0,
      "outputs": [
        {
          "output_type": "stream",
          "text": [
            "[nltk_data] Downloading package punkt to /root/nltk_data...\n",
            "[nltk_data]   Package punkt is already up-to-date!\n",
            "[nltk_data] Downloading package wordnet to /root/nltk_data...\n",
            "[nltk_data]   Unzipping corpora/wordnet.zip.\n"
          ],
          "name": "stdout"
        },
        {
          "output_type": "error",
          "ename": "TypeError",
          "evalue": "ignored",
          "traceback": [
            "\u001b[0;31m---------------------------------------------------------------------------\u001b[0m",
            "\u001b[0;31mTypeError\u001b[0m                                 Traceback (most recent call last)",
            "\u001b[0;32m<ipython-input-27-abeee66b5118>\u001b[0m in \u001b[0;36m<module>\u001b[0;34m()\u001b[0m\n\u001b[1;32m      2\u001b[0m \u001b[0mnltk\u001b[0m\u001b[0;34m.\u001b[0m\u001b[0mdownload\u001b[0m\u001b[0;34m(\u001b[0m\u001b[0;34m'punkt'\u001b[0m\u001b[0;34m)\u001b[0m\u001b[0;34m\u001b[0m\u001b[0;34m\u001b[0m\u001b[0m\n\u001b[1;32m      3\u001b[0m \u001b[0mnltk\u001b[0m\u001b[0;34m.\u001b[0m\u001b[0mdownload\u001b[0m\u001b[0;34m(\u001b[0m\u001b[0;34m'wordnet'\u001b[0m\u001b[0;34m)\u001b[0m\u001b[0;34m\u001b[0m\u001b[0;34m\u001b[0m\u001b[0m\n\u001b[0;32m----> 4\u001b[0;31m \u001b[0mreviews\u001b[0m \u001b[0;34m=\u001b[0m \u001b[0mreviews\u001b[0m\u001b[0;34m.\u001b[0m\u001b[0mapply\u001b[0m\u001b[0;34m(\u001b[0m\u001b[0;32mlambda\u001b[0m \u001b[0mx\u001b[0m\u001b[0;34m:\u001b[0m \u001b[0mtokenize\u001b[0m\u001b[0;34m(\u001b[0m\u001b[0mx\u001b[0m\u001b[0;34m)\u001b[0m\u001b[0;34m)\u001b[0m\u001b[0;34m\u001b[0m\u001b[0;34m\u001b[0m\u001b[0m\n\u001b[0m",
            "\u001b[0;32m/usr/local/lib/python3.6/dist-packages/pandas/core/series.py\u001b[0m in \u001b[0;36mapply\u001b[0;34m(self, func, convert_dtype, args, **kwds)\u001b[0m\n\u001b[1;32m   3846\u001b[0m             \u001b[0;32melse\u001b[0m\u001b[0;34m:\u001b[0m\u001b[0;34m\u001b[0m\u001b[0;34m\u001b[0m\u001b[0m\n\u001b[1;32m   3847\u001b[0m                 \u001b[0mvalues\u001b[0m \u001b[0;34m=\u001b[0m \u001b[0mself\u001b[0m\u001b[0;34m.\u001b[0m\u001b[0mastype\u001b[0m\u001b[0;34m(\u001b[0m\u001b[0mobject\u001b[0m\u001b[0;34m)\u001b[0m\u001b[0;34m.\u001b[0m\u001b[0mvalues\u001b[0m\u001b[0;34m\u001b[0m\u001b[0;34m\u001b[0m\u001b[0m\n\u001b[0;32m-> 3848\u001b[0;31m                 \u001b[0mmapped\u001b[0m \u001b[0;34m=\u001b[0m \u001b[0mlib\u001b[0m\u001b[0;34m.\u001b[0m\u001b[0mmap_infer\u001b[0m\u001b[0;34m(\u001b[0m\u001b[0mvalues\u001b[0m\u001b[0;34m,\u001b[0m \u001b[0mf\u001b[0m\u001b[0;34m,\u001b[0m \u001b[0mconvert\u001b[0m\u001b[0;34m=\u001b[0m\u001b[0mconvert_dtype\u001b[0m\u001b[0;34m)\u001b[0m\u001b[0;34m\u001b[0m\u001b[0;34m\u001b[0m\u001b[0m\n\u001b[0m\u001b[1;32m   3849\u001b[0m \u001b[0;34m\u001b[0m\u001b[0m\n\u001b[1;32m   3850\u001b[0m         \u001b[0;32mif\u001b[0m \u001b[0mlen\u001b[0m\u001b[0;34m(\u001b[0m\u001b[0mmapped\u001b[0m\u001b[0;34m)\u001b[0m \u001b[0;32mand\u001b[0m \u001b[0misinstance\u001b[0m\u001b[0;34m(\u001b[0m\u001b[0mmapped\u001b[0m\u001b[0;34m[\u001b[0m\u001b[0;36m0\u001b[0m\u001b[0;34m]\u001b[0m\u001b[0;34m,\u001b[0m \u001b[0mSeries\u001b[0m\u001b[0;34m)\u001b[0m\u001b[0;34m:\u001b[0m\u001b[0;34m\u001b[0m\u001b[0;34m\u001b[0m\u001b[0m\n",
            "\u001b[0;32mpandas/_libs/lib.pyx\u001b[0m in \u001b[0;36mpandas._libs.lib.map_infer\u001b[0;34m()\u001b[0m\n",
            "\u001b[0;32m<ipython-input-27-abeee66b5118>\u001b[0m in \u001b[0;36m<lambda>\u001b[0;34m(x)\u001b[0m\n\u001b[1;32m      2\u001b[0m \u001b[0mnltk\u001b[0m\u001b[0;34m.\u001b[0m\u001b[0mdownload\u001b[0m\u001b[0;34m(\u001b[0m\u001b[0;34m'punkt'\u001b[0m\u001b[0;34m)\u001b[0m\u001b[0;34m\u001b[0m\u001b[0;34m\u001b[0m\u001b[0m\n\u001b[1;32m      3\u001b[0m \u001b[0mnltk\u001b[0m\u001b[0;34m.\u001b[0m\u001b[0mdownload\u001b[0m\u001b[0;34m(\u001b[0m\u001b[0;34m'wordnet'\u001b[0m\u001b[0;34m)\u001b[0m\u001b[0;34m\u001b[0m\u001b[0;34m\u001b[0m\u001b[0m\n\u001b[0;32m----> 4\u001b[0;31m \u001b[0mreviews\u001b[0m \u001b[0;34m=\u001b[0m \u001b[0mreviews\u001b[0m\u001b[0;34m.\u001b[0m\u001b[0mapply\u001b[0m\u001b[0;34m(\u001b[0m\u001b[0;32mlambda\u001b[0m \u001b[0mx\u001b[0m\u001b[0;34m:\u001b[0m \u001b[0mtokenize\u001b[0m\u001b[0;34m(\u001b[0m\u001b[0mx\u001b[0m\u001b[0;34m)\u001b[0m\u001b[0;34m)\u001b[0m\u001b[0;34m\u001b[0m\u001b[0;34m\u001b[0m\u001b[0m\n\u001b[0m",
            "\u001b[0;32m<ipython-input-24-343ea228c654>\u001b[0m in \u001b[0;36mtokenize\u001b[0;34m(text)\u001b[0m\n\u001b[1;32m      1\u001b[0m \u001b[0;32mdef\u001b[0m \u001b[0mtokenize\u001b[0m\u001b[0;34m(\u001b[0m\u001b[0mtext\u001b[0m\u001b[0;34m)\u001b[0m\u001b[0;34m:\u001b[0m\u001b[0;34m\u001b[0m\u001b[0;34m\u001b[0m\u001b[0m\n\u001b[0;32m----> 2\u001b[0;31m     \u001b[0mtokenized\u001b[0m \u001b[0;34m=\u001b[0m \u001b[0mword_tokenize\u001b[0m\u001b[0;34m(\u001b[0m\u001b[0mtext\u001b[0m\u001b[0;34m)\u001b[0m\u001b[0;34m\u001b[0m\u001b[0;34m\u001b[0m\u001b[0m\n\u001b[0m\u001b[1;32m      3\u001b[0m     \u001b[0mno_punc\u001b[0m \u001b[0;34m=\u001b[0m \u001b[0;34m[\u001b[0m\u001b[0;34m]\u001b[0m\u001b[0;34m\u001b[0m\u001b[0;34m\u001b[0m\u001b[0m\n\u001b[1;32m      4\u001b[0m     \u001b[0;32mfor\u001b[0m \u001b[0mreview\u001b[0m \u001b[0;32min\u001b[0m \u001b[0mtokenized\u001b[0m\u001b[0;34m:\u001b[0m\u001b[0;34m\u001b[0m\u001b[0;34m\u001b[0m\u001b[0m\n\u001b[1;32m      5\u001b[0m         \u001b[0mline\u001b[0m \u001b[0;34m=\u001b[0m \u001b[0;34m\"\"\u001b[0m\u001b[0;34m.\u001b[0m\u001b[0mjoin\u001b[0m\u001b[0;34m(\u001b[0m\u001b[0mchar\u001b[0m \u001b[0;32mfor\u001b[0m \u001b[0mchar\u001b[0m \u001b[0;32min\u001b[0m \u001b[0mreview\u001b[0m \u001b[0;32mif\u001b[0m \u001b[0mchar\u001b[0m \u001b[0;32mnot\u001b[0m \u001b[0;32min\u001b[0m \u001b[0mstring\u001b[0m\u001b[0;34m.\u001b[0m\u001b[0mpunctuation\u001b[0m\u001b[0;34m)\u001b[0m\u001b[0;34m\u001b[0m\u001b[0;34m\u001b[0m\u001b[0m\n",
            "\u001b[0;32m/usr/local/lib/python3.6/dist-packages/nltk/tokenize/__init__.py\u001b[0m in \u001b[0;36mword_tokenize\u001b[0;34m(text, language, preserve_line)\u001b[0m\n\u001b[1;32m    126\u001b[0m     \u001b[0;34m:\u001b[0m\u001b[0mtype\u001b[0m \u001b[0mpreserver_line\u001b[0m\u001b[0;34m:\u001b[0m \u001b[0mbool\u001b[0m\u001b[0;34m\u001b[0m\u001b[0;34m\u001b[0m\u001b[0m\n\u001b[1;32m    127\u001b[0m     \"\"\"\n\u001b[0;32m--> 128\u001b[0;31m     \u001b[0msentences\u001b[0m \u001b[0;34m=\u001b[0m \u001b[0;34m[\u001b[0m\u001b[0mtext\u001b[0m\u001b[0;34m]\u001b[0m \u001b[0;32mif\u001b[0m \u001b[0mpreserve_line\u001b[0m \u001b[0;32melse\u001b[0m \u001b[0msent_tokenize\u001b[0m\u001b[0;34m(\u001b[0m\u001b[0mtext\u001b[0m\u001b[0;34m,\u001b[0m \u001b[0mlanguage\u001b[0m\u001b[0;34m)\u001b[0m\u001b[0;34m\u001b[0m\u001b[0;34m\u001b[0m\u001b[0m\n\u001b[0m\u001b[1;32m    129\u001b[0m     return [token for sent in sentences\n\u001b[1;32m    130\u001b[0m             for token in _treebank_word_tokenizer.tokenize(sent)]\n",
            "\u001b[0;32m/usr/local/lib/python3.6/dist-packages/nltk/tokenize/__init__.py\u001b[0m in \u001b[0;36msent_tokenize\u001b[0;34m(text, language)\u001b[0m\n\u001b[1;32m     93\u001b[0m     \"\"\"\n\u001b[1;32m     94\u001b[0m     \u001b[0mtokenizer\u001b[0m \u001b[0;34m=\u001b[0m \u001b[0mload\u001b[0m\u001b[0;34m(\u001b[0m\u001b[0;34m'tokenizers/punkt/{0}.pickle'\u001b[0m\u001b[0;34m.\u001b[0m\u001b[0mformat\u001b[0m\u001b[0;34m(\u001b[0m\u001b[0mlanguage\u001b[0m\u001b[0;34m)\u001b[0m\u001b[0;34m)\u001b[0m\u001b[0;34m\u001b[0m\u001b[0;34m\u001b[0m\u001b[0m\n\u001b[0;32m---> 95\u001b[0;31m     \u001b[0;32mreturn\u001b[0m \u001b[0mtokenizer\u001b[0m\u001b[0;34m.\u001b[0m\u001b[0mtokenize\u001b[0m\u001b[0;34m(\u001b[0m\u001b[0mtext\u001b[0m\u001b[0;34m)\u001b[0m\u001b[0;34m\u001b[0m\u001b[0;34m\u001b[0m\u001b[0m\n\u001b[0m\u001b[1;32m     96\u001b[0m \u001b[0;34m\u001b[0m\u001b[0m\n\u001b[1;32m     97\u001b[0m \u001b[0;31m# Standard word tokenizer.\u001b[0m\u001b[0;34m\u001b[0m\u001b[0;34m\u001b[0m\u001b[0;34m\u001b[0m\u001b[0m\n",
            "\u001b[0;32m/usr/local/lib/python3.6/dist-packages/nltk/tokenize/punkt.py\u001b[0m in \u001b[0;36mtokenize\u001b[0;34m(self, text, realign_boundaries)\u001b[0m\n\u001b[1;32m   1235\u001b[0m         \u001b[0mGiven\u001b[0m \u001b[0ma\u001b[0m \u001b[0mtext\u001b[0m\u001b[0;34m,\u001b[0m \u001b[0mreturns\u001b[0m \u001b[0ma\u001b[0m \u001b[0mlist\u001b[0m \u001b[0mof\u001b[0m \u001b[0mthe\u001b[0m \u001b[0msentences\u001b[0m \u001b[0;32min\u001b[0m \u001b[0mthat\u001b[0m \u001b[0mtext\u001b[0m\u001b[0;34m.\u001b[0m\u001b[0;34m\u001b[0m\u001b[0;34m\u001b[0m\u001b[0m\n\u001b[1;32m   1236\u001b[0m         \"\"\"\n\u001b[0;32m-> 1237\u001b[0;31m         \u001b[0;32mreturn\u001b[0m \u001b[0mlist\u001b[0m\u001b[0;34m(\u001b[0m\u001b[0mself\u001b[0m\u001b[0;34m.\u001b[0m\u001b[0msentences_from_text\u001b[0m\u001b[0;34m(\u001b[0m\u001b[0mtext\u001b[0m\u001b[0;34m,\u001b[0m \u001b[0mrealign_boundaries\u001b[0m\u001b[0;34m)\u001b[0m\u001b[0;34m)\u001b[0m\u001b[0;34m\u001b[0m\u001b[0;34m\u001b[0m\u001b[0m\n\u001b[0m\u001b[1;32m   1238\u001b[0m \u001b[0;34m\u001b[0m\u001b[0m\n\u001b[1;32m   1239\u001b[0m     \u001b[0;32mdef\u001b[0m \u001b[0mdebug_decisions\u001b[0m\u001b[0;34m(\u001b[0m\u001b[0mself\u001b[0m\u001b[0;34m,\u001b[0m \u001b[0mtext\u001b[0m\u001b[0;34m)\u001b[0m\u001b[0;34m:\u001b[0m\u001b[0;34m\u001b[0m\u001b[0;34m\u001b[0m\u001b[0m\n",
            "\u001b[0;32m/usr/local/lib/python3.6/dist-packages/nltk/tokenize/punkt.py\u001b[0m in \u001b[0;36msentences_from_text\u001b[0;34m(self, text, realign_boundaries)\u001b[0m\n\u001b[1;32m   1283\u001b[0m         \u001b[0mfollows\u001b[0m \u001b[0mthe\u001b[0m \u001b[0mperiod\u001b[0m\u001b[0;34m.\u001b[0m\u001b[0;34m\u001b[0m\u001b[0;34m\u001b[0m\u001b[0m\n\u001b[1;32m   1284\u001b[0m         \"\"\"\n\u001b[0;32m-> 1285\u001b[0;31m         \u001b[0;32mreturn\u001b[0m \u001b[0;34m[\u001b[0m\u001b[0mtext\u001b[0m\u001b[0;34m[\u001b[0m\u001b[0ms\u001b[0m\u001b[0;34m:\u001b[0m\u001b[0me\u001b[0m\u001b[0;34m]\u001b[0m \u001b[0;32mfor\u001b[0m \u001b[0ms\u001b[0m\u001b[0;34m,\u001b[0m \u001b[0me\u001b[0m \u001b[0;32min\u001b[0m \u001b[0mself\u001b[0m\u001b[0;34m.\u001b[0m\u001b[0mspan_tokenize\u001b[0m\u001b[0;34m(\u001b[0m\u001b[0mtext\u001b[0m\u001b[0;34m,\u001b[0m \u001b[0mrealign_boundaries\u001b[0m\u001b[0;34m)\u001b[0m\u001b[0;34m]\u001b[0m\u001b[0;34m\u001b[0m\u001b[0;34m\u001b[0m\u001b[0m\n\u001b[0m\u001b[1;32m   1286\u001b[0m \u001b[0;34m\u001b[0m\u001b[0m\n\u001b[1;32m   1287\u001b[0m     \u001b[0;32mdef\u001b[0m \u001b[0m_slices_from_text\u001b[0m\u001b[0;34m(\u001b[0m\u001b[0mself\u001b[0m\u001b[0;34m,\u001b[0m \u001b[0mtext\u001b[0m\u001b[0;34m)\u001b[0m\u001b[0;34m:\u001b[0m\u001b[0;34m\u001b[0m\u001b[0;34m\u001b[0m\u001b[0m\n",
            "\u001b[0;32m/usr/local/lib/python3.6/dist-packages/nltk/tokenize/punkt.py\u001b[0m in \u001b[0;36mspan_tokenize\u001b[0;34m(self, text, realign_boundaries)\u001b[0m\n\u001b[1;32m   1274\u001b[0m         \u001b[0;32mif\u001b[0m \u001b[0mrealign_boundaries\u001b[0m\u001b[0;34m:\u001b[0m\u001b[0;34m\u001b[0m\u001b[0;34m\u001b[0m\u001b[0m\n\u001b[1;32m   1275\u001b[0m             \u001b[0mslices\u001b[0m \u001b[0;34m=\u001b[0m \u001b[0mself\u001b[0m\u001b[0;34m.\u001b[0m\u001b[0m_realign_boundaries\u001b[0m\u001b[0;34m(\u001b[0m\u001b[0mtext\u001b[0m\u001b[0;34m,\u001b[0m \u001b[0mslices\u001b[0m\u001b[0;34m)\u001b[0m\u001b[0;34m\u001b[0m\u001b[0;34m\u001b[0m\u001b[0m\n\u001b[0;32m-> 1276\u001b[0;31m         \u001b[0;32mreturn\u001b[0m \u001b[0;34m[\u001b[0m\u001b[0;34m(\u001b[0m\u001b[0msl\u001b[0m\u001b[0;34m.\u001b[0m\u001b[0mstart\u001b[0m\u001b[0;34m,\u001b[0m \u001b[0msl\u001b[0m\u001b[0;34m.\u001b[0m\u001b[0mstop\u001b[0m\u001b[0;34m)\u001b[0m \u001b[0;32mfor\u001b[0m \u001b[0msl\u001b[0m \u001b[0;32min\u001b[0m \u001b[0mslices\u001b[0m\u001b[0;34m]\u001b[0m\u001b[0;34m\u001b[0m\u001b[0;34m\u001b[0m\u001b[0m\n\u001b[0m\u001b[1;32m   1277\u001b[0m \u001b[0;34m\u001b[0m\u001b[0m\n\u001b[1;32m   1278\u001b[0m     \u001b[0;32mdef\u001b[0m \u001b[0msentences_from_text\u001b[0m\u001b[0;34m(\u001b[0m\u001b[0mself\u001b[0m\u001b[0;34m,\u001b[0m \u001b[0mtext\u001b[0m\u001b[0;34m,\u001b[0m \u001b[0mrealign_boundaries\u001b[0m\u001b[0;34m=\u001b[0m\u001b[0;32mTrue\u001b[0m\u001b[0;34m)\u001b[0m\u001b[0;34m:\u001b[0m\u001b[0;34m\u001b[0m\u001b[0;34m\u001b[0m\u001b[0m\n",
            "\u001b[0;32m/usr/local/lib/python3.6/dist-packages/nltk/tokenize/punkt.py\u001b[0m in \u001b[0;36m<listcomp>\u001b[0;34m(.0)\u001b[0m\n\u001b[1;32m   1274\u001b[0m         \u001b[0;32mif\u001b[0m \u001b[0mrealign_boundaries\u001b[0m\u001b[0;34m:\u001b[0m\u001b[0;34m\u001b[0m\u001b[0;34m\u001b[0m\u001b[0m\n\u001b[1;32m   1275\u001b[0m             \u001b[0mslices\u001b[0m \u001b[0;34m=\u001b[0m \u001b[0mself\u001b[0m\u001b[0;34m.\u001b[0m\u001b[0m_realign_boundaries\u001b[0m\u001b[0;34m(\u001b[0m\u001b[0mtext\u001b[0m\u001b[0;34m,\u001b[0m \u001b[0mslices\u001b[0m\u001b[0;34m)\u001b[0m\u001b[0;34m\u001b[0m\u001b[0;34m\u001b[0m\u001b[0m\n\u001b[0;32m-> 1276\u001b[0;31m         \u001b[0;32mreturn\u001b[0m \u001b[0;34m[\u001b[0m\u001b[0;34m(\u001b[0m\u001b[0msl\u001b[0m\u001b[0;34m.\u001b[0m\u001b[0mstart\u001b[0m\u001b[0;34m,\u001b[0m \u001b[0msl\u001b[0m\u001b[0;34m.\u001b[0m\u001b[0mstop\u001b[0m\u001b[0;34m)\u001b[0m \u001b[0;32mfor\u001b[0m \u001b[0msl\u001b[0m \u001b[0;32min\u001b[0m \u001b[0mslices\u001b[0m\u001b[0;34m]\u001b[0m\u001b[0;34m\u001b[0m\u001b[0;34m\u001b[0m\u001b[0m\n\u001b[0m\u001b[1;32m   1277\u001b[0m \u001b[0;34m\u001b[0m\u001b[0m\n\u001b[1;32m   1278\u001b[0m     \u001b[0;32mdef\u001b[0m \u001b[0msentences_from_text\u001b[0m\u001b[0;34m(\u001b[0m\u001b[0mself\u001b[0m\u001b[0;34m,\u001b[0m \u001b[0mtext\u001b[0m\u001b[0;34m,\u001b[0m \u001b[0mrealign_boundaries\u001b[0m\u001b[0;34m=\u001b[0m\u001b[0;32mTrue\u001b[0m\u001b[0;34m)\u001b[0m\u001b[0;34m:\u001b[0m\u001b[0;34m\u001b[0m\u001b[0;34m\u001b[0m\u001b[0m\n",
            "\u001b[0;32m/usr/local/lib/python3.6/dist-packages/nltk/tokenize/punkt.py\u001b[0m in \u001b[0;36m_realign_boundaries\u001b[0;34m(self, text, slices)\u001b[0m\n\u001b[1;32m   1314\u001b[0m         \"\"\"\n\u001b[1;32m   1315\u001b[0m         \u001b[0mrealign\u001b[0m \u001b[0;34m=\u001b[0m \u001b[0;36m0\u001b[0m\u001b[0;34m\u001b[0m\u001b[0;34m\u001b[0m\u001b[0m\n\u001b[0;32m-> 1316\u001b[0;31m         \u001b[0;32mfor\u001b[0m \u001b[0msl1\u001b[0m\u001b[0;34m,\u001b[0m \u001b[0msl2\u001b[0m \u001b[0;32min\u001b[0m \u001b[0m_pair_iter\u001b[0m\u001b[0;34m(\u001b[0m\u001b[0mslices\u001b[0m\u001b[0;34m)\u001b[0m\u001b[0;34m:\u001b[0m\u001b[0;34m\u001b[0m\u001b[0;34m\u001b[0m\u001b[0m\n\u001b[0m\u001b[1;32m   1317\u001b[0m             \u001b[0msl1\u001b[0m \u001b[0;34m=\u001b[0m \u001b[0mslice\u001b[0m\u001b[0;34m(\u001b[0m\u001b[0msl1\u001b[0m\u001b[0;34m.\u001b[0m\u001b[0mstart\u001b[0m \u001b[0;34m+\u001b[0m \u001b[0mrealign\u001b[0m\u001b[0;34m,\u001b[0m \u001b[0msl1\u001b[0m\u001b[0;34m.\u001b[0m\u001b[0mstop\u001b[0m\u001b[0;34m)\u001b[0m\u001b[0;34m\u001b[0m\u001b[0;34m\u001b[0m\u001b[0m\n\u001b[1;32m   1318\u001b[0m             \u001b[0;32mif\u001b[0m \u001b[0;32mnot\u001b[0m \u001b[0msl2\u001b[0m\u001b[0;34m:\u001b[0m\u001b[0;34m\u001b[0m\u001b[0;34m\u001b[0m\u001b[0m\n",
            "\u001b[0;32m/usr/local/lib/python3.6/dist-packages/nltk/tokenize/punkt.py\u001b[0m in \u001b[0;36m_pair_iter\u001b[0;34m(it)\u001b[0m\n\u001b[1;32m    310\u001b[0m     \"\"\"\n\u001b[1;32m    311\u001b[0m     \u001b[0mit\u001b[0m \u001b[0;34m=\u001b[0m \u001b[0miter\u001b[0m\u001b[0;34m(\u001b[0m\u001b[0mit\u001b[0m\u001b[0;34m)\u001b[0m\u001b[0;34m\u001b[0m\u001b[0;34m\u001b[0m\u001b[0m\n\u001b[0;32m--> 312\u001b[0;31m     \u001b[0mprev\u001b[0m \u001b[0;34m=\u001b[0m \u001b[0mnext\u001b[0m\u001b[0;34m(\u001b[0m\u001b[0mit\u001b[0m\u001b[0;34m)\u001b[0m\u001b[0;34m\u001b[0m\u001b[0;34m\u001b[0m\u001b[0m\n\u001b[0m\u001b[1;32m    313\u001b[0m     \u001b[0;32mfor\u001b[0m \u001b[0mel\u001b[0m \u001b[0;32min\u001b[0m \u001b[0mit\u001b[0m\u001b[0;34m:\u001b[0m\u001b[0;34m\u001b[0m\u001b[0;34m\u001b[0m\u001b[0m\n\u001b[1;32m    314\u001b[0m         \u001b[0;32myield\u001b[0m \u001b[0;34m(\u001b[0m\u001b[0mprev\u001b[0m\u001b[0;34m,\u001b[0m \u001b[0mel\u001b[0m\u001b[0;34m)\u001b[0m\u001b[0;34m\u001b[0m\u001b[0;34m\u001b[0m\u001b[0m\n",
            "\u001b[0;32m/usr/local/lib/python3.6/dist-packages/nltk/tokenize/punkt.py\u001b[0m in \u001b[0;36m_slices_from_text\u001b[0;34m(self, text)\u001b[0m\n\u001b[1;32m   1287\u001b[0m     \u001b[0;32mdef\u001b[0m \u001b[0m_slices_from_text\u001b[0m\u001b[0;34m(\u001b[0m\u001b[0mself\u001b[0m\u001b[0;34m,\u001b[0m \u001b[0mtext\u001b[0m\u001b[0;34m)\u001b[0m\u001b[0;34m:\u001b[0m\u001b[0;34m\u001b[0m\u001b[0;34m\u001b[0m\u001b[0m\n\u001b[1;32m   1288\u001b[0m         \u001b[0mlast_break\u001b[0m \u001b[0;34m=\u001b[0m \u001b[0;36m0\u001b[0m\u001b[0;34m\u001b[0m\u001b[0;34m\u001b[0m\u001b[0m\n\u001b[0;32m-> 1289\u001b[0;31m         \u001b[0;32mfor\u001b[0m \u001b[0mmatch\u001b[0m \u001b[0;32min\u001b[0m \u001b[0mself\u001b[0m\u001b[0;34m.\u001b[0m\u001b[0m_lang_vars\u001b[0m\u001b[0;34m.\u001b[0m\u001b[0mperiod_context_re\u001b[0m\u001b[0;34m(\u001b[0m\u001b[0;34m)\u001b[0m\u001b[0;34m.\u001b[0m\u001b[0mfinditer\u001b[0m\u001b[0;34m(\u001b[0m\u001b[0mtext\u001b[0m\u001b[0;34m)\u001b[0m\u001b[0;34m:\u001b[0m\u001b[0;34m\u001b[0m\u001b[0;34m\u001b[0m\u001b[0m\n\u001b[0m\u001b[1;32m   1290\u001b[0m             \u001b[0mcontext\u001b[0m \u001b[0;34m=\u001b[0m \u001b[0mmatch\u001b[0m\u001b[0;34m.\u001b[0m\u001b[0mgroup\u001b[0m\u001b[0;34m(\u001b[0m\u001b[0;34m)\u001b[0m \u001b[0;34m+\u001b[0m \u001b[0mmatch\u001b[0m\u001b[0;34m.\u001b[0m\u001b[0mgroup\u001b[0m\u001b[0;34m(\u001b[0m\u001b[0;34m'after_tok'\u001b[0m\u001b[0;34m)\u001b[0m\u001b[0;34m\u001b[0m\u001b[0;34m\u001b[0m\u001b[0m\n\u001b[1;32m   1291\u001b[0m             \u001b[0;32mif\u001b[0m \u001b[0mself\u001b[0m\u001b[0;34m.\u001b[0m\u001b[0mtext_contains_sentbreak\u001b[0m\u001b[0;34m(\u001b[0m\u001b[0mcontext\u001b[0m\u001b[0;34m)\u001b[0m\u001b[0;34m:\u001b[0m\u001b[0;34m\u001b[0m\u001b[0;34m\u001b[0m\u001b[0m\n",
            "\u001b[0;31mTypeError\u001b[0m: expected string or bytes-like object"
          ]
        }
      ]
    },
    {
      "cell_type": "markdown",
      "metadata": {
        "id": "KAvNMtHbxYCQ",
        "colab_type": "text"
      },
      "source": [
        "## Influencers' influence"
      ]
    },
    {
      "cell_type": "code",
      "metadata": {
        "id": "FMtH8HLXxcak",
        "colab_type": "code",
        "outputId": "188e465e-192f-4f87-e40f-d1bf93312a07",
        "colab": {
          "base_uri": "https://localhost:8080/",
          "height": 400
        }
      },
      "source": [
        "# import the dataset\n",
        "influencers = pd.read_csv('/content/influencers.csv')\n",
        "influencers['reviewTime'] = pd.to_datetime(influencers['reviewTime'], format ='%Y-%m-%d')\n",
        "influencers.head(3)"
      ],
      "execution_count": 6,
      "outputs": [
        {
          "output_type": "execute_result",
          "data": {
            "text/html": [
              "<div>\n",
              "<style scoped>\n",
              "    .dataframe tbody tr th:only-of-type {\n",
              "        vertical-align: middle;\n",
              "    }\n",
              "\n",
              "    .dataframe tbody tr th {\n",
              "        vertical-align: top;\n",
              "    }\n",
              "\n",
              "    .dataframe thead th {\n",
              "        text-align: right;\n",
              "    }\n",
              "</style>\n",
              "<table border=\"1\" class=\"dataframe\">\n",
              "  <thead>\n",
              "    <tr style=\"text-align: right;\">\n",
              "      <th></th>\n",
              "      <th>reviewTime</th>\n",
              "      <th>overall</th>\n",
              "      <th>verified</th>\n",
              "      <th>reviewerID</th>\n",
              "      <th>asin</th>\n",
              "      <th>reviewerName</th>\n",
              "      <th>reviewText</th>\n",
              "      <th>summary</th>\n",
              "      <th>unixReviewTime</th>\n",
              "      <th>image</th>\n",
              "      <th>avgVote</th>\n",
              "      <th>influencer</th>\n",
              "      <th>Year</th>\n",
              "      <th>Month</th>\n",
              "      <th>Weekday</th>\n",
              "    </tr>\n",
              "  </thead>\n",
              "  <tbody>\n",
              "    <tr>\n",
              "      <th>0</th>\n",
              "      <td>2016-07-14</td>\n",
              "      <td>4.0</td>\n",
              "      <td>1</td>\n",
              "      <td>A22QN0P5ERNOKR</td>\n",
              "      <td>B01F9N5QXI</td>\n",
              "      <td>Paul M.</td>\n",
              "      <td>&lt;div id=\"video-block-R1K03IBUILYEB0\" class=\"a-...</td>\n",
              "      <td>The only thing \"cheap\" about this budget smart...</td>\n",
              "      <td>1468454400</td>\n",
              "      <td>1</td>\n",
              "      <td>782.0</td>\n",
              "      <td>1</td>\n",
              "      <td>2016</td>\n",
              "      <td>7</td>\n",
              "      <td>3</td>\n",
              "    </tr>\n",
              "    <tr>\n",
              "      <th>1</th>\n",
              "      <td>2015-08-21</td>\n",
              "      <td>5.0</td>\n",
              "      <td>0</td>\n",
              "      <td>AQJ824C2JST96</td>\n",
              "      <td>B00X5RV14Y</td>\n",
              "      <td>Gladius</td>\n",
              "      <td>Anker PowerCore 20100  Review by a Frequent Fl...</td>\n",
              "      <td>Anker PowerCore 20100  Review by a Frequent Fl...</td>\n",
              "      <td>1440115200</td>\n",
              "      <td>0</td>\n",
              "      <td>653.0</td>\n",
              "      <td>1</td>\n",
              "      <td>2015</td>\n",
              "      <td>8</td>\n",
              "      <td>4</td>\n",
              "    </tr>\n",
              "    <tr>\n",
              "      <th>2</th>\n",
              "      <td>2016-02-05</td>\n",
              "      <td>5.0</td>\n",
              "      <td>1</td>\n",
              "      <td>A1BDNTBJ0JWXSL</td>\n",
              "      <td>B019O8YWXE</td>\n",
              "      <td>Wilfred</td>\n",
              "      <td>OVERVIEW\\nThe Huawei Honor 5x is the first of ...</td>\n",
              "      <td>The first real budget phone thats worth the money</td>\n",
              "      <td>1454630400</td>\n",
              "      <td>1</td>\n",
              "      <td>530.0</td>\n",
              "      <td>1</td>\n",
              "      <td>2016</td>\n",
              "      <td>2</td>\n",
              "      <td>4</td>\n",
              "    </tr>\n",
              "  </tbody>\n",
              "</table>\n",
              "</div>"
            ],
            "text/plain": [
              "  reviewTime  overall  verified  ...  Year Month Weekday\n",
              "0 2016-07-14      4.0         1  ...  2016     7       3\n",
              "1 2015-08-21      5.0         0  ...  2015     8       4\n",
              "2 2016-02-05      5.0         1  ...  2016     2       4\n",
              "\n",
              "[3 rows x 15 columns]"
            ]
          },
          "metadata": {
            "tags": []
          },
          "execution_count": 6
        }
      ]
    },
    {
      "cell_type": "code",
      "metadata": {
        "id": "TU8OqiLlpU9S",
        "colab_type": "code",
        "outputId": "2df5a60c-66b3-41aa-ae91-d4d09f7628c6",
        "colab": {
          "base_uri": "https://localhost:8080/",
          "height": 419
        }
      },
      "source": [
        "# whether there are more than 1 influencers in one product\n",
        "inf = influencers.loc[influencers['influencer'] == 1]\n",
        "inf2 = inf.groupby('asin').count().reset_index()\n",
        "inf2 = inf2[['asin','reviewerID']]\n",
        "mask = inf2['reviewerID'] == 1\n",
        "inf3 = inf2[mask] \n",
        "inf3"
      ],
      "execution_count": 7,
      "outputs": [
        {
          "output_type": "execute_result",
          "data": {
            "text/html": [
              "<div>\n",
              "<style scoped>\n",
              "    .dataframe tbody tr th:only-of-type {\n",
              "        vertical-align: middle;\n",
              "    }\n",
              "\n",
              "    .dataframe tbody tr th {\n",
              "        vertical-align: top;\n",
              "    }\n",
              "\n",
              "    .dataframe thead th {\n",
              "        text-align: right;\n",
              "    }\n",
              "</style>\n",
              "<table border=\"1\" class=\"dataframe\">\n",
              "  <thead>\n",
              "    <tr style=\"text-align: right;\">\n",
              "      <th></th>\n",
              "      <th>asin</th>\n",
              "      <th>reviewerID</th>\n",
              "    </tr>\n",
              "  </thead>\n",
              "  <tbody>\n",
              "    <tr>\n",
              "      <th>0</th>\n",
              "      <td>B0002SYC5O</td>\n",
              "      <td>1</td>\n",
              "    </tr>\n",
              "    <tr>\n",
              "      <th>1</th>\n",
              "      <td>B000FYU4SO</td>\n",
              "      <td>1</td>\n",
              "    </tr>\n",
              "    <tr>\n",
              "      <th>2</th>\n",
              "      <td>B001DETCUG</td>\n",
              "      <td>1</td>\n",
              "    </tr>\n",
              "    <tr>\n",
              "      <th>3</th>\n",
              "      <td>B001UBB9GM</td>\n",
              "      <td>1</td>\n",
              "    </tr>\n",
              "    <tr>\n",
              "      <th>4</th>\n",
              "      <td>B0027FFZEW</td>\n",
              "      <td>1</td>\n",
              "    </tr>\n",
              "    <tr>\n",
              "      <th>...</th>\n",
              "      <td>...</td>\n",
              "      <td>...</td>\n",
              "    </tr>\n",
              "    <tr>\n",
              "      <th>404</th>\n",
              "      <td>B01H2W0576</td>\n",
              "      <td>1</td>\n",
              "    </tr>\n",
              "    <tr>\n",
              "      <th>405</th>\n",
              "      <td>B01H3V07EW</td>\n",
              "      <td>1</td>\n",
              "    </tr>\n",
              "    <tr>\n",
              "      <th>406</th>\n",
              "      <td>B01H3WHNEI</td>\n",
              "      <td>1</td>\n",
              "    </tr>\n",
              "    <tr>\n",
              "      <th>407</th>\n",
              "      <td>B01H477CJS</td>\n",
              "      <td>1</td>\n",
              "    </tr>\n",
              "    <tr>\n",
              "      <th>408</th>\n",
              "      <td>B01H76NIAS</td>\n",
              "      <td>1</td>\n",
              "    </tr>\n",
              "  </tbody>\n",
              "</table>\n",
              "<p>341 rows × 2 columns</p>\n",
              "</div>"
            ],
            "text/plain": [
              "           asin  reviewerID\n",
              "0    B0002SYC5O           1\n",
              "1    B000FYU4SO           1\n",
              "2    B001DETCUG           1\n",
              "3    B001UBB9GM           1\n",
              "4    B0027FFZEW           1\n",
              "..          ...         ...\n",
              "404  B01H2W0576           1\n",
              "405  B01H3V07EW           1\n",
              "406  B01H3WHNEI           1\n",
              "407  B01H477CJS           1\n",
              "408  B01H76NIAS           1\n",
              "\n",
              "[341 rows x 2 columns]"
            ]
          },
          "metadata": {
            "tags": []
          },
          "execution_count": 7
        }
      ]
    },
    {
      "cell_type": "code",
      "metadata": {
        "id": "J7Oh4H0TS7Nd",
        "colab_type": "code",
        "outputId": "5847bc1f-f0d6-4288-a35c-4fda7664ee9b",
        "colab": {
          "base_uri": "https://localhost:8080/",
          "height": 1000
        }
      },
      "source": [
        "# choose 341 unique asin\n",
        "inf_inner = pd.merge(inf,inf3,on='asin',how='right')\n",
        "inf_inner"
      ],
      "execution_count": 8,
      "outputs": [
        {
          "output_type": "execute_result",
          "data": {
            "text/html": [
              "<div>\n",
              "<style scoped>\n",
              "    .dataframe tbody tr th:only-of-type {\n",
              "        vertical-align: middle;\n",
              "    }\n",
              "\n",
              "    .dataframe tbody tr th {\n",
              "        vertical-align: top;\n",
              "    }\n",
              "\n",
              "    .dataframe thead th {\n",
              "        text-align: right;\n",
              "    }\n",
              "</style>\n",
              "<table border=\"1\" class=\"dataframe\">\n",
              "  <thead>\n",
              "    <tr style=\"text-align: right;\">\n",
              "      <th></th>\n",
              "      <th>reviewTime</th>\n",
              "      <th>overall</th>\n",
              "      <th>verified</th>\n",
              "      <th>reviewerID_x</th>\n",
              "      <th>asin</th>\n",
              "      <th>reviewerName</th>\n",
              "      <th>reviewText</th>\n",
              "      <th>summary</th>\n",
              "      <th>unixReviewTime</th>\n",
              "      <th>image</th>\n",
              "      <th>avgVote</th>\n",
              "      <th>influencer</th>\n",
              "      <th>Year</th>\n",
              "      <th>Month</th>\n",
              "      <th>Weekday</th>\n",
              "      <th>reviewerID_y</th>\n",
              "    </tr>\n",
              "  </thead>\n",
              "  <tbody>\n",
              "    <tr>\n",
              "      <th>0</th>\n",
              "      <td>2016-07-14</td>\n",
              "      <td>4.0</td>\n",
              "      <td>1</td>\n",
              "      <td>A22QN0P5ERNOKR</td>\n",
              "      <td>B01F9N5QXI</td>\n",
              "      <td>Paul M.</td>\n",
              "      <td>&lt;div id=\"video-block-R1K03IBUILYEB0\" class=\"a-...</td>\n",
              "      <td>The only thing \"cheap\" about this budget smart...</td>\n",
              "      <td>1468454400</td>\n",
              "      <td>1</td>\n",
              "      <td>782.0</td>\n",
              "      <td>1</td>\n",
              "      <td>2016</td>\n",
              "      <td>7</td>\n",
              "      <td>3</td>\n",
              "      <td>1</td>\n",
              "    </tr>\n",
              "    <tr>\n",
              "      <th>1</th>\n",
              "      <td>2015-12-28</td>\n",
              "      <td>3.0</td>\n",
              "      <td>0</td>\n",
              "      <td>AT63Q5FKZEJ4I</td>\n",
              "      <td>B0176HQ1O8</td>\n",
              "      <td>Jason S.</td>\n",
              "      <td>Okay, first of all, I will leave the feel and ...</td>\n",
              "      <td>Good well rounded product.</td>\n",
              "      <td>1451260800</td>\n",
              "      <td>1</td>\n",
              "      <td>449.0</td>\n",
              "      <td>1</td>\n",
              "      <td>2015</td>\n",
              "      <td>12</td>\n",
              "      <td>0</td>\n",
              "      <td>1</td>\n",
              "    </tr>\n",
              "    <tr>\n",
              "      <th>2</th>\n",
              "      <td>2015-04-30</td>\n",
              "      <td>5.0</td>\n",
              "      <td>1</td>\n",
              "      <td>A284QS51P9P9V1</td>\n",
              "      <td>B00UVSNVHA</td>\n",
              "      <td>TechnicianPrime</td>\n",
              "      <td>*INSTALL NOTE: No instructions included.  Simp...</td>\n",
              "      <td>It's EXACTLY how you'd expect it to be and doe...</td>\n",
              "      <td>1430352000</td>\n",
              "      <td>1</td>\n",
              "      <td>395.0</td>\n",
              "      <td>1</td>\n",
              "      <td>2015</td>\n",
              "      <td>4</td>\n",
              "      <td>3</td>\n",
              "      <td>1</td>\n",
              "    </tr>\n",
              "    <tr>\n",
              "      <th>3</th>\n",
              "      <td>2017-01-25</td>\n",
              "      <td>2.0</td>\n",
              "      <td>1</td>\n",
              "      <td>A25GROL6KJV3QG</td>\n",
              "      <td>B01B1DTASC</td>\n",
              "      <td>Benson Leung</td>\n",
              "      <td>Benson here again doing another USB Type-C acc...</td>\n",
              "      <td>AUKEY PB-Y8 has serious Type-C spec violations...</td>\n",
              "      <td>1485302400</td>\n",
              "      <td>1</td>\n",
              "      <td>329.0</td>\n",
              "      <td>1</td>\n",
              "      <td>2017</td>\n",
              "      <td>1</td>\n",
              "      <td>2</td>\n",
              "      <td>1</td>\n",
              "    </tr>\n",
              "    <tr>\n",
              "      <th>4</th>\n",
              "      <td>2017-10-04</td>\n",
              "      <td>5.0</td>\n",
              "      <td>1</td>\n",
              "      <td>A30NSBS0QMT9KD</td>\n",
              "      <td>B01G1XUCA2</td>\n",
              "      <td>Savvy Online Consumer</td>\n",
              "      <td>This 22,000mAh battery is a bit heavy but feel...</td>\n",
              "      <td>Heavy but Powerful!</td>\n",
              "      <td>1507075200</td>\n",
              "      <td>1</td>\n",
              "      <td>323.0</td>\n",
              "      <td>1</td>\n",
              "      <td>2017</td>\n",
              "      <td>10</td>\n",
              "      <td>2</td>\n",
              "      <td>1</td>\n",
              "    </tr>\n",
              "    <tr>\n",
              "      <th>...</th>\n",
              "      <td>...</td>\n",
              "      <td>...</td>\n",
              "      <td>...</td>\n",
              "      <td>...</td>\n",
              "      <td>...</td>\n",
              "      <td>...</td>\n",
              "      <td>...</td>\n",
              "      <td>...</td>\n",
              "      <td>...</td>\n",
              "      <td>...</td>\n",
              "      <td>...</td>\n",
              "      <td>...</td>\n",
              "      <td>...</td>\n",
              "      <td>...</td>\n",
              "      <td>...</td>\n",
              "      <td>...</td>\n",
              "    </tr>\n",
              "    <tr>\n",
              "      <th>336</th>\n",
              "      <td>2014-10-17</td>\n",
              "      <td>5.0</td>\n",
              "      <td>1</td>\n",
              "      <td>A3PXICZ0O2H3VO</td>\n",
              "      <td>B00HY3HT5A</td>\n",
              "      <td>John Davidson</td>\n",
              "      <td>This is awesome.  I previously had the CM4 cas...</td>\n",
              "      <td>Worth it - absolutely.</td>\n",
              "      <td>1413504000</td>\n",
              "      <td>1</td>\n",
              "      <td>48.0</td>\n",
              "      <td>1</td>\n",
              "      <td>2014</td>\n",
              "      <td>10</td>\n",
              "      <td>4</td>\n",
              "      <td>1</td>\n",
              "    </tr>\n",
              "    <tr>\n",
              "      <th>337</th>\n",
              "      <td>2017-04-27</td>\n",
              "      <td>5.0</td>\n",
              "      <td>1</td>\n",
              "      <td>A2W021AUTMYXFQ</td>\n",
              "      <td>B01D2U6BWU</td>\n",
              "      <td>Amazon Customer</td>\n",
              "      <td>I've had this for a couple months now &amp; love i...</td>\n",
              "      <td>Beautiful &amp; surprisingly sturdy</td>\n",
              "      <td>1493251200</td>\n",
              "      <td>1</td>\n",
              "      <td>48.0</td>\n",
              "      <td>1</td>\n",
              "      <td>2017</td>\n",
              "      <td>4</td>\n",
              "      <td>3</td>\n",
              "      <td>1</td>\n",
              "    </tr>\n",
              "    <tr>\n",
              "      <th>338</th>\n",
              "      <td>2014-07-02</td>\n",
              "      <td>5.0</td>\n",
              "      <td>0</td>\n",
              "      <td>A136QHBYMSF3QA</td>\n",
              "      <td>B00KHY09BE</td>\n",
              "      <td>Ken Hopson</td>\n",
              "      <td>Upgraded from an S3 to an S5 Active. The guy a...</td>\n",
              "      <td>Amazing phone, but be aware of the difference ...</td>\n",
              "      <td>1404259200</td>\n",
              "      <td>0</td>\n",
              "      <td>48.0</td>\n",
              "      <td>1</td>\n",
              "      <td>2014</td>\n",
              "      <td>7</td>\n",
              "      <td>2</td>\n",
              "      <td>1</td>\n",
              "    </tr>\n",
              "    <tr>\n",
              "      <th>339</th>\n",
              "      <td>2016-06-07</td>\n",
              "      <td>5.0</td>\n",
              "      <td>1</td>\n",
              "      <td>A3IHLJ7KSE9DGS</td>\n",
              "      <td>B00YD53FHS</td>\n",
              "      <td>Lala J.</td>\n",
              "      <td>I was scared of receiving this phone because o...</td>\n",
              "      <td>... of receiving this phone because of all of ...</td>\n",
              "      <td>1465257600</td>\n",
              "      <td>0</td>\n",
              "      <td>48.0</td>\n",
              "      <td>1</td>\n",
              "      <td>2016</td>\n",
              "      <td>6</td>\n",
              "      <td>1</td>\n",
              "      <td>1</td>\n",
              "    </tr>\n",
              "    <tr>\n",
              "      <th>340</th>\n",
              "      <td>2017-02-13</td>\n",
              "      <td>5.0</td>\n",
              "      <td>1</td>\n",
              "      <td>AANEOWFDPLCJ5</td>\n",
              "      <td>B01C8A8YKM</td>\n",
              "      <td>Sheila.</td>\n",
              "      <td>I really like this case. I don't carry a purse...</td>\n",
              "      <td>Like the details!!</td>\n",
              "      <td>1486944000</td>\n",
              "      <td>0</td>\n",
              "      <td>48.0</td>\n",
              "      <td>1</td>\n",
              "      <td>2017</td>\n",
              "      <td>2</td>\n",
              "      <td>0</td>\n",
              "      <td>1</td>\n",
              "    </tr>\n",
              "  </tbody>\n",
              "</table>\n",
              "<p>341 rows × 16 columns</p>\n",
              "</div>"
            ],
            "text/plain": [
              "    reviewTime  overall  verified  ... Month Weekday reviewerID_y\n",
              "0   2016-07-14      4.0         1  ...     7       3            1\n",
              "1   2015-12-28      3.0         0  ...    12       0            1\n",
              "2   2015-04-30      5.0         1  ...     4       3            1\n",
              "3   2017-01-25      2.0         1  ...     1       2            1\n",
              "4   2017-10-04      5.0         1  ...    10       2            1\n",
              "..         ...      ...       ...  ...   ...     ...          ...\n",
              "336 2014-10-17      5.0         1  ...    10       4            1\n",
              "337 2017-04-27      5.0         1  ...     4       3            1\n",
              "338 2014-07-02      5.0         0  ...     7       2            1\n",
              "339 2016-06-07      5.0         1  ...     6       1            1\n",
              "340 2017-02-13      5.0         1  ...     2       0            1\n",
              "\n",
              "[341 rows x 16 columns]"
            ]
          },
          "metadata": {
            "tags": []
          },
          "execution_count": 8
        }
      ]
    },
    {
      "cell_type": "code",
      "metadata": {
        "id": "TIIBOvTQynhU",
        "colab_type": "code",
        "outputId": "63d4e678-72fe-4fd1-dda0-491bf347ac3b",
        "colab": {
          "base_uri": "https://localhost:8080/",
          "height": 419
        }
      },
      "source": [
        "# set index for the review date of 341 unique influncers\n",
        "reviewtime = inf_inner['reviewTime'].to_frame()\n",
        "reviewtime['asin'] = inf_inner['asin']\n",
        "reviewtime['label'] = reviewtime.index\n",
        "reviewtime"
      ],
      "execution_count": 9,
      "outputs": [
        {
          "output_type": "execute_result",
          "data": {
            "text/html": [
              "<div>\n",
              "<style scoped>\n",
              "    .dataframe tbody tr th:only-of-type {\n",
              "        vertical-align: middle;\n",
              "    }\n",
              "\n",
              "    .dataframe tbody tr th {\n",
              "        vertical-align: top;\n",
              "    }\n",
              "\n",
              "    .dataframe thead th {\n",
              "        text-align: right;\n",
              "    }\n",
              "</style>\n",
              "<table border=\"1\" class=\"dataframe\">\n",
              "  <thead>\n",
              "    <tr style=\"text-align: right;\">\n",
              "      <th></th>\n",
              "      <th>reviewTime</th>\n",
              "      <th>asin</th>\n",
              "      <th>label</th>\n",
              "    </tr>\n",
              "  </thead>\n",
              "  <tbody>\n",
              "    <tr>\n",
              "      <th>0</th>\n",
              "      <td>2016-07-14</td>\n",
              "      <td>B01F9N5QXI</td>\n",
              "      <td>0</td>\n",
              "    </tr>\n",
              "    <tr>\n",
              "      <th>1</th>\n",
              "      <td>2015-12-28</td>\n",
              "      <td>B0176HQ1O8</td>\n",
              "      <td>1</td>\n",
              "    </tr>\n",
              "    <tr>\n",
              "      <th>2</th>\n",
              "      <td>2015-04-30</td>\n",
              "      <td>B00UVSNVHA</td>\n",
              "      <td>2</td>\n",
              "    </tr>\n",
              "    <tr>\n",
              "      <th>3</th>\n",
              "      <td>2017-01-25</td>\n",
              "      <td>B01B1DTASC</td>\n",
              "      <td>3</td>\n",
              "    </tr>\n",
              "    <tr>\n",
              "      <th>4</th>\n",
              "      <td>2017-10-04</td>\n",
              "      <td>B01G1XUCA2</td>\n",
              "      <td>4</td>\n",
              "    </tr>\n",
              "    <tr>\n",
              "      <th>...</th>\n",
              "      <td>...</td>\n",
              "      <td>...</td>\n",
              "      <td>...</td>\n",
              "    </tr>\n",
              "    <tr>\n",
              "      <th>336</th>\n",
              "      <td>2014-10-17</td>\n",
              "      <td>B00HY3HT5A</td>\n",
              "      <td>336</td>\n",
              "    </tr>\n",
              "    <tr>\n",
              "      <th>337</th>\n",
              "      <td>2017-04-27</td>\n",
              "      <td>B01D2U6BWU</td>\n",
              "      <td>337</td>\n",
              "    </tr>\n",
              "    <tr>\n",
              "      <th>338</th>\n",
              "      <td>2014-07-02</td>\n",
              "      <td>B00KHY09BE</td>\n",
              "      <td>338</td>\n",
              "    </tr>\n",
              "    <tr>\n",
              "      <th>339</th>\n",
              "      <td>2016-06-07</td>\n",
              "      <td>B00YD53FHS</td>\n",
              "      <td>339</td>\n",
              "    </tr>\n",
              "    <tr>\n",
              "      <th>340</th>\n",
              "      <td>2017-02-13</td>\n",
              "      <td>B01C8A8YKM</td>\n",
              "      <td>340</td>\n",
              "    </tr>\n",
              "  </tbody>\n",
              "</table>\n",
              "<p>341 rows × 3 columns</p>\n",
              "</div>"
            ],
            "text/plain": [
              "    reviewTime        asin  label\n",
              "0   2016-07-14  B01F9N5QXI      0\n",
              "1   2015-12-28  B0176HQ1O8      1\n",
              "2   2015-04-30  B00UVSNVHA      2\n",
              "3   2017-01-25  B01B1DTASC      3\n",
              "4   2017-10-04  B01G1XUCA2      4\n",
              "..         ...         ...    ...\n",
              "336 2014-10-17  B00HY3HT5A    336\n",
              "337 2017-04-27  B01D2U6BWU    337\n",
              "338 2014-07-02  B00KHY09BE    338\n",
              "339 2016-06-07  B00YD53FHS    339\n",
              "340 2017-02-13  B01C8A8YKM    340\n",
              "\n",
              "[341 rows x 3 columns]"
            ]
          },
          "metadata": {
            "tags": []
          },
          "execution_count": 9
        }
      ]
    },
    {
      "cell_type": "code",
      "metadata": {
        "id": "BHqmxM2k6QU0",
        "colab_type": "code",
        "outputId": "606ac7ff-b1f4-47c3-94ca-d2eef9341b32",
        "colab": {
          "base_uri": "https://localhost:8080/",
          "height": 419
        }
      },
      "source": [
        "# Extract the review time\n",
        "# Count the reviewText\n",
        "# Filter by asin\n",
        "df['reviewTime'] = pd.to_datetime(df['reviewTime'], format ='%m %d, %Y')\n",
        "timecount_draft = df[['asin','reviewTime','reviewText']].groupby(['asin','reviewTime']).count()\n",
        "timecount_draft = timecount_draft.reset_index()\n",
        "timecount_draft"
      ],
      "execution_count": 10,
      "outputs": [
        {
          "output_type": "execute_result",
          "data": {
            "text/html": [
              "<div>\n",
              "<style scoped>\n",
              "    .dataframe tbody tr th:only-of-type {\n",
              "        vertical-align: middle;\n",
              "    }\n",
              "\n",
              "    .dataframe tbody tr th {\n",
              "        vertical-align: top;\n",
              "    }\n",
              "\n",
              "    .dataframe thead th {\n",
              "        text-align: right;\n",
              "    }\n",
              "</style>\n",
              "<table border=\"1\" class=\"dataframe\">\n",
              "  <thead>\n",
              "    <tr style=\"text-align: right;\">\n",
              "      <th></th>\n",
              "      <th>asin</th>\n",
              "      <th>reviewTime</th>\n",
              "      <th>reviewText</th>\n",
              "    </tr>\n",
              "  </thead>\n",
              "  <tbody>\n",
              "    <tr>\n",
              "      <th>0</th>\n",
              "      <td>7508492919</td>\n",
              "      <td>2012-07-17</td>\n",
              "      <td>1</td>\n",
              "    </tr>\n",
              "    <tr>\n",
              "      <th>1</th>\n",
              "      <td>7508492919</td>\n",
              "      <td>2012-07-27</td>\n",
              "      <td>1</td>\n",
              "    </tr>\n",
              "    <tr>\n",
              "      <th>2</th>\n",
              "      <td>7508492919</td>\n",
              "      <td>2012-10-08</td>\n",
              "      <td>2</td>\n",
              "    </tr>\n",
              "    <tr>\n",
              "      <th>3</th>\n",
              "      <td>7508492919</td>\n",
              "      <td>2012-10-25</td>\n",
              "      <td>1</td>\n",
              "    </tr>\n",
              "    <tr>\n",
              "      <th>4</th>\n",
              "      <td>7508492919</td>\n",
              "      <td>2012-10-31</td>\n",
              "      <td>1</td>\n",
              "    </tr>\n",
              "    <tr>\n",
              "      <th>...</th>\n",
              "      <td>...</td>\n",
              "      <td>...</td>\n",
              "      <td>...</td>\n",
              "    </tr>\n",
              "    <tr>\n",
              "      <th>1031188</th>\n",
              "      <td>B01HJH9IN6</td>\n",
              "      <td>2016-11-23</td>\n",
              "      <td>1</td>\n",
              "    </tr>\n",
              "    <tr>\n",
              "      <th>1031189</th>\n",
              "      <td>B01HJH9IN6</td>\n",
              "      <td>2016-12-13</td>\n",
              "      <td>1</td>\n",
              "    </tr>\n",
              "    <tr>\n",
              "      <th>1031190</th>\n",
              "      <td>B01HJH9IN6</td>\n",
              "      <td>2017-01-02</td>\n",
              "      <td>1</td>\n",
              "    </tr>\n",
              "    <tr>\n",
              "      <th>1031191</th>\n",
              "      <td>B01HJH9IN6</td>\n",
              "      <td>2017-01-05</td>\n",
              "      <td>1</td>\n",
              "    </tr>\n",
              "    <tr>\n",
              "      <th>1031192</th>\n",
              "      <td>B01HJH9IN6</td>\n",
              "      <td>2017-05-11</td>\n",
              "      <td>1</td>\n",
              "    </tr>\n",
              "  </tbody>\n",
              "</table>\n",
              "<p>1031193 rows × 3 columns</p>\n",
              "</div>"
            ],
            "text/plain": [
              "               asin reviewTime  reviewText\n",
              "0        7508492919 2012-07-17           1\n",
              "1        7508492919 2012-07-27           1\n",
              "2        7508492919 2012-10-08           2\n",
              "3        7508492919 2012-10-25           1\n",
              "4        7508492919 2012-10-31           1\n",
              "...             ...        ...         ...\n",
              "1031188  B01HJH9IN6 2016-11-23           1\n",
              "1031189  B01HJH9IN6 2016-12-13           1\n",
              "1031190  B01HJH9IN6 2017-01-02           1\n",
              "1031191  B01HJH9IN6 2017-01-05           1\n",
              "1031192  B01HJH9IN6 2017-05-11           1\n",
              "\n",
              "[1031193 rows x 3 columns]"
            ]
          },
          "metadata": {
            "tags": []
          },
          "execution_count": 10
        }
      ]
    },
    {
      "cell_type": "code",
      "metadata": {
        "id": "rWbjFAxiQbIY",
        "colab_type": "code",
        "outputId": "62ab79fc-d687-40e2-a20f-dbe116e7d2df",
        "colab": {
          "base_uri": "https://localhost:8080/",
          "height": 419
        }
      },
      "source": [
        "# Combine the timecount and inf3 - create a dataset that contains certain productID\n",
        "timecount = pd.merge(timecount_draft,inf3,on = 'asin',how = 'right')\n",
        "timecount = timecount[['asin','reviewTime','reviewText']]\n",
        "timecount"
      ],
      "execution_count": 11,
      "outputs": [
        {
          "output_type": "execute_result",
          "data": {
            "text/html": [
              "<div>\n",
              "<style scoped>\n",
              "    .dataframe tbody tr th:only-of-type {\n",
              "        vertical-align: middle;\n",
              "    }\n",
              "\n",
              "    .dataframe tbody tr th {\n",
              "        vertical-align: top;\n",
              "    }\n",
              "\n",
              "    .dataframe thead th {\n",
              "        text-align: right;\n",
              "    }\n",
              "</style>\n",
              "<table border=\"1\" class=\"dataframe\">\n",
              "  <thead>\n",
              "    <tr style=\"text-align: right;\">\n",
              "      <th></th>\n",
              "      <th>asin</th>\n",
              "      <th>reviewTime</th>\n",
              "      <th>reviewText</th>\n",
              "    </tr>\n",
              "  </thead>\n",
              "  <tbody>\n",
              "    <tr>\n",
              "      <th>0</th>\n",
              "      <td>B0002SYC5O</td>\n",
              "      <td>2014-01-14</td>\n",
              "      <td>1</td>\n",
              "    </tr>\n",
              "    <tr>\n",
              "      <th>1</th>\n",
              "      <td>B0002SYC5O</td>\n",
              "      <td>2014-03-08</td>\n",
              "      <td>1</td>\n",
              "    </tr>\n",
              "    <tr>\n",
              "      <th>2</th>\n",
              "      <td>B0002SYC5O</td>\n",
              "      <td>2014-03-13</td>\n",
              "      <td>1</td>\n",
              "    </tr>\n",
              "    <tr>\n",
              "      <th>3</th>\n",
              "      <td>B0002SYC5O</td>\n",
              "      <td>2014-04-09</td>\n",
              "      <td>1</td>\n",
              "    </tr>\n",
              "    <tr>\n",
              "      <th>4</th>\n",
              "      <td>B0002SYC5O</td>\n",
              "      <td>2014-04-12</td>\n",
              "      <td>1</td>\n",
              "    </tr>\n",
              "    <tr>\n",
              "      <th>...</th>\n",
              "      <td>...</td>\n",
              "      <td>...</td>\n",
              "      <td>...</td>\n",
              "    </tr>\n",
              "    <tr>\n",
              "      <th>44976</th>\n",
              "      <td>B01H76NIAS</td>\n",
              "      <td>2018-08-29</td>\n",
              "      <td>1</td>\n",
              "    </tr>\n",
              "    <tr>\n",
              "      <th>44977</th>\n",
              "      <td>B01H76NIAS</td>\n",
              "      <td>2018-09-05</td>\n",
              "      <td>1</td>\n",
              "    </tr>\n",
              "    <tr>\n",
              "      <th>44978</th>\n",
              "      <td>B01H76NIAS</td>\n",
              "      <td>2018-09-12</td>\n",
              "      <td>1</td>\n",
              "    </tr>\n",
              "    <tr>\n",
              "      <th>44979</th>\n",
              "      <td>B01H76NIAS</td>\n",
              "      <td>2018-09-25</td>\n",
              "      <td>1</td>\n",
              "    </tr>\n",
              "    <tr>\n",
              "      <th>44980</th>\n",
              "      <td>B01H76NIAS</td>\n",
              "      <td>2018-09-26</td>\n",
              "      <td>1</td>\n",
              "    </tr>\n",
              "  </tbody>\n",
              "</table>\n",
              "<p>44981 rows × 3 columns</p>\n",
              "</div>"
            ],
            "text/plain": [
              "             asin reviewTime  reviewText\n",
              "0      B0002SYC5O 2014-01-14           1\n",
              "1      B0002SYC5O 2014-03-08           1\n",
              "2      B0002SYC5O 2014-03-13           1\n",
              "3      B0002SYC5O 2014-04-09           1\n",
              "4      B0002SYC5O 2014-04-12           1\n",
              "...           ...        ...         ...\n",
              "44976  B01H76NIAS 2018-08-29           1\n",
              "44977  B01H76NIAS 2018-09-05           1\n",
              "44978  B01H76NIAS 2018-09-12           1\n",
              "44979  B01H76NIAS 2018-09-25           1\n",
              "44980  B01H76NIAS 2018-09-26           1\n",
              "\n",
              "[44981 rows x 3 columns]"
            ]
          },
          "metadata": {
            "tags": []
          },
          "execution_count": 11
        }
      ]
    },
    {
      "cell_type": "markdown",
      "metadata": {
        "id": "HF4zwoNzUCnl",
        "colab_type": "text"
      },
      "source": [
        "Now we can use reviewtime and timecount datasets to calculate the number of comments during specific time for each product"
      ]
    },
    {
      "cell_type": "code",
      "metadata": {
        "id": "1A9YQBvn23hh",
        "colab_type": "code",
        "outputId": "ff0641fe-1bf7-4c1b-9f0d-b153e363434a",
        "colab": {
          "base_uri": "https://localhost:8080/",
          "height": 419
        }
      },
      "source": [
        "# count the number of comments\n",
        "import datetime\n",
        "rows = []\n",
        "for i in range(0,len(reviewtime),1):\n",
        "  mask1 = timecount['asin'] ==  timecount['asin'][i]\n",
        "  timecount_asin = timecount[mask1]\n",
        "  mask2 = (timecount_asin['reviewTime'] > str(reviewtime['reviewTime'][i]-datetime.timedelta(days=60))) & (timecount_asin['reviewTime'] <= str(reviewtime['reviewTime'][i]))\n",
        "  rows.append([reviewtime['reviewTime'][i],reviewtime['asin'][i],timecount_asin.loc[mask2].reviewText.sum()])\n",
        "  i = i + 1\n",
        "  before = pd.DataFrame(rows, columns = ['Time','Asin' , 'Number of comments 60 days before']) \n",
        "before"
      ],
      "execution_count": 12,
      "outputs": [
        {
          "output_type": "execute_result",
          "data": {
            "text/html": [
              "<div>\n",
              "<style scoped>\n",
              "    .dataframe tbody tr th:only-of-type {\n",
              "        vertical-align: middle;\n",
              "    }\n",
              "\n",
              "    .dataframe tbody tr th {\n",
              "        vertical-align: top;\n",
              "    }\n",
              "\n",
              "    .dataframe thead th {\n",
              "        text-align: right;\n",
              "    }\n",
              "</style>\n",
              "<table border=\"1\" class=\"dataframe\">\n",
              "  <thead>\n",
              "    <tr style=\"text-align: right;\">\n",
              "      <th></th>\n",
              "      <th>Time</th>\n",
              "      <th>Asin</th>\n",
              "      <th>Number of comments 60 days before</th>\n",
              "    </tr>\n",
              "  </thead>\n",
              "  <tbody>\n",
              "    <tr>\n",
              "      <th>0</th>\n",
              "      <td>2016-07-14</td>\n",
              "      <td>B01F9N5QXI</td>\n",
              "      <td>4</td>\n",
              "    </tr>\n",
              "    <tr>\n",
              "      <th>1</th>\n",
              "      <td>2015-12-28</td>\n",
              "      <td>B0176HQ1O8</td>\n",
              "      <td>11</td>\n",
              "    </tr>\n",
              "    <tr>\n",
              "      <th>2</th>\n",
              "      <td>2015-04-30</td>\n",
              "      <td>B00UVSNVHA</td>\n",
              "      <td>8</td>\n",
              "    </tr>\n",
              "    <tr>\n",
              "      <th>3</th>\n",
              "      <td>2017-01-25</td>\n",
              "      <td>B01B1DTASC</td>\n",
              "      <td>10</td>\n",
              "    </tr>\n",
              "    <tr>\n",
              "      <th>4</th>\n",
              "      <td>2017-10-04</td>\n",
              "      <td>B01G1XUCA2</td>\n",
              "      <td>2</td>\n",
              "    </tr>\n",
              "    <tr>\n",
              "      <th>...</th>\n",
              "      <td>...</td>\n",
              "      <td>...</td>\n",
              "      <td>...</td>\n",
              "    </tr>\n",
              "    <tr>\n",
              "      <th>336</th>\n",
              "      <td>2014-10-17</td>\n",
              "      <td>B00HY3HT5A</td>\n",
              "      <td>6</td>\n",
              "    </tr>\n",
              "    <tr>\n",
              "      <th>337</th>\n",
              "      <td>2017-04-27</td>\n",
              "      <td>B01D2U6BWU</td>\n",
              "      <td>0</td>\n",
              "    </tr>\n",
              "    <tr>\n",
              "      <th>338</th>\n",
              "      <td>2014-07-02</td>\n",
              "      <td>B00KHY09BE</td>\n",
              "      <td>3</td>\n",
              "    </tr>\n",
              "    <tr>\n",
              "      <th>339</th>\n",
              "      <td>2016-06-07</td>\n",
              "      <td>B00YD53FHS</td>\n",
              "      <td>1</td>\n",
              "    </tr>\n",
              "    <tr>\n",
              "      <th>340</th>\n",
              "      <td>2017-02-13</td>\n",
              "      <td>B01C8A8YKM</td>\n",
              "      <td>1</td>\n",
              "    </tr>\n",
              "  </tbody>\n",
              "</table>\n",
              "<p>341 rows × 3 columns</p>\n",
              "</div>"
            ],
            "text/plain": [
              "          Time        Asin  Number of comments 60 days before\n",
              "0   2016-07-14  B01F9N5QXI                                  4\n",
              "1   2015-12-28  B0176HQ1O8                                 11\n",
              "2   2015-04-30  B00UVSNVHA                                  8\n",
              "3   2017-01-25  B01B1DTASC                                 10\n",
              "4   2017-10-04  B01G1XUCA2                                  2\n",
              "..         ...         ...                                ...\n",
              "336 2014-10-17  B00HY3HT5A                                  6\n",
              "337 2017-04-27  B01D2U6BWU                                  0\n",
              "338 2014-07-02  B00KHY09BE                                  3\n",
              "339 2016-06-07  B00YD53FHS                                  1\n",
              "340 2017-02-13  B01C8A8YKM                                  1\n",
              "\n",
              "[341 rows x 3 columns]"
            ]
          },
          "metadata": {
            "tags": []
          },
          "execution_count": 12
        }
      ]
    },
    {
      "cell_type": "code",
      "metadata": {
        "id": "83kK8Cw0LWFC",
        "colab_type": "code",
        "outputId": "be14270d-3ec3-45ff-939c-25e7ff48ae68",
        "colab": {
          "base_uri": "https://localhost:8080/",
          "height": 419
        }
      },
      "source": [
        "# count the number of comments\n",
        "import datetime\n",
        "rows = []\n",
        "for i in range(0,len(reviewtime),1):\n",
        "  mask1 = timecount['asin'] ==  timecount['asin'][i]\n",
        "  timecount_asin = timecount[mask1]\n",
        "  mask2 = (timecount_asin['reviewTime'] > str(reviewtime['reviewTime'][i])) & (timecount_asin['reviewTime'] <= str(reviewtime['reviewTime'][i]+ datetime.timedelta(days=60)))\n",
        "  rows.append([reviewtime['reviewTime'][i],reviewtime['asin'][i],timecount_asin.loc[mask2].reviewText.sum()])\n",
        "  i = i + 1\n",
        "  after = pd.DataFrame(rows, columns = ['Time' ,'Asin', 'Number of comments 60 days after']) \n",
        "after"
      ],
      "execution_count": 13,
      "outputs": [
        {
          "output_type": "execute_result",
          "data": {
            "text/html": [
              "<div>\n",
              "<style scoped>\n",
              "    .dataframe tbody tr th:only-of-type {\n",
              "        vertical-align: middle;\n",
              "    }\n",
              "\n",
              "    .dataframe tbody tr th {\n",
              "        vertical-align: top;\n",
              "    }\n",
              "\n",
              "    .dataframe thead th {\n",
              "        text-align: right;\n",
              "    }\n",
              "</style>\n",
              "<table border=\"1\" class=\"dataframe\">\n",
              "  <thead>\n",
              "    <tr style=\"text-align: right;\">\n",
              "      <th></th>\n",
              "      <th>Time</th>\n",
              "      <th>Asin</th>\n",
              "      <th>Number of comments 60 days after</th>\n",
              "    </tr>\n",
              "  </thead>\n",
              "  <tbody>\n",
              "    <tr>\n",
              "      <th>0</th>\n",
              "      <td>2016-07-14</td>\n",
              "      <td>B01F9N5QXI</td>\n",
              "      <td>6</td>\n",
              "    </tr>\n",
              "    <tr>\n",
              "      <th>1</th>\n",
              "      <td>2015-12-28</td>\n",
              "      <td>B0176HQ1O8</td>\n",
              "      <td>9</td>\n",
              "    </tr>\n",
              "    <tr>\n",
              "      <th>2</th>\n",
              "      <td>2015-04-30</td>\n",
              "      <td>B00UVSNVHA</td>\n",
              "      <td>15</td>\n",
              "    </tr>\n",
              "    <tr>\n",
              "      <th>3</th>\n",
              "      <td>2017-01-25</td>\n",
              "      <td>B01B1DTASC</td>\n",
              "      <td>4</td>\n",
              "    </tr>\n",
              "    <tr>\n",
              "      <th>4</th>\n",
              "      <td>2017-10-04</td>\n",
              "      <td>B01G1XUCA2</td>\n",
              "      <td>0</td>\n",
              "    </tr>\n",
              "    <tr>\n",
              "      <th>...</th>\n",
              "      <td>...</td>\n",
              "      <td>...</td>\n",
              "      <td>...</td>\n",
              "    </tr>\n",
              "    <tr>\n",
              "      <th>336</th>\n",
              "      <td>2014-10-17</td>\n",
              "      <td>B00HY3HT5A</td>\n",
              "      <td>4</td>\n",
              "    </tr>\n",
              "    <tr>\n",
              "      <th>337</th>\n",
              "      <td>2017-04-27</td>\n",
              "      <td>B01D2U6BWU</td>\n",
              "      <td>0</td>\n",
              "    </tr>\n",
              "    <tr>\n",
              "      <th>338</th>\n",
              "      <td>2014-07-02</td>\n",
              "      <td>B00KHY09BE</td>\n",
              "      <td>5</td>\n",
              "    </tr>\n",
              "    <tr>\n",
              "      <th>339</th>\n",
              "      <td>2016-06-07</td>\n",
              "      <td>B00YD53FHS</td>\n",
              "      <td>0</td>\n",
              "    </tr>\n",
              "    <tr>\n",
              "      <th>340</th>\n",
              "      <td>2017-02-13</td>\n",
              "      <td>B01C8A8YKM</td>\n",
              "      <td>0</td>\n",
              "    </tr>\n",
              "  </tbody>\n",
              "</table>\n",
              "<p>341 rows × 3 columns</p>\n",
              "</div>"
            ],
            "text/plain": [
              "          Time        Asin  Number of comments 60 days after\n",
              "0   2016-07-14  B01F9N5QXI                                 6\n",
              "1   2015-12-28  B0176HQ1O8                                 9\n",
              "2   2015-04-30  B00UVSNVHA                                15\n",
              "3   2017-01-25  B01B1DTASC                                 4\n",
              "4   2017-10-04  B01G1XUCA2                                 0\n",
              "..         ...         ...                               ...\n",
              "336 2014-10-17  B00HY3HT5A                                 4\n",
              "337 2017-04-27  B01D2U6BWU                                 0\n",
              "338 2014-07-02  B00KHY09BE                                 5\n",
              "339 2016-06-07  B00YD53FHS                                 0\n",
              "340 2017-02-13  B01C8A8YKM                                 0\n",
              "\n",
              "[341 rows x 3 columns]"
            ]
          },
          "metadata": {
            "tags": []
          },
          "execution_count": 13
        }
      ]
    },
    {
      "cell_type": "code",
      "metadata": {
        "id": "QVSjh1KVOFhP",
        "colab_type": "code",
        "outputId": "492ca995-bfaf-4942-b932-2729e51f6118",
        "colab": {
          "base_uri": "https://localhost:8080/",
          "height": 295
        }
      },
      "source": [
        "import matplotlib.pyplot as plt\n",
        " \n",
        "x  = before['Time']\n",
        "y1 = before['Number of comments 60 days before']\n",
        "y2 = after['Number of comments 60 days after']\n",
        "plt.scatter(x, y1, label=\"line Before\")\n",
        "plt.scatter(x, y2, label=\"line After\")\n",
        "plt.plot()\n",
        "\n",
        "plt.xlabel(\"x axis\")\n",
        "plt.ylabel(\"y axis\")\n",
        "plt.title(\"Influencers' impact\")\n",
        "plt.legend()\n",
        "plt.show()"
      ],
      "execution_count": 14,
      "outputs": [
        {
          "output_type": "display_data",
          "data": {
            "image/png": "[encoded data removed]",
            "text/plain": [
              "<Figure size 432x288 with 1 Axes>"
            ]
          },
          "metadata": {
            "tags": [],
            "needs_background": "light"
          }
        }
      ]
    },
    {
      "cell_type": "code",
      "metadata": {
        "id": "jZw750-GTVhW",
        "colab_type": "code",
        "outputId": "2907e467-0670-4349-ccbf-979d876a0246",
        "colab": {
          "base_uri": "https://localhost:8080/",
          "height": 282
        }
      },
      "source": [
        "import matplotlib.pyplot as plt\n",
        "y1 = before['Number of comments 60 days before']\n",
        "y2 = after['Number of comments 60 days after']\n",
        "plt.scatter(y1,y2,alpha = 0.2)\n",
        "xpoints = ypoints = plt.xlim()\n",
        "plt.plot(xpoints, ypoints, linestyle='--', color='k', lw=3, scalex=False, scaley=False)"
      ],
      "execution_count": 15,
      "outputs": [
        {
          "output_type": "execute_result",
          "data": {
            "text/plain": [
              "[<matplotlib.lines.Line2D at 0x7fa513777f28>]"
            ]
          },
          "metadata": {
            "tags": []
          },
          "execution_count": 15
        },
        {
          "output_type": "display_data",
          "data": {
            "image/png": "[encoded data removed]",
            "text/plain": [
              "<Figure size 432x288 with 1 Axes>"
            ]
          },
          "metadata": {
            "tags": [],
            "needs_background": "light"
          }
        }
      ]
    },
    {
      "cell_type": "code",
      "metadata": {
        "id": "rbdW75cbmQVL",
        "colab_type": "code",
        "colab": {
          "base_uri": "https://localhost:8080/",
          "height": 306
        },
        "outputId": "9d39be43-cfc0-4207-99af-6212cf231e2c"
      },
      "source": [
        "# Summarize the number of comments dataset\n",
        "before2 = before[['Asin' , 'Number of comments 60 days before']]\n",
        "comments = pd.merge(before2, after, on = \"Asin\")\n",
        "comments['Diff'] = comments['Number of comments 60 days after'] - comments['Number of comments 60 days before']\n",
        "comments.head(5)"
      ],
      "execution_count": 25,
      "outputs": [
        {
          "output_type": "execute_result",
          "data": {
            "text/html": [
              "<div>\n",
              "<style scoped>\n",
              "    .dataframe tbody tr th:only-of-type {\n",
              "        vertical-align: middle;\n",
              "    }\n",
              "\n",
              "    .dataframe tbody tr th {\n",
              "        vertical-align: top;\n",
              "    }\n",
              "\n",
              "    .dataframe thead th {\n",
              "        text-align: right;\n",
              "    }\n",
              "</style>\n",
              "<table border=\"1\" class=\"dataframe\">\n",
              "  <thead>\n",
              "    <tr style=\"text-align: right;\">\n",
              "      <th></th>\n",
              "      <th>Asin</th>\n",
              "      <th>Number of comments 60 days before</th>\n",
              "      <th>Time</th>\n",
              "      <th>Number of comments 60 days after</th>\n",
              "      <th>Diff</th>\n",
              "    </tr>\n",
              "  </thead>\n",
              "  <tbody>\n",
              "    <tr>\n",
              "      <th>0</th>\n",
              "      <td>B01F9N5QXI</td>\n",
              "      <td>4</td>\n",
              "      <td>2016-07-14</td>\n",
              "      <td>6</td>\n",
              "      <td>2</td>\n",
              "    </tr>\n",
              "    <tr>\n",
              "      <th>1</th>\n",
              "      <td>B0176HQ1O8</td>\n",
              "      <td>11</td>\n",
              "      <td>2015-12-28</td>\n",
              "      <td>9</td>\n",
              "      <td>-2</td>\n",
              "    </tr>\n",
              "    <tr>\n",
              "      <th>2</th>\n",
              "      <td>B00UVSNVHA</td>\n",
              "      <td>8</td>\n",
              "      <td>2015-04-30</td>\n",
              "      <td>15</td>\n",
              "      <td>7</td>\n",
              "    </tr>\n",
              "    <tr>\n",
              "      <th>3</th>\n",
              "      <td>B01B1DTASC</td>\n",
              "      <td>10</td>\n",
              "      <td>2017-01-25</td>\n",
              "      <td>4</td>\n",
              "      <td>-6</td>\n",
              "    </tr>\n",
              "    <tr>\n",
              "      <th>4</th>\n",
              "      <td>B01G1XUCA2</td>\n",
              "      <td>2</td>\n",
              "      <td>2017-10-04</td>\n",
              "      <td>0</td>\n",
              "      <td>-2</td>\n",
              "    </tr>\n",
              "  </tbody>\n",
              "</table>\n",
              "</div>"
            ],
            "text/plain": [
              "         Asin  ...  Diff\n",
              "0  B01F9N5QXI  ...     2\n",
              "1  B0176HQ1O8  ...    -2\n",
              "2  B00UVSNVHA  ...     7\n",
              "3  B01B1DTASC  ...    -6\n",
              "4  B01G1XUCA2  ...    -2\n",
              "\n",
              "[5 rows x 5 columns]"
            ]
          },
          "metadata": {
            "tags": []
          },
          "execution_count": 25
        }
      ]
    },
    {
      "cell_type": "code",
      "metadata": {
        "id": "t0-ffkVFI9L-",
        "colab_type": "code",
        "colab": {
          "base_uri": "https://localhost:8080/",
          "height": 170
        },
        "outputId": "bcd71499-4586-4303-d273-54e87b6a2fe4"
      },
      "source": [
        "comments.Diff.describe()"
      ],
      "execution_count": 26,
      "outputs": [
        {
          "output_type": "execute_result",
          "data": {
            "text/plain": [
              "count    341.000000\n",
              "mean      -0.181818\n",
              "std        3.275905\n",
              "min      -10.000000\n",
              "25%       -2.000000\n",
              "50%        0.000000\n",
              "75%        1.000000\n",
              "max       13.000000\n",
              "Name: Diff, dtype: float64"
            ]
          },
          "metadata": {
            "tags": []
          },
          "execution_count": 26
        }
      ]
    },
    {
      "cell_type": "code",
      "metadata": {
        "id": "caviY3fiJXgf",
        "colab_type": "code",
        "colab": {
          "base_uri": "https://localhost:8080/",
          "height": 295
        },
        "outputId": "65e117da-eef5-4b03-bab1-b3887ac690ce"
      },
      "source": [
        "import numpy as np\n",
        "import matplotlib.pyplot as plt\n",
        "diff = comments['Diff']\n",
        "diff.plot.hist(grid=True, bins=20, rwidth=0.9,\n",
        "                   color='#607c8e')\n",
        "plt.title('Number of Comments 60 days (After - Before)')\n",
        "plt.xlabel('Comments DIFF')\n",
        "plt.ylabel('Count')\n",
        "plt.grid(axis='y', alpha=0.75)"
      ],
      "execution_count": 36,
      "outputs": [
        {
          "output_type": "display_data",
          "data": {
            "image/png": "[encoded data removed]",
            "text/plain": [
              "<Figure size 432x288 with 1 Axes>"
            ]
          },
          "metadata": {
            "tags": [],
            "needs_background": "light"
          }
        }
      ]
    }
  ]
}